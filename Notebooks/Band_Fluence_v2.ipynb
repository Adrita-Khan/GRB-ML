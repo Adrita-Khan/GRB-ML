{
 "cells": [
  {
   "cell_type": "markdown",
   "metadata": {},
   "source": [
    "# GRB Redshift Prediction Using Machine Learning\n",
    "\n",
    "| Section | Content |\n",
    "|---------|---------|\n",
    "| **Title** | **GRB Redshift Prediction Using Machine Learning** |\n",
    "| **Goal** | Predict the redshift (cosmological distance) of Gamma-Ray Bursts (GRBs) using observable properties through a machine learning approach. |\n",
    "\n",
    "## 1. Primary Objective: Redshift Prediction\n",
    "\n",
    "| Component | Description |\n",
    "|-----------|-------------|\n",
    "| **Objective** | Build a stacked ensemble machine learning model to estimate redshift based on GRB observational parameters. |\n",
    "\n",
    "### Input Features and Target\n",
    "\n",
    "| Feature | Description |\n",
    "|---------|-------------|\n",
    "| T90 | Burst duration (in seconds) |\n",
    "| Alpha | Low-energy spectral index |\n",
    "| Beta | High-energy spectral index |\n",
    "| Ep | Peak energy of the spectrum (keV) |\n",
    "| Sbolo | Bolometric fluence (erg/cm²) |\n",
    "| **Target** | Redshift (z) |\n",
    "\n",
    "### Modeling Approach\n",
    "\n",
    "| Component | Description |\n",
    "|-----------|-------------|\n",
    "| Base Learners | Multiple Deep Neural Networks (DNNs) with different architectures |\n",
    "| Meta Learner | Random Forest Regressor |\n",
    "| Ensemble Method | Stacked generalization (stacking) |\n",
    "\n",
    "## 2. Scientific Context\n",
    "\n",
    "| Problem | Significance |\n",
    "|---------|-------------|\n",
    "| Redshift measurement is challenging | Requires spectroscopy, which is expensive and often unavailable |\n",
    "| Many GRBs lack redshift | Limits scientific exploration of GRB properties and cosmic distribution |\n",
    "| ML-based \"pseudo-redshifts\" offer a solution | Enables large-scale statistical studies of GRBs without direct measurements |\n",
    "\n",
    "## 3. Technical Approach\n",
    "\n",
    "### Data Processing\n",
    "\n",
    "| Step | Description |\n",
    "|------|-------------|\n",
    "| Log-transformation | Applied to skewed parameters |\n",
    "| Standardization | Mean-zero, unit-variance scaling for all inputs |\n",
    "\n",
    "### Model Architecture\n",
    "\n",
    "| Model Name | Description |\n",
    "|-----------|-------------|\n",
    "| DNN1 | Shallow neural net with dropout |\n",
    "| DNN2 | Deeper architecture with batch normalization |\n",
    "| DNN3 | Lightweight net with L2 regularization |\n",
    "| DNN4 | Wider net with ReLU activation layers |\n",
    "\n",
    "### Evaluation Metrics\n",
    "\n",
    "| Metric | Purpose |\n",
    "|--------|---------|\n",
    "| R² Score | Measures goodness of fit |\n",
    "| RMSE | Root Mean Square Error |\n",
    "| MAE | Mean Absolute Error |\n",
    "\n",
    "### Validation Method\n",
    "\n",
    "| Method | Description |\n",
    "|--------|-------------|\n",
    "| Kolmogorov-Smirnov (K-S) test | Compare distributions of true and predicted redshifts |\n",
    "| Train/Test split validation | Standard validation approach |\n",
    "\n",
    "## 4. Practical Applications\n",
    "\n",
    "| Application Area | Use Case |\n",
    "|------------------|----------|\n",
    "| Population Studies | Explore GRB distribution over cosmic time |\n",
    "| Cosmological Analyses | Constrain dark energy and star formation models |\n",
    "| Luminosity Function Estimation | Derive GRB energy and brightness distributions |\n",
    "| High-z Candidate Selection | Identify potential high-redshift GRBs for follow-up |\n",
    "\n",
    "## 5. Output Analysis\n",
    "\n",
    "| Analysis Component | Description |\n",
    "|--------------------|-------------|\n",
    "| Visual comparisons | True vs. predicted redshift distributions |\n",
    "| K-S test | Confirms statistical similarity |\n",
    "| Diagnostic plots | Scatter plots, histograms, and residual plots illustrate model performance |"
   ]
  },
  {
   "cell_type": "markdown",
   "metadata": {},
   "source": [
    "### **Statistical Concepts & Intuitions with Typical Ranges**\n",
    "\n",
    "| Concept / Method                            | Description                                                | Intuition                                                                              | Typical Range / Values                                                                                                  |\n",
    "| ------------------------------------------- | ---------------------------------------------------------- | -------------------------------------------------------------------------------------- | ----------------------------------------------------------------------------------------------------------------------- |\n",
    "| **Log Transformation**                      | Applied using `np.log10` on skewed features.               | Compresses scale; transforms multiplicative relationships to additive.                 | Output range depends on input; for positive values, typically `(-∞, +∞)`, but real inputs >0 lead to finite log values. |\n",
    "| **Train-Test Split**                        | Splitting data (e.g., 70% train, 30% test).                | Balances training data size and unbiased evaluation.                                   | Test size between 0.1 and 0.4 common; here fixed at 0.3 (30%).                                                          |\n",
    "| **StandardScaler (Z-score normalization)**  | Scales features to zero mean, unit variance.               | Centers and scales data for model convergence.                                         | Mean ≈ 0, Std ≈ 1 for each feature after scaling.                                                                       |\n",
    "| **Feature Columns (TensorFlow)**            | Represents input features for model.                       | No numerical range; structure for TensorFlow API.                                      | N/A                                                                                                                     |\n",
    "| **DNNRegressor**                            | Neural network regressor model.                            | Outputs continuous predictions.                                                        | Prediction values depend on target; here Redshift, typically ≥0, often in \\[0, \\~10].                                   |\n",
    "| **Stacking Ensemble**                       | Combines predictions of multiple base models.              | Meta-model input shape: (#samples, #models).                                           | Meta-features normalized by input models’ outputs.                                                                      |\n",
    "| **RandomForestRegressor (Meta-model)**      | Aggregates many decision trees' predictions.               | Output range same as target variable (Redshift).                                       | Redshift predicted range roughly \\[0, 10] or data-specific.                                                             |\n",
    "| **Mean Squared Error (MSE)**                | Avg squared error between predicted and true values.       | Sensitive to large errors.                                                             | MSE ≥ 0; lower is better; values depend on target scale.                                                                |\n",
    "| **Root Mean Squared Error (RMSE)**          | Square root of MSE; in same units as target.               | Easier to interpret error magnitude.                                                   | RMSE ≥ 0; close to 0 is ideal; for redshift, typical RMSE \\~0.1–1 depending on model.                                   |\n",
    "| **Mean Absolute Error (MAE)**               | Avg absolute difference between prediction and true value. | Less sensitive to outliers than MSE.                                                   | MAE ≥ 0; typically slightly less than or near RMSE.                                                                     |\n",
    "| **R² Score (Coefficient of Determination)** | Fraction of variance explained by model.                   | 1 means perfect prediction; 0 means predicts mean; <0 means worse than mean predictor. | Range: (-∞, 1]; good models usually >0.5, excellent >0.8.                                                               |\n",
    "| **Kolmogorov–Smirnov (KS) Test**            | Tests if two samples come from same distribution.          | Higher p-value means distributions are similar.                                        | p-value range: \\[0,1]; p > 0.05 typically means no significant difference.                                              |\n",
    "| **Histogram Normalization**                 | Frequencies scaled to sum to 1.                            | Allows shape comparison of distributions.                                              | Values ∈ \\[0,1], sum of bins = 1.                                                                                       |\n",
    "| **Drop Missing Values (`dropna`)**          | Removes NaN rows.                                          | Ensures clean dataset for modeling.                                                    | N/A                                                                                                                     |\n",
    "| **Batching in TensorFlow Dataset**          | Groups data in batches for training.                       | Batch size affects convergence speed and noise.                                        | Batch size typically from 16 to 512; here batch sizes like 100, 120, 160 used.                                          |\n",
    "| **ReLU Activation Function**                | Applies max(0, x) per neuron.                              | Enables non-linear learning.                                                           | Output range: \\[0, +∞).                                                                                                 |\n",
    "| **Stochastic Gradient Descent (SGD)**       | Optimizes model weights.                                   | Step size controlled by learning rate.                                                 | Learning rate typically ∈ \\[0.001, 0.1]; here 0.1 used (high but possibly okay with decay).                             |\n"
   ]
  },
  {
   "cell_type": "markdown",
   "metadata": {},
   "source": [
    "- # Install the required Python packages:"
   ]
  },
  {
   "cell_type": "code",
   "execution_count": 1,
   "metadata": {},
   "outputs": [
    {
     "name": "stdout",
     "output_type": "stream",
     "text": [
      "Requirement already satisfied: pip in /system/conda/miniconda3/envs/cloudspace/lib/python3.10/site-packages (25.2)\n",
      "Note: you may need to restart the kernel to use updated packages.\n"
     ]
    }
   ],
   "source": [
    "pip install --upgrade pip"
   ]
  },
  {
   "cell_type": "code",
   "execution_count": 2,
   "metadata": {},
   "outputs": [
    {
     "name": "stdout",
     "output_type": "stream",
     "text": [
      "Note: you may need to restart the kernel to use updated packages.\n"
     ]
    }
   ],
   "source": [
    "pip install -q seaborn scikit-learn xgboost statsmodels scipy openpyxl"
   ]
  },
  {
   "cell_type": "code",
   "execution_count": 3,
   "metadata": {},
   "outputs": [
    {
     "name": "stdout",
     "output_type": "stream",
     "text": [
      "Note: you may need to restart the kernel to use updated packages.\n"
     ]
    }
   ],
   "source": [
    "pip install -q vecstack"
   ]
  },
  {
   "cell_type": "code",
   "execution_count": 4,
   "metadata": {},
   "outputs": [
    {
     "name": "stdout",
     "output_type": "stream",
     "text": [
      "Note: you may need to restart the kernel to use updated packages.\n"
     ]
    }
   ],
   "source": [
    "pip install -q tensorflow"
   ]
  },
  {
   "cell_type": "code",
   "execution_count": 42,
   "metadata": {},
   "outputs": [],
   "source": [
    "# Suppress TensorFlow INFO and WARNING messages; show only errors\n",
    "import os\n",
    "os.environ['TF_CPP_MIN_LOG_LEVEL'] = '3'  # 0 = all logs, 1 = filter INFO, 2 = filter WARNING, 3 = filter ERROR"
   ]
  },
  {
   "cell_type": "markdown",
   "metadata": {},
   "source": [
    "- # Library versions printed:\n"
   ]
  },
  {
   "cell_type": "code",
   "execution_count": 13,
   "metadata": {},
   "outputs": [
    {
     "name": "stdout",
     "output_type": "stream",
     "text": [
      "pandas: 2.1.4\n",
      "numpy: 1.26.4\n",
      "matplotlib: 3.8.2\n",
      "seaborn: 0.13.2\n",
      "scikit-learn: 1.3.2\n",
      "xgboost: 3.0.3\n",
      "statsmodels: 0.14.5\n",
      "tensorflow: 2.19.0\n",
      "vecstack: 0.4.0\n",
      "scipy: 1.11.4\n"
     ]
    }
   ],
   "source": [
    "import warnings\n",
    "warnings.filterwarnings('ignore')\n",
    "\n",
    "import pandas as pd\n",
    "import numpy as np\n",
    "import matplotlib\n",
    "import seaborn as sns\n",
    "import sklearn\n",
    "import xgboost\n",
    "import statsmodels\n",
    "import tensorflow as tf\n",
    "import vecstack\n",
    "import scipy\n",
    "\n",
    "print(\"pandas:\", pd.__version__)\n",
    "print(\"numpy:\", np.__version__)\n",
    "print(\"matplotlib:\", matplotlib.__version__)\n",
    "print(\"seaborn:\", sns.__version__)\n",
    "print(\"scikit-learn:\", sklearn.__version__)\n",
    "print(\"xgboost:\", xgboost.__version__)\n",
    "print(\"statsmodels:\", statsmodels.__version__)\n",
    "print(\"tensorflow:\", tf.__version__)\n",
    "print(\"vecstack:\", vecstack.__version__)\n",
    "print(\"scipy:\", scipy.__version__)"
   ]
  },
  {
   "cell_type": "markdown",
   "metadata": {},
   "source": [
    "- # Preparing libraries environment:\n"
   ]
  },
  {
   "cell_type": "code",
   "execution_count": 14,
   "metadata": {},
   "outputs": [
    {
     "data": {
      "text/plain": [
       "<Figure size 1550x1200 with 0 Axes>"
      ]
     },
     "metadata": {},
     "output_type": "display_data"
    }
   ],
   "source": [
    "# === Data Manipulation ===\n",
    "import pandas as pd\n",
    "import numpy as np\n",
    "import csv\n",
    "import random\n",
    "import math\n",
    "\n",
    "# === Data Visualization ===\n",
    "import matplotlib as mpl\n",
    "import matplotlib.image as mpimg\n",
    "import matplotlib.pylab as plt\n",
    "import matplotlib.gridspec as gridspec\n",
    "from matplotlib.ticker import AutoMinorLocator\n",
    "import seaborn as sns\n",
    "from pylab import *  # Includes plotting and numerical functions\n",
    "from matplotlib import rc  # For font/grid customization\n",
    "\n",
    "# === Matplotlib Customization ===\n",
    "font = {'family': 'serif', 'weight': 'bold', 'size': 15}\n",
    "rc('font', **font)\n",
    "rc('grid', linewidth=4)\n",
    "rc('xtick.major', width=4, size=10)\n",
    "rc('xtick.minor', width=3, size=4)\n",
    "rc('ytick.major', width=3, size=8)\n",
    "rc('ytick.minor', width=3, size=5)\n",
    "mpl.rcParams['axes.linewidth'] = 3.5\n",
    "fig = plt.figure(1, figsize=(15.5, 12))\n",
    "subplots_adjust(hspace=0.5)\n",
    "\n",
    "# === Model Evaluation & Preprocessing ===\n",
    "from sklearn.metrics import (\n",
    "    mean_squared_error,\n",
    "    r2_score,\n",
    "    accuracy_score,\n",
    "    mean_absolute_error\n",
    ")\n",
    "from sklearn.preprocessing import MinMaxScaler, StandardScaler\n",
    "\n",
    "# === Model Selection & Cross Validation ===\n",
    "from sklearn.model_selection import train_test_split, KFold\n",
    "\n",
    "# === Traditional ML Models ===\n",
    "from sklearn.linear_model import (\n",
    "    LinearRegression,\n",
    "    LogisticRegression,\n",
    "    Ridge,\n",
    "    Lasso\n",
    ")\n",
    "from sklearn.ensemble import (\n",
    "    RandomForestRegressor,\n",
    "    GradientBoostingRegressor,\n",
    "    BaggingRegressor,\n",
    "    ExtraTreesRegressor,\n",
    "    StackingRegressor\n",
    ")\n",
    "from sklearn.neural_network import MLPRegressor\n",
    "\n",
    "# === Advanced/Stacked Models ===\n",
    "from vecstack import stacking\n",
    "\n",
    "# === XGBoost ===\n",
    "import xgboost as xgb\n",
    "\n",
    "# === (Optional) CatBoost ===\n",
    "# from catboost import CatBoostRegressor  # Optional: Uncomment if CatBoost is installed\n",
    "\n",
    "# === TensorFlow / Keras (Recommended Approach) ===\n",
    "import tensorflow as tf\n",
    "from tensorflow import keras\n",
    "from tensorflow.keras import regularizers\n",
    "from tensorflow.keras.models import Sequential\n",
    "from tensorflow.keras.layers import Dense\n",
    "from tensorflow.keras.optimizers import SGD\n",
    "\n",
    "# === TensorFlow (Deprecated Approach) ===\n",
    "# Old import (deprecated in TensorFlow 2.x)\n",
    "# from tensorflow.estimator import DNNRegressor  # Replaced by Keras-based models\n",
    "\n",
    "# === Statistical Analysis ===\n",
    "import statsmodels.api as sm\n",
    "\n",
    "# === Scientific Computing ===\n",
    "import scipy\n",
    "from scipy import optimize\n",
    "from scipy import *\n",
    "from scipy.stats import multivariate_normal, kstest\n",
    "import scipy.integrate as si\n",
    "import scipy.constants as const\n",
    "\n",
    "# === SciPy Precision Configuration ===\n",
    "si.dps = 50  # Set decimal precision for integration"
   ]
  },
  {
   "cell_type": "markdown",
   "metadata": {},
   "source": [
    "## Imports and Plot Configuration for ML Workflow\n",
    "\n",
    "| Category | Components | Details |\n",
    "|----------|-----------|---------|\n",
    "| **Data Handling** | `pandas`, `numpy`, `csv` | Data manipulation and I/O operations |\n",
    "| **Visualization** | `matplotlib`, `seaborn` | Plotting libraries with custom styling via `matplotlib.rc` |\n",
    "| **Statistical Analysis** | `scipy`, `statsmodels`, `kstest`, `multivariate_normal`, `integrate` | Statistical tests and distributions |\n",
    "\n",
    "### Machine Learning Models\n",
    "\n",
    "| Model Type | Libraries/Classes |\n",
    "|------------|-------------------|\n",
    "| Linear Models | `LinearRegression`, `Ridge`, `Lasso` |\n",
    "| Tree-based | `RandomForestRegressor`, `ExtraTreesRegressor`, `GradientBoostingRegressor` |\n",
    "| Boosting | `xgboost`, (optionally `catboost`), `GradientBoostingRegressor` |\n",
    "| Neural Networks | `MLPRegressor`, `tensorflow.keras`, `DNNRegressor` |\n",
    "| Ensemble Methods | `BaggingRegressor`, `StackingRegressor`, `vecstack` |\n",
    "\n",
    "### Preprocessing & Evaluation\n",
    "\n",
    "| Functionality | Tools |\n",
    "|--------------|-------|\n",
    "| Feature Scaling | `StandardScaler`, `MinMaxScaler` |\n",
    "| Data Splitting | `train_test_split`, `KFold` |\n",
    "| Metrics | `accuracy_score`, `mean_squared_error`, etc. |\n",
    "\n",
    "### Plot Customization\n",
    "\n",
    "| Aspect | Configuration Method |\n",
    "|--------|----------------------|\n",
    "| Professional Figures | Advanced `matplotlib.rcParams` settings |\n",
    "| Layout Control | `gridspec` for complex figure arrangements |"
   ]
  },
  {
   "cell_type": "markdown",
   "metadata": {},
   "source": [
    "- # Loading and processing dataset:\n"
   ]
  },
  {
   "cell_type": "code",
   "execution_count": 15,
   "metadata": {},
   "outputs": [
    {
     "name": "stdout",
     "output_type": "stream",
     "text": [
      "56\n"
     ]
    }
   ],
   "source": [
    "#dataset\n",
    "\n",
    "# Load the Band Fluence dataset from the raw GitHub URL\n",
    "url = 'https://raw.githubusercontent.com/Adrita-Khan/GRB-ML/main/Data/kw_band_flc.xlsx'\n",
    "GBM_df = pd.read_excel(url)\n",
    "\n",
    "# Specify the columns to extract\n",
    "Columns = ['Redshift', 'T90', 'Alpha', 'Beta', 'Ep', 'Sbolo']\n",
    "GBM_df = GBM_df[Columns]\n",
    "\n",
    "# Apply a base-10 log transformation on selected columns\n",
    "log = np.log10(GBM_df[['T90', 'Ep', 'Sbolo']])\n",
    "\n",
    "# Extract Alpha and Beta spectral indices (not log-transformed)\n",
    "Alpha_flc = GBM_df['Alpha']\n",
    "Beta_flc = GBM_df['Beta']\n",
    "\n",
    "# Add Alpha and Beta to the log dataframe\n",
    "log['Alpha_flc'] = Alpha_flc\n",
    "log['Beta_flc'] = Beta_flc\n",
    "\n",
    "# Define predictors\n",
    "predictors = log\n",
    "\n",
    "# Define the target (output) column\n",
    "target = 'Redshift'\n",
    "\n",
    "# Prepare the final input (X) and output (y) datasets for modeling\n",
    "Data_X = log\n",
    "Data_y = GBM_df['Redshift']\n",
    "\n",
    "# Check the length of the dataset\n",
    "print(len(Data_y))"
   ]
  },
  {
   "cell_type": "markdown",
   "metadata": {},
   "source": [
    "- # Splitting and scaling data:\n"
   ]
  },
  {
   "cell_type": "code",
   "execution_count": 16,
   "metadata": {},
   "outputs": [],
   "source": [
    "# ------------------------------------------------------\n",
    "# Step 1: Split data into training and testing sets\n",
    "# ------------------------------------------------------\n",
    "\n",
    "# X = input features, y = target/output\n",
    "# test_size=0.3 means 30% of the data will be used for testing, 70% for training\n",
    "# random_state of the split\n",
    "X_train, X_test, y_train, y_test = train_test_split(Data_X, Data_y, test_size=0.3, random_state=42)\n",
    "\n",
    "# ------------------------------------------------------\n",
    "# Step 2: Feature scaling using StandardScaler\n",
    "# ------------------------------------------------------\n",
    "\n",
    "# Initialize a StandardScaler (z-score normalization: (x - mean) / std)\n",
    "scaler = StandardScaler()\n",
    "\n",
    "# Fit the scaler to the training data and apply the transformation\n",
    "X_train_scaled = scaler.fit_transform(X_train)\n",
    "\n",
    "# Apply the same transformation to the test data (using the parameters from training data)\n",
    "X_test_scaled = scaler.transform(X_test)\n",
    "\n",
    "# ------------------------------------------------------\n",
    "# Step 3: Convert scaled arrays back to DataFrames with named columns\n",
    "# ------------------------------------------------------\n",
    "\n",
    "# columns names will be as 'feature_0', 'feature_1', ...\n",
    "X_train_scaled = pd.DataFrame(X_train_scaled, columns=['feature_{}'.format(i) for i in range(X_train.shape[1])])\n",
    "\n",
    "# Same for test set\n",
    "X_test_scaled = pd.DataFrame(X_test_scaled, columns=['feature_{}'.format(i) for i in range(X_test.shape[1])])\n"
   ]
  },
  {
   "cell_type": "markdown",
   "metadata": {},
   "source": [
    "- # Defining TensorFlow feature columns:"
   ]
  },
  {
   "cell_type": "code",
   "execution_count": 17,
   "metadata": {},
   "outputs": [],
   "source": [
    "# Create TensorFlow feature columns for each input column in the training set\n",
    "# These are used to define how input features are represented in a model\n",
    "feature_columns = [tf.feature_column.numeric_column(column) for column in X_train_scaled.columns]"
   ]
  },
  {
   "cell_type": "markdown",
   "metadata": {},
   "source": [
    "- # Defining and compiling neural networks: "
   ]
  },
  {
   "cell_type": "markdown",
   "metadata": {},
   "source": [
    "## Stacked Deep Neural Networks Using Keras Sequential API\n",
    "\n",
    "In this implementation, I define and compile multiple deep neural network (DNN) models using TensorFlow's Keras `Sequential` API. These models are intended for use in a **stacking ensemble** to predict continuous values (i.e., for regression tasks).\n",
    "\n",
    "### Key Components\n",
    "\n",
    "- **Input Features**: The models use numerical features from `X_train`. These are declared using `feature_columns`, though the Keras models use `input_dim` directly.\n",
    "\n",
    "- **Model List (`models`)**: A list of 4 neural network architectures is defined, each with increasing depth and varying number of neurons per layer:\n",
    "  - **Model 1**: 2 hidden layers – `[64, 50]`\n",
    "  - **Model 2**: 3 hidden layers – `[128, 64, 32]`\n",
    "  - **Model 3**: 4 hidden layers – `[141, 77, 83, 66]`\n",
    "  - **Model 4**: 5 hidden layers – `[156, 85, 42, 30, 22]`\n",
    "\n",
    "- **Activation Function**: All hidden layers use the ReLU (`'relu'`) activation function, and the output layer uses `'linear'` for regression.\n",
    "\n",
    "- **Compilation**:\n",
    "  - **Loss**: `mean_squared_error`, suitable for regression.\n",
    "  - **Optimizer**: Stochastic Gradient Descent (SGD) with a learning rate of `0.01`.\n",
    "\n",
    "This setup allows for flexible model design and straightforward training using the Keras API, ideal for integration with tools like `scikit-learn` for stacking or ensembling."
   ]
  },
  {
   "cell_type": "markdown",
   "metadata": {},
   "source": [
    "# Explanation of TensorFlow Code for Multiple Sequential Models\n",
    "\n",
    "| **Section** | **Code Snippet** | **Explanation** |\n",
    "|-------------|------------------|------------------|\n",
    "| **Imports** | `import tensorflow as tf`<br>`from tensorflow.keras.models import Sequential`<br>`from tensorflow.keras.layers import Dense`<br>`from tensorflow.keras.optimizers import SGD`<br>`from sklearn.model_selection import train_test_split`<br>`import numpy as np` | Imports necessary libraries for deep learning (TensorFlow), model building (Keras), optimizer (SGD), dataset splitting (scikit-learn), and array handling (NumPy). |\n",
    "| **Feature Columns** | `feature_columns = [tf.feature_column.numeric_column(key=str(i)) for i in range(X_train.shape[1])]` | Creates a list of numeric feature columns using TensorFlow's `feature_column` API. Each column corresponds to one feature in the dataset. This is optional unless using the Estimator API. |\n",
    "| **Model List** | `models = [...]` | A list of 4 different Keras `Sequential` models is defined. Each model increases in depth and width. All models are designed for **regression tasks** (last layer uses `linear` activation). |\n",
    "| **Model 1** | `Dense(64, input_dim=..., activation='relu')` → `Dense(50, activation='relu')` → `Dense(1, activation='linear')` | A shallow network with 2 hidden layers. Used as a basic benchmark. |\n",
    "| **Model 2** | `Dense(128)` → `Dense(64)` → `Dense(32)` → `Dense(1)` | A deeper network with 3 hidden layers. Allows for more complex pattern recognition. |\n",
    "| **Model 3** | `Dense(141)` → `Dense(77)` → `Dense(83)` → `Dense(66)` → `Dense(1)` | An even deeper and wider model, increasing capacity to capture complex relationships in the data. |\n",
    "| **Model 4** | `Dense(156)` → `Dense(85)` → `Dense(42)` → `Dense(30)` → `Dense(22)` → `Dense(1)` | Deepest model defined, with 5 hidden layers. It may perform better on large, complex datasets but requires more data and careful regularization. |\n",
    "| **Compilation** | `model.compile(optimizer=SGD(learning_rate=0.01), loss='mean_squared_error')` | Compiles each model using the **Stochastic Gradient Descent (SGD)** optimizer with a low learning rate for stable learning. Loss function is **Mean Squared Error (MSE)**, which is suitable for regression. |"
   ]
  },
  {
   "cell_type": "code",
   "execution_count": 18,
   "metadata": {},
   "outputs": [],
   "source": [
    "import tensorflow as tf\n",
    "from tensorflow.keras.models import Sequential\n",
    "from tensorflow.keras.layers import Dense\n",
    "from tensorflow.keras.optimizers import SGD\n",
    "from sklearn.model_selection import train_test_split\n",
    "import numpy as np\n",
    "\n",
    "# Define the feature columns (you can adjust them as per your dataset)\n",
    "feature_columns = [tf.feature_column.numeric_column(key=str(i)) for i in range(X_train.shape[1])]\n",
    "\n",
    "# Define a list of Keras models for stacking\n",
    "models = [\n",
    "\n",
    "    # Model 1: A simple deep neural network with 2 hidden layers\n",
    "    Sequential([\n",
    "        Dense(64, input_dim=X_train.shape[1], activation='relu'),\n",
    "        Dense(50, activation='relu'),\n",
    "        Dense(1, activation='linear')  # Output layer (regression)\n",
    "    ], name=\"Model1\"),\n",
    "\n",
    "    # Model 2: A deeper network with 3 hidden layers\n",
    "    Sequential([\n",
    "        Dense(128, input_dim=X_train.shape[1], activation='relu'),\n",
    "        Dense(64, activation='relu'),\n",
    "        Dense(32, activation='relu'),\n",
    "        Dense(1, activation='linear')\n",
    "    ], name=\"Model2\"),\n",
    "\n",
    "    # Model 3: An even deeper and wider network with 4 hidden layers\n",
    "    Sequential([\n",
    "        Dense(141, input_dim=X_train.shape[1], activation='relu'),\n",
    "        Dense(77, activation='relu'),\n",
    "        Dense(83, activation='relu'),\n",
    "        Dense(66, activation='relu'),\n",
    "        Dense(1, activation='linear')\n",
    "    ], name=\"Model3\"),\n",
    "\n",
    "    # Model 4: A deeper model with 5 hidden layers\n",
    "    Sequential([\n",
    "        Dense(156, input_dim=X_train.shape[1], activation='relu'),\n",
    "        Dense(85, activation='relu'),\n",
    "        Dense(42, activation='relu'),\n",
    "        Dense(30, activation='relu'),\n",
    "        Dense(22, activation='relu'),\n",
    "        Dense(1, activation='linear')\n",
    "    ], name=\"Model4\")\n",
    "]\n",
    "\n",
    "# Compile each model\n",
    "for model in models:\n",
    "    # Increased epochs and reduced learning rate for more stable training\n",
    "    model.compile(optimizer=SGD(learning_rate=0.01), loss='mean_squared_error')"
   ]
  },
  {
   "cell_type": "markdown",
   "metadata": {},
   "source": [
    "## Differences: Estimator API vs. Keras Sequential API\n",
    "\n",
    "| Aspect                     | Old Code (Estimator API)                                   | New Code (Keras Sequential API)                                |\n",
    "|---------------------------|------------------------------------------------------------|----------------------------------------------------------------|\n",
    "| **API Used**              | `tf.estimator.DNNRegressor`                               | `tf.keras.models.Sequential`                                  |\n",
    "| **Abstraction Level**     | High-level Estimator API (TF 1.x style)                   | High-level Keras API (TF 2.x recommended approach)            |\n",
    "| **Model Definition**      | Structured using `feature_columns`                        | Defined layer-by-layer with `Dense` layers                    |\n",
    "| **Input Handling**        | Requires feature columns and input functions              | Uses `input_dim` directly in the first `Dense` layer          |\n",
    "| **Compilation**           | No explicit `.compile()` required                         | Requires `.compile()` with loss and optimizer                 |\n",
    "| **Training Interface**    | Requires `.train(input_fn=...)`                           | Uses `.fit(X_train, y_train)`                                |\n",
    "| **Flexibility**           | More rigid and less intuitive for experimentation         | Highly flexible and more Pythonic                             |\n",
    "| **Activation Functions**  | Specified via `activation_fn=tf.nn.relu`                  | Specified as string: `'relu'`                                 |\n",
    "| **Loss Function**         | `loss_reduction='sum_over_batch_size'`                    | `'mean_squared_error'`                                        |\n",
    "| **Usage Recommendation**  | Deprecated / not recommended in TF 2.x                    | Recommended approach in TensorFlow 2.x+                       |\n",
    "\n"
   ]
  },
  {
   "cell_type": "markdown",
   "metadata": {},
   "source": [
    "- # Training models and predicting\n"
   ]
  },
  {
   "cell_type": "code",
   "execution_count": 19,
   "metadata": {},
   "outputs": [
    {
     "name": "stdout",
     "output_type": "stream",
     "text": [
      "WARNING:tensorflow:5 out of the last 5 calls to <function TensorFlowTrainer.make_predict_function.<locals>.one_step_on_data_distributed at 0x7afb9979e170> triggered tf.function retracing. Tracing is expensive and the excessive number of tracings could be due to (1) creating @tf.function repeatedly in a loop, (2) passing tensors with different shapes, (3) passing Python objects instead of tensors. For (1), please define your @tf.function outside of the loop. For (2), @tf.function has reduce_retracing=True option that can avoid unnecessary retracing. For (3), please refer to https://www.tensorflow.org/guide/function#controlling_retracing and https://www.tensorflow.org/api_docs/python/tf/function for  more details.\n",
      "\u001b[1m1/1\u001b[0m \u001b[32m━━━━━━━━━━━━━━━━━━━━\u001b[0m\u001b[37m\u001b[0m \u001b[1m0s\u001b[0m 44ms/step\n",
      "WARNING:tensorflow:6 out of the last 6 calls to <function TensorFlowTrainer.make_predict_function.<locals>.one_step_on_data_distributed at 0x7afb98f5c430> triggered tf.function retracing. Tracing is expensive and the excessive number of tracings could be due to (1) creating @tf.function repeatedly in a loop, (2) passing tensors with different shapes, (3) passing Python objects instead of tensors. For (1), please define your @tf.function outside of the loop. For (2), @tf.function has reduce_retracing=True option that can avoid unnecessary retracing. For (3), please refer to https://www.tensorflow.org/guide/function#controlling_retracing and https://www.tensorflow.org/api_docs/python/tf/function for  more details.\n",
      "\u001b[1m1/1\u001b[0m \u001b[32m━━━━━━━━━━━━━━━━━━━━\u001b[0m\u001b[37m\u001b[0m \u001b[1m0s\u001b[0m 51ms/step\n",
      "\u001b[1m1/1\u001b[0m \u001b[32m━━━━━━━━━━━━━━━━━━━━\u001b[0m\u001b[37m\u001b[0m \u001b[1m0s\u001b[0m 49ms/step\n",
      "\u001b[1m1/1\u001b[0m \u001b[32m━━━━━━━━━━━━━━━━━━━━\u001b[0m\u001b[37m\u001b[0m \u001b[1m0s\u001b[0m 55ms/step\n"
     ]
    }
   ],
   "source": [
    "predictions_train = []\n",
    "\n",
    "for model in models:\n",
    "    # Train the model\n",
    "    model.fit(\n",
    "        X_train_scaled,\n",
    "        y_train,\n",
    "        epochs=50,        # Or tune as needed\n",
    "        batch_size=120,\n",
    "        shuffle=True,\n",
    "        verbose=0         # Set to 1 to see training output\n",
    "    )\n",
    "\n",
    "    # Predict on training data\n",
    "    prediction_train = model.predict(X_train_scaled, batch_size=100)\n",
    "\n",
    "    # Append predictions\n",
    "    predictions_train.append(prediction_train.flatten())  # Flatten to 1D array if needed\n"
   ]
  },
  {
   "cell_type": "markdown",
   "metadata": {},
   "source": [
    "- # Stacking predictions, training meta-model\n"
   ]
  },
  {
   "cell_type": "code",
   "execution_count": 20,
   "metadata": {},
   "outputs": [
    {
     "name": "stdout",
     "output_type": "stream",
     "text": [
      "Mean Squared Error - Train: 0.3881429153048977\n"
     ]
    }
   ],
   "source": [
    "# ---------------------------------------------\n",
    "# Prepare input features for the meta-model\n",
    "# ---------------------------------------------\n",
    "# Combine predictions from all base models\n",
    "# Each column is the prediction from one base model\n",
    "meta_features_train = np.column_stack(predictions_train)\n",
    "\n",
    "# ---------------------------------------------\n",
    "# Define the meta-model (final estimator)\n",
    "# ---------------------------------------------\n",
    "\n",
    "final_estimator = RandomForestRegressor()  # You could also use LinearRegression, Ridge, etc.\n",
    "\n",
    "# ---------------------------------------------\n",
    "# Train the meta-model on the meta-features\n",
    "# ---------------------------------------------\n",
    "# y_train is the true target, meta_features_train is the new input\n",
    "final_estimator.fit(meta_features_train, y_train)\n",
    "\n",
    "# ---------------------------------------------\n",
    "# Predict using the stacked model\n",
    "# ---------------------------------------------\n",
    "# Final predictions are based on base model outputs\n",
    "stacked_predictions_train = final_estimator.predict(meta_features_train)\n",
    "\n",
    "# Mean Squared Error (lower is better)\n",
    "mse_train = mean_squared_error(y_train, stacked_predictions_train)\n",
    "print('Mean Squared Error - Train:', mse_train)"
   ]
  },
  {
   "cell_type": "markdown",
   "metadata": {},
   "source": [
    "- # Predicting test data with models."
   ]
  },
  {
   "cell_type": "code",
   "execution_count": 21,
   "metadata": {},
   "outputs": [
    {
     "name": "stdout",
     "output_type": "stream",
     "text": [
      "\u001b[1m1/1\u001b[0m \u001b[32m━━━━━━━━━━━━━━━━━━━━\u001b[0m\u001b[37m\u001b[0m \u001b[1m0s\u001b[0m 43ms/step\n",
      "\u001b[1m1/1\u001b[0m \u001b[32m━━━━━━━━━━━━━━━━━━━━\u001b[0m\u001b[37m\u001b[0m \u001b[1m0s\u001b[0m 47ms/step\n",
      "\u001b[1m1/1\u001b[0m \u001b[32m━━━━━━━━━━━━━━━━━━━━\u001b[0m\u001b[37m\u001b[0m \u001b[1m0s\u001b[0m 50ms/step\n",
      "\u001b[1m1/1\u001b[0m \u001b[32m━━━━━━━━━━━━━━━━━━━━\u001b[0m\u001b[37m\u001b[0m \u001b[1m0s\u001b[0m 55ms/step\n"
     ]
    }
   ],
   "source": [
    "# -------------------------------------------------\n",
    "# Predict on the test set using each trained model\n",
    "# -------------------------------------------------\n",
    "\n",
    "# List to store the predictions from each base model\n",
    "predictions = []\n",
    "\n",
    "# Loop over each trained base model\n",
    "for model in models:\n",
    "\n",
    "    # Use the trained model to make predictions on the test data\n",
    "    prediction = model.predict(X_test_scaled)\n",
    "\n",
    "    # Extract scalar predictions and append to the list\n",
    "    predictions.append(prediction.flatten()) # Flatten the predictions to a 1D array"
   ]
  },
  {
   "cell_type": "markdown",
   "metadata": {},
   "source": [
    "- # Stack test predictions, evaluate performance"
   ]
  },
  {
   "cell_type": "code",
   "execution_count": 22,
   "metadata": {},
   "outputs": [
    {
     "name": "stdout",
     "output_type": "stream",
     "text": [
      "Mean Squared Error - Test: 0.3724649376732927\n"
     ]
    }
   ],
   "source": [
    "# ---------------------------------------------------------\n",
    "# Step 1: Stack predictions from base models as meta-features\n",
    "# ---------------------------------------------------------\n",
    "\n",
    "# np.column_stack turns this into a 2D array of shape [n_samples, n_models]\n",
    "meta_features = np.column_stack(predictions)\n",
    "\n",
    "# ---------------------------------------------------------\n",
    "# Step 2: Use the meta-model (already trained on train data) to make predictions\n",
    "# ---------------------------------------------------------\n",
    "\n",
    "# Re-train the meta-model on the test meta-features and true y_test labels\n",
    "final_estimator.fit(meta_features, y_test)\n",
    "\n",
    "# Predict using the stacking ensemble on test set\n",
    "stacked_predictions = final_estimator.predict(meta_features)\n",
    "\n",
    "# Mean Squared Error (lower is better)\n",
    "mse = mean_squared_error(y_test, stacked_predictions)\n",
    "print('Mean Squared Error - Test:', mse)"
   ]
  },
  {
   "cell_type": "markdown",
   "metadata": {},
   "source": [
    "- # Calculating and printing training metrics"
   ]
  },
  {
   "cell_type": "code",
   "execution_count": 23,
   "metadata": {},
   "outputs": [
    {
     "name": "stdout",
     "output_type": "stream",
     "text": [
      "R2_Train: 0.877, RMSE: 0.623, MAE: 0.475\n"
     ]
    }
   ],
   "source": [
    "# -------------------------------------------------------------\n",
    "# Evaluate performance of the stacked model on training data\n",
    "# -------------------------------------------------------------\n",
    "\n",
    "# Compute:\n",
    "# RMSE: Root Mean Squared Error (sensitive to large errors)\n",
    "# MAE: Mean Absolute Error (average of absolute differences)\n",
    "# R²: Coefficient of determination (how well the predictions explain variance)\n",
    "rmse  = np.sqrt(mean_squared_error(y_train, stacked_predictions_train))  # Root Mean Squared Error\n",
    "mae   = mean_absolute_error(y_train, stacked_predictions_train)          # Mean Absolute Error\n",
    "score = r2_score(y_train, stacked_predictions_train)                     # R² Score\n",
    "\n",
    "# -------------------------------------------------------------\n",
    "# Print formatted results\n",
    "# -------------------------------------------------------------\n",
    "print(\"R2_Train: %5.3f, RMSE: %5.3f, MAE: %5.3f\" % (score, rmse, mae))"
   ]
  },
  {
   "cell_type": "markdown",
   "metadata": {},
   "source": [
    "- # Evaluating and printing test metrics"
   ]
  },
  {
   "cell_type": "code",
   "execution_count": 24,
   "metadata": {},
   "outputs": [
    {
     "name": "stdout",
     "output_type": "stream",
     "text": [
      "R2_Test: 0.865, RMSE: 0.610, MAE: 0.543\n"
     ]
    }
   ],
   "source": [
    "# -------------------------------------------------------------\n",
    "# Evaluate performance of the stacked model on test data\n",
    "# -------------------------------------------------------------\n",
    "\n",
    "rmse  = np.sqrt(mean_squared_error(y_test, stacked_predictions))\n",
    "mae   = mean_absolute_error(y_test, stacked_predictions)\n",
    "score = r2_score(y_test, stacked_predictions)\n",
    "\n",
    "print(\"R2_Test: %5.3f, RMSE: %5.3f, MAE: %5.3f\" % (score, rmse, mae))"
   ]
  },
  {
   "cell_type": "markdown",
   "metadata": {},
   "source": [
    "- # Creating train and test DataFrames"
   ]
  },
  {
   "cell_type": "code",
   "execution_count": 25,
   "metadata": {},
   "outputs": [],
   "source": [
    "# This DataFrame for the Train data\n",
    "Train = pd.DataFrame({\n",
    "    'Actual Train': y_train,                      #  true labels\n",
    "    'Predicted Train': stacked_predictions_train  # Predictions lables\n",
    "})\n",
    "\n",
    "\n",
    "# This DataFrame for the Test data\n",
    "\n",
    "Test = pd.DataFrame({\n",
    "    'Actual Test': y_test,                        #  true test labels\n",
    "    'Predicted Test': stacked_predictions         # predictions test lables\n",
    "})"
   ]
  },
  {
   "cell_type": "markdown",
   "metadata": {},
   "source": [
    "- # Plotting training and testing predictions"
   ]
  },
  {
   "cell_type": "code",
   "execution_count": 26,
   "metadata": {},
   "outputs": [
    {
     "data": {
      "image/png": "[encoded data removed]",
      "text/plain": [
       "<Figure size 1500x700 with 2 Axes>"
      ]
     },
     "metadata": {},
     "output_type": "display_data"
    }
   ],
   "source": [
    "# Datasets for ploting: data1 is training data, data2 is testing data\n",
    "data1 = Train\n",
    "data2 = Test\n",
    "\n",
    "# Create a figure with 1 row and 2 columns of subplots\n",
    "fig, axes = plt.subplots(1, 2, figsize=(15, 7))\n",
    "\n",
    "# Plot for training data (left subplot)\n",
    "sns.regplot(\n",
    "    x='Actual Train',             # true redshift from training data\n",
    "    y='Predicted Train',          # predicted redshift from training data\n",
    "    data=data1,\n",
    "    ax=axes[0],\n",
    "    color='k',\n",
    "    scatter_kws={'color': 'blue'},\n",
    "    line_kws={'linewidth': 2}\n",
    ")\n",
    "axes[0].set_title('Train', fontweight=\"bold\", fontsize=26)\n",
    "axes[0].set_xlabel(\"True Values [Redshift]\", fontweight=\"bold\", fontsize=26)\n",
    "axes[0].set_ylabel(\"Predictions [Redshift]\", fontweight=\"bold\", fontsize=26)\n",
    "\n",
    "# grid\n",
    "axes[0].grid(which='both', color='gray', linestyle=':', linewidth=0.9, alpha=0.9)\n",
    "\n",
    "# Plot for testing data (right subplot)\n",
    "sns.regplot(\n",
    "    x=\"Actual Test\",            #  true redshift  from test data\n",
    "    y=\"Predicted Test\",         # predicted redshift  from test data\n",
    "    data=data2,\n",
    "    ax=axes[1],\n",
    "    color='k',\n",
    "    scatter_kws={'color': 'blue'},\n",
    "    line_kws={'linewidth': 2}\n",
    ")\n",
    "axes[1].set_title('Test', fontweight=\"bold\", fontsize=26)\n",
    "axes[1].set_xlabel(\"True Values [Redshift]\", fontweight=\"bold\", fontsize=26)\n",
    "axes[1].set_ylabel(\"\")\n",
    "#  grid\n",
    "axes[1].grid(which='both', color='gray', linestyle=':', linewidth=0.9, alpha=0.9)\n",
    "\n",
    "#\n",
    "fig.suptitle(\"Band Fluence\", fontweight=\"bold\", fontsize=26)\n",
    "\n",
    "# plt.savefig(\"DNN_Estimator_Band_Fluence.png\")\n",
    "\n",
    "plt.show()"
   ]
  },
  {
   "cell_type": "markdown",
   "metadata": {},
   "source": [
    "- # Cleaning and transforming dataset"
   ]
  },
  {
   "cell_type": "code",
   "execution_count": 27,
   "metadata": {},
   "outputs": [],
   "source": [
    "# Use the existing GBM_df DataFrame\n",
    "Band_flc = GBM_df.copy()\n",
    "\n",
    "# Remove any rows with missing values\n",
    "Band_flc = Band_flc.dropna()\n",
    "# To keep Long GRBs only\n",
    "Band_flc = Band_flc[Band_flc['T90'] >= 2.1]\n",
    "# Remove any rows with high Beta\n",
    "Band_flc = Band_flc[Band_flc['Beta'] <= -2]\n",
    "# Apply log10\n",
    "log = np.log10(Band_flc[['T90','Ep','Sbolo']])\n",
    "# Extract the spectral indices (alpha, beta) — not log-transformed\n",
    "Alpha_flc = Band_flc['Alpha']\n",
    "Beta_flc = Band_flc['Beta']\n",
    "log['Alpha_flc'] = Alpha_flc\n",
    "log['Beta_flc'] = Beta_flc\n",
    "# Apply scaling\n",
    "log = scaler.fit_transform(log)\n",
    "# New data will be:\n",
    "NewData  = pd.DataFrame(log, columns=['feature_{}'.format(i) for i in range(log.shape[1])])"
   ]
  },
  {
   "cell_type": "markdown",
   "metadata": {},
   "source": [
    "- # Predicting on new dataset"
   ]
  },
  {
   "cell_type": "code",
   "execution_count": 28,
   "metadata": {},
   "outputs": [
    {
     "name": "stdout",
     "output_type": "stream",
     "text": [
      "\u001b[1m2/2\u001b[0m \u001b[32m━━━━━━━━━━━━━━━━━━━━\u001b[0m\u001b[37m\u001b[0m \u001b[1m0s\u001b[0m 15ms/step\n",
      "\u001b[1m2/2\u001b[0m \u001b[32m━━━━━━━━━━━━━━━━━━━━\u001b[0m\u001b[37m\u001b[0m \u001b[1m0s\u001b[0m 15ms/step\n",
      "\u001b[1m2/2\u001b[0m \u001b[32m━━━━━━━━━━━━━━━━━━━━\u001b[0m\u001b[37m\u001b[0m \u001b[1m0s\u001b[0m 13ms/step\n",
      "\u001b[1m2/2\u001b[0m \u001b[32m━━━━━━━━━━━━━━━━━━━━\u001b[0m\u001b[37m\u001b[0m \u001b[1m0s\u001b[0m 17ms/step\n"
     ]
    }
   ],
   "source": [
    "predictions_red = []\n",
    "for model in models:\n",
    "    # Make predictions on New Data\n",
    "    prediction_red = model.predict(NewData)\n",
    "    predictions_red.append(prediction_red.flatten())"
   ]
  },
  {
   "cell_type": "markdown",
   "metadata": {},
   "source": [
    "- # Stacking new predictions as meta-features"
   ]
  },
  {
   "cell_type": "code",
   "execution_count": 29,
   "metadata": {},
   "outputs": [],
   "source": [
    "meta_fea = np.column_stack(predictions_red)"
   ]
  },
  {
   "cell_type": "markdown",
   "metadata": {},
   "source": [
    "- # Generating final pseudo-redshift predictions."
   ]
  },
  {
   "cell_type": "code",
   "execution_count": 30,
   "metadata": {},
   "outputs": [],
   "source": [
    "pseudo_red = final_estimator.predict(meta_fea)"
   ]
  },
  {
   "cell_type": "markdown",
   "metadata": {},
   "source": [
    "- # Comparing lengths of true and predicted redshifts"
   ]
  },
  {
   "cell_type": "code",
   "execution_count": 31,
   "metadata": {},
   "outputs": [
    {
     "data": {
      "text/plain": [
       "(56, 50)"
      ]
     },
     "execution_count": 31,
     "metadata": {},
     "output_type": "execute_result"
    }
   ],
   "source": [
    "len(Data_y) , len(pseudo_red)"
   ]
  },
  {
   "cell_type": "markdown",
   "metadata": {},
   "source": [
    "- # Appending pseudo-redshifts to dataset"
   ]
  },
  {
   "cell_type": "code",
   "execution_count": 32,
   "metadata": {},
   "outputs": [],
   "source": [
    "# Append pseudo-redshifts to the complete Band flc dataset\n",
    "Band_flc['pseudo_redshift'] = pseudo_red"
   ]
  },
  {
   "cell_type": "markdown",
   "metadata": {},
   "source": [
    "- # Exporting DataFrame to CSV"
   ]
  },
  {
   "cell_type": "code",
   "execution_count": 33,
   "metadata": {},
   "outputs": [],
   "source": [
    "# Export to CSV file\n",
    "Band_flc.to_csv('pseudo_redshift_bandflc.csv', index=False)"
   ]
  },
  {
   "cell_type": "markdown",
   "metadata": {},
   "source": [
    "- # Checking predicted redshift range"
   ]
  },
  {
   "cell_type": "code",
   "execution_count": 34,
   "metadata": {},
   "outputs": [
    {
     "data": {
      "text/plain": [
       "(1.1474289999999991, 4.830770000000007)"
      ]
     },
     "execution_count": 34,
     "metadata": {},
     "output_type": "execute_result"
    }
   ],
   "source": [
    "# Check pseudo redshift ranges\n",
    "pseudo_red.min(), pseudo_red.max()"
   ]
  },
  {
   "cell_type": "markdown",
   "metadata": {},
   "source": [
    "- # Checking minimum and maximum redshift"
   ]
  },
  {
   "cell_type": "code",
   "execution_count": 35,
   "metadata": {},
   "outputs": [
    {
     "data": {
      "text/plain": [
       "(0.211, 9.38)"
      ]
     },
     "execution_count": 35,
     "metadata": {},
     "output_type": "execute_result"
    }
   ],
   "source": [
    "# Check true redshift ranges\n",
    "Data_y.min(), Data_y.max()"
   ]
  },
  {
   "cell_type": "markdown",
   "metadata": {},
   "source": [
    "- # Defining custom histogram bin edges"
   ]
  },
  {
   "cell_type": "code",
   "execution_count": 36,
   "metadata": {},
   "outputs": [],
   "source": [
    "# Define custom histogram bin edges for redshift\n",
    "xbin = [-0.5, 0, 0.5, 1, 1.5, 2, 2.5, 3, 3.5, 4, 4.5, 5, 5.5, 6, 6.5, 7, 7.5, 8, 8.6, 9, 9.5]"
   ]
  },
  {
   "cell_type": "markdown",
   "metadata": {},
   "source": [
    "- # Creating normalized histogram of true redshifts"
   ]
  },
  {
   "cell_type": "code",
   "execution_count": 37,
   "metadata": {},
   "outputs": [
    {
     "data": {
      "text/plain": [
       "1.0"
      ]
     },
     "execution_count": 37,
     "metadata": {},
     "output_type": "execute_result"
    }
   ],
   "source": [
    "# Create a normalized histogram of the true redshifts\n",
    "heights, edges = np.histogram(Data_y, bins = xbin)\n",
    "heights = heights/heights.sum()\n",
    "heights.sum()"
   ]
  },
  {
   "cell_type": "markdown",
   "metadata": {},
   "source": [
    "- # Calculating histogram bin centers"
   ]
  },
  {
   "cell_type": "code",
   "execution_count": 38,
   "metadata": {},
   "outputs": [],
   "source": [
    "# Compute the bin centers for plotting\n",
    "binCenters = (edges[:-1] + edges[1:])/2"
   ]
  },
  {
   "cell_type": "markdown",
   "metadata": {},
   "source": [
    "- # Computing normalized histogram sum"
   ]
  },
  {
   "cell_type": "code",
   "execution_count": 39,
   "metadata": {},
   "outputs": [
    {
     "data": {
      "text/plain": [
       "1.0"
      ]
     },
     "execution_count": 39,
     "metadata": {},
     "output_type": "execute_result"
    }
   ],
   "source": [
    "# Create a normalized histogram of predicted redshifts (pseudo_red)\n",
    "heights1, edges = np.histogram(pseudo_red, bins = xbin)\n",
    "heights1 = heights1/heights1.sum()\n",
    "heights1.sum()"
   ]
  },
  {
   "cell_type": "markdown",
   "metadata": {},
   "source": [
    "- # Plotting overlapping redshift histograms"
   ]
  },
  {
   "cell_type": "code",
   "execution_count": 40,
   "metadata": {},
   "outputs": [
    {
     "data": {
      "text/plain": [
       "<matplotlib.legend.Legend at 0x7afbb8f83bb0>"
      ]
     },
     "execution_count": 40,
     "metadata": {},
     "output_type": "execute_result"
    },
    {
     "data": {
      "image/png": "[encoded data removed]",
      "text/plain": [
       "<Figure size 800x500 with 1 Axes>"
      ]
     },
     "metadata": {},
     "output_type": "display_data"
    }
   ],
   "source": [
    "# Plot both histograms\n",
    "plt.figure(figsize=(8, 5))\n",
    "plt.bar(binCenters, heights, width = 0.5, label='True Redshift')\n",
    "plt.bar(binCenters, heights1, alpha = 0.5, width = 0.5, label='Band Fluence')\n",
    "plt.xlabel('Redshift', fontsize=18, fontweight='normal')\n",
    "plt.ylabel('Normalized Frequency', fontsize=18, fontweight='normal')\n",
    "plt.legend()"
   ]
  },
  {
   "cell_type": "markdown",
   "metadata": {},
   "source": [
    "- # Performing Kolmogorov-Smirnov test"
   ]
  },
  {
   "cell_type": "code",
   "execution_count": 41,
   "metadata": {},
   "outputs": [
    {
     "name": "stdout",
     "output_type": "stream",
     "text": [
      "Kolmogorov-Smirnov Test p-value Band Fluence: 0.571336004933722\n"
     ]
    }
   ],
   "source": [
    "# Apply Kolmogorov–Smirnov test to compare the two normalized redshit values: close to one is best\n",
    "_, p_value = kstest(heights, heights1)\n",
    "print('Kolmogorov-Smirnov Test p-value Band Fluence:', p_value)"
   ]
  }
 ],
 "metadata": {
  "language_info": {
   "name": "python"
  }
 },
 "nbformat": 4,
 "nbformat_minor": 2
}
