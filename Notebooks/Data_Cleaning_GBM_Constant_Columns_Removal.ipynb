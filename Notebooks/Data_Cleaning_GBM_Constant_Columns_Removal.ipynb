{
  "nbformat": 4,
  "nbformat_minor": 0,
  "metadata": {
    "colab": {
      "provenance": []
    },
    "kernelspec": {
      "name": "python3",
      "display_name": "Python 3"
    },
    "language_info": {
      "name": "python"
    }
  },
  "cells": [
    {
      "cell_type": "code",
      "source": [
        "import pandas as pd\n",
        "\n",
        "# Load the dataset\n",
        "url = \"https://raw.githubusercontent.com/Adrita-Khan/GRB-ML/main/Data/GBM_cleaned_with_z.csv\"\n",
        "data = pd.read_csv(url)\n",
        "\n",
        "# 1. Check for non-numeric columns\n",
        "non_numeric_columns = data.select_dtypes(exclude=['number']).columns.tolist()\n",
        "\n",
        "# 2. Check for constant columns\n",
        "constant_columns = [col for col in data.columns if data[col].nunique() == 1]\n",
        "\n",
        "# 3. Check for missing values\n",
        "missing_values = data.isnull().sum()\n",
        "missing_columns = missing_values[missing_values > 0].index.tolist()\n",
        "\n",
        "# Display the results\n",
        "print(\"Non-Numeric Columns:\", non_numeric_columns)\n",
        "print(\"Constant Columns:\", constant_columns)\n",
        "print(\"Columns with Missing Values:\", missing_columns)\n"
      ],
      "metadata": {
        "colab": {
          "base_uri": "https://localhost:8080/"
        },
        "id": "3eMum_d7df_F",
        "outputId": "5803b135-0949-4a24-bebc-2fbd9bb04e06"
      },
      "execution_count": 6,
      "outputs": [
        {
          "output_type": "stream",
          "name": "stdout",
          "text": [
            "Non-Numeric Columns: []\n",
            "Constant Columns: ['actual_256ms_interval', 'actual_64ms_interval', 'duration_energy_high', 'duration_energy_low', 'flnc_comp_pivot', 'flnc_plaw_pivot', 'flnc_sbpl_brksc', 'flnc_sbpl_pivot', 'flu_high', 'flu_low', 'pflx_comp_pivot', 'pflx_plaw_pivot', 'pflx_sbpl_brksc', 'pflx_sbpl_pivot']\n",
            "Columns with Missing Values: []\n"
          ]
        }
      ]
    },
    {
      "cell_type": "code",
      "source": [
        "import pandas as pd\n",
        "import numpy as np\n",
        "\n",
        "# Load the dataset\n",
        "url = \"https://raw.githubusercontent.com/Adrita-Khan/GRB-ML/main/Data/GBM_cleaned_with_z.csv\"\n",
        "data = pd.read_csv(url)\n",
        "\n",
        "# Identify constant columns (those with only one unique value)\n",
        "constant_columns = [col for col in data.columns if data[col].nunique() == 1]\n",
        "\n",
        "# Drop constant columns from the dataset\n",
        "data_cleaned = data.drop(columns=constant_columns)\n",
        "\n",
        "# Save the cleaned dataset as a CSV file\n",
        "data_cleaned.to_csv('GBM_cleaned_with_z_no_constants.csv', index=False)\n",
        "\n",
        "# Save the cleaned dataset as a NumPy array\n",
        "data_numpy = data_cleaned.to_numpy()\n",
        "\n",
        "# Optionally, you can save the NumPy array to a file (e.g., .npy format)\n",
        "np.save('GBM_cleaned_with_z_no_constants.npy', data_numpy)\n",
        "\n",
        "# Display the cleaned dataset (first few rows)\n",
        "print(f\"Constant columns dropped: {constant_columns}\")\n",
        "print(data_cleaned.head())\n"
      ],
      "metadata": {
        "colab": {
          "base_uri": "https://localhost:8080/"
        },
        "id": "SXZTUFzneGzC",
        "outputId": "dadfc70d-0a15-41a5-d596-1b3d0f52fe39"
      },
      "execution_count": 7,
      "outputs": [
        {
          "output_type": "stream",
          "name": "stdout",
          "text": [
            "Constant columns dropped: ['actual_256ms_interval', 'actual_64ms_interval', 'duration_energy_high', 'duration_energy_low', 'flnc_comp_pivot', 'flnc_plaw_pivot', 'flnc_sbpl_brksc', 'flnc_sbpl_pivot', 'flu_high', 'flu_low', 'pflx_comp_pivot', 'pflx_plaw_pivot', 'pflx_sbpl_brksc', 'pflx_sbpl_pivot']\n",
            "   Redshift      t90  t90_error  t90_start   fluence  fluence_error  \\\n",
            "0    2.2045   24.704      1.460      0.256  0.000009   1.060000e-07   \n",
            "1    3.3604   75.201      3.638     -3.200  0.000009   4.900000e-08   \n",
            "2    0.1218  105.984      6.802     -5.120  0.000003   3.630000e-08   \n",
            "3    6.7000   41.217      7.281     -0.256  0.000004   8.670000e-08   \n",
            "4    0.6890   62.977      0.810      1.280  0.000060   7.000000e-08   \n",
            "\n",
            "   flux_1024  flux_1024_error  flux_1024_time  flux_64  ...  \\\n",
            "0     3.8493           0.1647           1.024   5.8104  ...   \n",
            "1     3.6864           0.2417          23.680   6.4107  ...   \n",
            "2     2.3229           0.2291           0.896   4.0823  ...   \n",
            "3     3.4050           0.1824          16.448   5.9880  ...   \n",
            "4    13.6635           0.2933           2.368  16.3989  ...   \n",
            "\n",
            "   pflx_sbpl_phtfluxb_error  pflx_sbpl_redchisq  pflx_sbpl_redfitstat  \\\n",
            "0                  0.111121               1.177                 1.273   \n",
            "1                  0.114539               1.074                 1.184   \n",
            "2                  0.111730               0.987                 1.069   \n",
            "3                  0.125122               1.125                 1.176   \n",
            "4                  0.207463               0.854                 0.952   \n",
            "\n",
            "   pflx_spectrum_start  pflx_spectrum_stop  scat_detector_mask  scatalog  \\\n",
            "0                1.024               2.048        1.110000e+07         3   \n",
            "1               23.552              24.576        1.100101e+06         3   \n",
            "2                0.000               1.024        1.100101e+06         3   \n",
            "3               17.408              18.432        1.100100e+04         3   \n",
            "4                2.048               3.072        1.100000e+10         3   \n",
            "\n",
            "      t50  t50_error  t50_start  \n",
            "0  10.432      0.429      3.520  \n",
            "1  32.768      1.379     10.048  \n",
            "2  78.336      1.056      0.768  \n",
            "3  10.240      3.238     10.240  \n",
            "4  32.000      0.724      6.656  \n",
            "\n",
            "[5 rows x 261 columns]\n"
          ]
        }
      ]
    }
  ]
}