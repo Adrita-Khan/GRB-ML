{
  "nbformat": 4,
  "nbformat_minor": 0,
  "metadata": {
    "colab": {
      "provenance": []
    },
    "kernelspec": {
      "name": "python3",
      "display_name": "Python 3"
    },
    "language_info": {
      "name": "python"
    }
  },
  "cells": [
    {
      "cell_type": "code",
      "execution_count": 1,
      "metadata": {
        "colab": {
          "base_uri": "https://localhost:8080/"
        },
        "id": "VrsRz_YtojDD",
        "outputId": "8d4997d2-7fbe-47e2-a5d6-88578be76280"
      },
      "outputs": [
        {
          "output_type": "stream",
          "name": "stderr",
          "text": [
            "/usr/local/lib/python3.12/dist-packages/statsmodels/stats/outliers_influence.py:197: RuntimeWarning: divide by zero encountered in scalar divide\n",
            "  vif = 1. / (1. - r_squared_i)\n",
            "/usr/local/lib/python3.12/dist-packages/statsmodels/regression/linear_model.py:1782: RuntimeWarning: divide by zero encountered in scalar divide\n",
            "  return 1 - self.ssr/self.centered_tss\n"
          ]
        },
        {
          "output_type": "stream",
          "name": "stdout",
          "text": [
            "                Feature           VIF\n",
            "0                   t90    549.603347\n",
            "1             t90_error     14.576785\n",
            "2             t90_start    432.566523\n",
            "3               fluence  49975.667547\n",
            "4         fluence_error    133.267553\n",
            "..                  ...           ...\n",
            "269  scat_detector_mask     24.488030\n",
            "270            scatalog     23.358819\n",
            "271                 t50     46.409775\n",
            "272           t50_error     29.847801\n",
            "273           t50_start     52.234933\n",
            "\n",
            "[274 rows x 2 columns]\n"
          ]
        }
      ],
      "source": [
        "import pandas as pd\n",
        "from statsmodels.stats.outliers_influence import variance_inflation_factor\n",
        "from statsmodels.tools.tools import add_constant\n",
        "\n",
        "# Load the dataset\n",
        "url = \"https://raw.githubusercontent.com/Adrita-Khan/GRB-ML/main/Data/GBM_cleaned_with_z.csv\"\n",
        "data = pd.read_csv(url)\n",
        "\n",
        "# Drop the target variable ('Redshift') and any non-numerical columns\n",
        "X = data.drop(columns=['Redshift'])\n",
        "\n",
        "# Add constant (intercept) to the data\n",
        "X_with_const = add_constant(X)\n",
        "\n",
        "# Calculate VIF for each feature\n",
        "vif_data = pd.DataFrame()\n",
        "vif_data['Feature'] = X_with_const.columns\n",
        "vif_data['VIF'] = [variance_inflation_factor(X_with_const.values, i) for i in range(X_with_const.shape[1])]\n",
        "\n",
        "# Show the VIF data\n",
        "print(vif_data)\n"
      ]
    },
    {
      "cell_type": "code",
      "source": [
        "import pandas as pd\n",
        "from statsmodels.stats.outliers_influence import variance_inflation_factor\n",
        "from statsmodels.tools.tools import add_constant\n",
        "\n",
        "# Load the dataset\n",
        "url = \"https://raw.githubusercontent.com/Adrita-Khan/GRB-ML/main/Data/GBM_cleaned_with_z.csv\"\n",
        "data = pd.read_csv(url)\n",
        "\n",
        "# Drop the target variable ('Redshift') and any non-numerical columns\n",
        "X = data.drop(columns=['Redshift'])\n",
        "\n",
        "# Add constant (intercept) to the data\n",
        "X_with_const = add_constant(X)\n",
        "\n",
        "# Function to calculate and remove features based on VIF\n",
        "def remove_multicollinearity(X_with_const, threshold=5):\n",
        "    vif_data = pd.DataFrame()\n",
        "    vif_data['Feature'] = X_with_const.columns\n",
        "    vif_data['VIF'] = [variance_inflation_factor(X_with_const.values, i) for i in range(X_with_const.shape[1])]\n",
        "\n",
        "    # Print the VIF data for inspection\n",
        "    print(\"Initial VIFs:\")\n",
        "    print(vif_data)\n",
        "\n",
        "    # Loop to remove features with VIF above the threshold\n",
        "    while vif_data['VIF'].max() > threshold:\n",
        "        # Find the feature with the highest VIF\n",
        "        feature_to_remove = vif_data.sort_values('VIF', ascending=False).iloc[0]\n",
        "\n",
        "        print(f\"\\nRemoving feature: {feature_to_remove['Feature']} with VIF: {feature_to_remove['VIF']}\")\n",
        "\n",
        "        # Drop the feature with the highest VIF\n",
        "        X_with_const = X_with_const.drop(columns=[feature_to_remove['Feature']])\n",
        "\n",
        "        # Recalculate VIFs for remaining features\n",
        "        vif_data = pd.DataFrame()\n",
        "        vif_data['Feature'] = X_with_const.columns\n",
        "        vif_data['VIF'] = [variance_inflation_factor(X_with_const.values, i) for i in range(X_with_const.shape[1])]\n",
        "\n",
        "        # Print the updated VIF data\n",
        "        print(\"Updated VIFs:\")\n",
        "        print(vif_data)\n",
        "\n",
        "    return X_with_const, vif_data\n",
        "\n",
        "# Call the function to remove features based on VIF threshold\n",
        "X_cleaned, final_vif_data = remove_multicollinearity(X_with_const, threshold=5)\n",
        "\n",
        "# If you want to check the final cleaned data (without high VIF features)\n",
        "print(\"\\nFinal set of features after removing high VIFs:\")\n",
        "print(X_cleaned)"
      ],
      "metadata": {
        "colab": {
          "base_uri": "https://localhost:8080/"
        },
        "id": "kFehPSH6pPM8",
        "outputId": "4d111112-5608-406f-a5ad-21226257e2b1"
      },
      "execution_count": 3,
      "outputs": [
        {
          "output_type": "stream",
          "name": "stderr",
          "text": [
            "/usr/local/lib/python3.12/dist-packages/statsmodels/stats/outliers_influence.py:197: RuntimeWarning: divide by zero encountered in scalar divide\n",
            "  vif = 1. / (1. - r_squared_i)\n",
            "/usr/local/lib/python3.12/dist-packages/statsmodels/regression/linear_model.py:1782: RuntimeWarning: divide by zero encountered in scalar divide\n",
            "  return 1 - self.ssr/self.centered_tss\n"
          ]
        },
        {
          "output_type": "stream",
          "name": "stdout",
          "text": [
            "Initial VIFs:\n",
            "                Feature           VIF\n",
            "0                   t90    549.603347\n",
            "1             t90_error     14.576785\n",
            "2             t90_start    432.566523\n",
            "3               fluence  49975.667547\n",
            "4         fluence_error    133.267553\n",
            "..                  ...           ...\n",
            "269  scat_detector_mask     24.488030\n",
            "270            scatalog     23.358819\n",
            "271                 t50     46.409775\n",
            "272           t50_error     29.847801\n",
            "273           t50_start     52.234933\n",
            "\n",
            "[274 rows x 2 columns]\n",
            "\n",
            "Removing feature: pflx_sbpl_brken_neg_err with VIF: inf\n"
          ]
        },
        {
          "output_type": "stream",
          "name": "stderr",
          "text": [
            "/usr/local/lib/python3.12/dist-packages/statsmodels/stats/outliers_influence.py:197: RuntimeWarning: divide by zero encountered in scalar divide\n",
            "  vif = 1. / (1. - r_squared_i)\n",
            "/usr/local/lib/python3.12/dist-packages/statsmodels/regression/linear_model.py:1782: RuntimeWarning: divide by zero encountered in scalar divide\n",
            "  return 1 - self.ssr/self.centered_tss\n"
          ]
        },
        {
          "output_type": "stream",
          "name": "stdout",
          "text": [
            "Updated VIFs:\n",
            "                Feature           VIF\n",
            "0                   t90    549.626219\n",
            "1             t90_error     14.576764\n",
            "2             t90_start    432.571144\n",
            "3               fluence  49975.861479\n",
            "4         fluence_error    133.266176\n",
            "..                  ...           ...\n",
            "268  scat_detector_mask     24.485077\n",
            "269            scatalog     23.357437\n",
            "270                 t50     46.412672\n",
            "271           t50_error     29.847259\n",
            "272           t50_start     52.234998\n",
            "\n",
            "[273 rows x 2 columns]\n",
            "\n",
            "Removing feature: pflx_band_beta_neg_err with VIF: inf\n"
          ]
        },
        {
          "output_type": "stream",
          "name": "stderr",
          "text": [
            "/usr/local/lib/python3.12/dist-packages/statsmodels/stats/outliers_influence.py:197: RuntimeWarning: divide by zero encountered in scalar divide\n",
            "  vif = 1. / (1. - r_squared_i)\n",
            "/usr/local/lib/python3.12/dist-packages/statsmodels/regression/linear_model.py:1782: RuntimeWarning: divide by zero encountered in scalar divide\n",
            "  return 1 - self.ssr/self.centered_tss\n"
          ]
        },
        {
          "output_type": "stream",
          "name": "stdout",
          "text": [
            "Updated VIFs:\n",
            "                Feature           VIF\n",
            "0                   t90    549.616451\n",
            "1             t90_error     14.576886\n",
            "2             t90_start    432.577536\n",
            "3               fluence  49974.482898\n",
            "4         fluence_error    133.265855\n",
            "..                  ...           ...\n",
            "267  scat_detector_mask     24.425200\n",
            "268            scatalog     23.356183\n",
            "269                 t50     46.411311\n",
            "270           t50_error     29.846480\n",
            "271           t50_start     52.234485\n",
            "\n",
            "[272 rows x 2 columns]\n",
            "\n",
            "Removing feature: flnc_band_beta_neg_err with VIF: inf\n"
          ]
        },
        {
          "output_type": "stream",
          "name": "stderr",
          "text": [
            "/usr/local/lib/python3.12/dist-packages/statsmodels/regression/linear_model.py:1782: RuntimeWarning: divide by zero encountered in scalar divide\n",
            "  return 1 - self.ssr/self.centered_tss\n",
            "/usr/local/lib/python3.12/dist-packages/statsmodels/stats/outliers_influence.py:197: RuntimeWarning: divide by zero encountered in scalar divide\n",
            "  vif = 1. / (1. - r_squared_i)\n"
          ]
        },
        {
          "output_type": "stream",
          "name": "stdout",
          "text": [
            "Updated VIFs:\n",
            "                Feature           VIF\n",
            "0                   t90    549.625413\n",
            "1             t90_error     14.577069\n",
            "2             t90_start    432.571398\n",
            "3               fluence  49974.497819\n",
            "4         fluence_error    133.273858\n",
            "..                  ...           ...\n",
            "266  scat_detector_mask     24.485134\n",
            "267            scatalog     23.356632\n",
            "268                 t50     46.415027\n",
            "269           t50_error     29.846018\n",
            "270           t50_start     52.234088\n",
            "\n",
            "[271 rows x 2 columns]\n",
            "\n",
            "Removing feature: pflx_comp_epeak_neg_err with VIF: inf\n"
          ]
        },
        {
          "output_type": "stream",
          "name": "stderr",
          "text": [
            "/usr/local/lib/python3.12/dist-packages/statsmodels/regression/linear_model.py:1782: RuntimeWarning: divide by zero encountered in scalar divide\n",
            "  return 1 - self.ssr/self.centered_tss\n",
            "/usr/local/lib/python3.12/dist-packages/statsmodels/stats/outliers_influence.py:197: RuntimeWarning: divide by zero encountered in scalar divide\n",
            "  vif = 1. / (1. - r_squared_i)\n"
          ]
        },
        {
          "output_type": "stream",
          "name": "stdout",
          "text": [
            "Updated VIFs:\n",
            "                Feature           VIF\n",
            "0                   t90    549.624220\n",
            "1             t90_error     14.576786\n",
            "2             t90_start    432.569218\n",
            "3               fluence  49974.274488\n",
            "4         fluence_error    133.279437\n",
            "..                  ...           ...\n",
            "265  scat_detector_mask     24.491676\n",
            "266            scatalog     23.357964\n",
            "267                 t50     46.410378\n",
            "268           t50_error     29.846424\n",
            "269           t50_start     52.234508\n",
            "\n",
            "[270 rows x 2 columns]\n",
            "\n",
            "Removing feature: flnc_sbpl_brken_neg_err with VIF: inf\n"
          ]
        },
        {
          "output_type": "stream",
          "name": "stderr",
          "text": [
            "/usr/local/lib/python3.12/dist-packages/statsmodels/regression/linear_model.py:1782: RuntimeWarning: divide by zero encountered in scalar divide\n",
            "  return 1 - self.ssr/self.centered_tss\n",
            "/usr/local/lib/python3.12/dist-packages/statsmodels/stats/outliers_influence.py:197: RuntimeWarning: divide by zero encountered in scalar divide\n",
            "  vif = 1. / (1. - r_squared_i)\n"
          ]
        },
        {
          "output_type": "stream",
          "name": "stdout",
          "text": [
            "Updated VIFs:\n",
            "                Feature           VIF\n",
            "0                   t90    549.619130\n",
            "1             t90_error     14.576801\n",
            "2             t90_start    432.572446\n",
            "3               fluence  49974.214664\n",
            "4         fluence_error    133.266753\n",
            "..                  ...           ...\n",
            "264  scat_detector_mask     24.486836\n",
            "265            scatalog     23.356844\n",
            "266                 t50     46.410444\n",
            "267           t50_error     29.849268\n",
            "268           t50_start     52.235033\n",
            "\n",
            "[269 rows x 2 columns]\n",
            "\n",
            "Removing feature: flnc_comp_epeak_pos_err with VIF: inf\n"
          ]
        },
        {
          "output_type": "stream",
          "name": "stderr",
          "text": [
            "/usr/local/lib/python3.12/dist-packages/statsmodels/regression/linear_model.py:1782: RuntimeWarning: divide by zero encountered in scalar divide\n",
            "  return 1 - self.ssr/self.centered_tss\n"
          ]
        },
        {
          "output_type": "stream",
          "name": "stdout",
          "text": [
            "Updated VIFs:\n",
            "                Feature           VIF\n",
            "0                   t90    549.630065\n",
            "1             t90_error     14.576774\n",
            "2             t90_start    432.575725\n",
            "3               fluence  49973.574375\n",
            "4         fluence_error    133.274628\n",
            "..                  ...           ...\n",
            "263  scat_detector_mask     24.424359\n",
            "264            scatalog     23.356309\n",
            "265                 t50     46.412889\n",
            "266           t50_error     29.847207\n",
            "267           t50_start     52.234717\n",
            "\n",
            "[268 rows x 2 columns]\n",
            "\n",
            "Removing feature: flnc_band_ampl_pos_err with VIF: 4503599627370496.0\n"
          ]
        },
        {
          "output_type": "stream",
          "name": "stderr",
          "text": [
            "/usr/local/lib/python3.12/dist-packages/statsmodels/regression/linear_model.py:1782: RuntimeWarning: divide by zero encountered in scalar divide\n",
            "  return 1 - self.ssr/self.centered_tss\n"
          ]
        },
        {
          "output_type": "stream",
          "name": "stdout",
          "text": [
            "Updated VIFs:\n",
            "                Feature           VIF\n",
            "0                   t90    549.648232\n",
            "1             t90_error     14.576950\n",
            "2             t90_start    432.681960\n",
            "3               fluence  49974.012936\n",
            "4         fluence_error    133.160468\n",
            "..                  ...           ...\n",
            "262  scat_detector_mask     24.459372\n",
            "263            scatalog     23.394485\n",
            "264                 t50     46.443222\n",
            "265           t50_error     29.855029\n",
            "266           t50_start     52.251343\n",
            "\n",
            "[267 rows x 2 columns]\n",
            "\n",
            "Removing feature: pflx_sbpl_indx1_neg_err with VIF: 1125899906842624.0\n"
          ]
        },
        {
          "output_type": "stream",
          "name": "stderr",
          "text": [
            "/usr/local/lib/python3.12/dist-packages/statsmodels/regression/linear_model.py:1782: RuntimeWarning: divide by zero encountered in scalar divide\n",
            "  return 1 - self.ssr/self.centered_tss\n"
          ]
        },
        {
          "output_type": "stream",
          "name": "stdout",
          "text": [
            "Updated VIFs:\n",
            "                Feature           VIF\n",
            "0                   t90    549.649051\n",
            "1             t90_error     14.577096\n",
            "2             t90_start    432.681998\n",
            "3               fluence  49974.084959\n",
            "4         fluence_error    133.161209\n",
            "..                  ...           ...\n",
            "261  scat_detector_mask     24.542792\n",
            "262            scatalog     23.395405\n",
            "263                 t50     46.442775\n",
            "264           t50_error     29.854957\n",
            "265           t50_start     52.251228\n",
            "\n",
            "[266 rows x 2 columns]\n",
            "\n",
            "Removing feature: pflx_band_epeak_neg_err with VIF: 562949953421312.0\n"
          ]
        },
        {
          "output_type": "stream",
          "name": "stderr",
          "text": [
            "/usr/local/lib/python3.12/dist-packages/statsmodels/regression/linear_model.py:1782: RuntimeWarning: divide by zero encountered in scalar divide\n",
            "  return 1 - self.ssr/self.centered_tss\n"
          ]
        },
        {
          "output_type": "stream",
          "name": "stdout",
          "text": [
            "Updated VIFs:\n",
            "                Feature           VIF\n",
            "0                   t90    549.680667\n",
            "1             t90_error     14.577016\n",
            "2             t90_start    432.684813\n",
            "3               fluence  49974.973570\n",
            "4         fluence_error    133.160394\n",
            "..                  ...           ...\n",
            "260  scat_detector_mask     24.603695\n",
            "261            scatalog     23.395871\n",
            "262                 t50     46.440755\n",
            "263           t50_error     29.856592\n",
            "264           t50_start     52.251492\n",
            "\n",
            "[265 rows x 2 columns]\n",
            "\n",
            "Removing feature: flnc_sbpl_indx1_neg_err with VIF: 310593077749689.4\n"
          ]
        },
        {
          "output_type": "stream",
          "name": "stderr",
          "text": [
            "/usr/local/lib/python3.12/dist-packages/statsmodels/regression/linear_model.py:1782: RuntimeWarning: divide by zero encountered in scalar divide\n",
            "  return 1 - self.ssr/self.centered_tss\n"
          ]
        },
        {
          "output_type": "stream",
          "name": "stdout",
          "text": [
            "Updated VIFs:\n",
            "                Feature           VIF\n",
            "0                   t90    549.686644\n",
            "1             t90_error     14.577013\n",
            "2             t90_start    432.680290\n",
            "3               fluence  49974.580064\n",
            "4         fluence_error    133.161897\n",
            "..                  ...           ...\n",
            "259  scat_detector_mask     24.765755\n",
            "260            scatalog     23.395577\n",
            "261                 t50     46.441657\n",
            "262           t50_error     29.857622\n",
            "263           t50_start     52.251328\n",
            "\n",
            "[264 rows x 2 columns]\n",
            "\n",
            "Removing feature: pflx_sbpl_indx2_neg_err with VIF: 21293615259434.97\n"
          ]
        },
        {
          "output_type": "stream",
          "name": "stderr",
          "text": [
            "/usr/local/lib/python3.12/dist-packages/statsmodels/regression/linear_model.py:1782: RuntimeWarning: divide by zero encountered in scalar divide\n",
            "  return 1 - self.ssr/self.centered_tss\n"
          ]
        },
        {
          "output_type": "stream",
          "name": "stdout",
          "text": [
            "Updated VIFs:\n",
            "                Feature           VIF\n",
            "0                   t90    549.684735\n",
            "1             t90_error     14.576923\n",
            "2             t90_start    432.685137\n",
            "3               fluence  49974.638229\n",
            "4         fluence_error    133.162869\n",
            "..                  ...           ...\n",
            "258  scat_detector_mask     24.745454\n",
            "259            scatalog     23.397010\n",
            "260                 t50     46.441223\n",
            "261           t50_error     29.857956\n",
            "262           t50_start     52.251218\n",
            "\n",
            "[263 rows x 2 columns]\n",
            "\n",
            "Removing feature: flnc_band_epeak_pos_err with VIF: 37687026170464.4\n"
          ]
        },
        {
          "output_type": "stream",
          "name": "stderr",
          "text": [
            "/usr/local/lib/python3.12/dist-packages/statsmodels/regression/linear_model.py:1782: RuntimeWarning: divide by zero encountered in scalar divide\n",
            "  return 1 - self.ssr/self.centered_tss\n"
          ]
        },
        {
          "output_type": "stream",
          "name": "stdout",
          "text": [
            "Updated VIFs:\n",
            "                Feature           VIF\n",
            "0                   t90    549.649576\n",
            "1             t90_error     14.576996\n",
            "2             t90_start    432.690012\n",
            "3               fluence  49974.318818\n",
            "4         fluence_error    133.161039\n",
            "..                  ...           ...\n",
            "257  scat_detector_mask     24.709229\n",
            "258            scatalog     23.398899\n",
            "259                 t50     46.442861\n",
            "260           t50_error     29.856058\n",
            "261           t50_start     52.251317\n",
            "\n",
            "[262 rows x 2 columns]\n",
            "\n",
            "Removing feature: pflx_comp_dof with VIF: 2553061013248.5806\n"
          ]
        },
        {
          "output_type": "stream",
          "name": "stderr",
          "text": [
            "/usr/local/lib/python3.12/dist-packages/statsmodels/regression/linear_model.py:1782: RuntimeWarning: divide by zero encountered in scalar divide\n",
            "  return 1 - self.ssr/self.centered_tss\n"
          ]
        },
        {
          "output_type": "stream",
          "name": "stdout",
          "text": [
            "Updated VIFs:\n",
            "                Feature           VIF\n",
            "0                   t90    549.639113\n",
            "1             t90_error     14.578455\n",
            "2             t90_start    432.681130\n",
            "3               fluence  49975.644600\n",
            "4         fluence_error    133.174061\n",
            "..                  ...           ...\n",
            "256  scat_detector_mask     24.776721\n",
            "257            scatalog     23.413697\n",
            "258                 t50     46.415336\n",
            "259           t50_error     29.857081\n",
            "260           t50_start     52.248443\n",
            "\n",
            "[261 rows x 2 columns]\n",
            "\n",
            "Removing feature: flnc_sbpl_indx2_pos_err with VIF: 13483831219672.145\n"
          ]
        },
        {
          "output_type": "stream",
          "name": "stderr",
          "text": [
            "/usr/local/lib/python3.12/dist-packages/statsmodels/regression/linear_model.py:1782: RuntimeWarning: divide by zero encountered in scalar divide\n",
            "  return 1 - self.ssr/self.centered_tss\n"
          ]
        },
        {
          "output_type": "stream",
          "name": "stdout",
          "text": [
            "Updated VIFs:\n",
            "                Feature           VIF\n",
            "0                   t90    549.622939\n",
            "1             t90_error     14.578221\n",
            "2             t90_start    432.684674\n",
            "3               fluence  49976.042961\n",
            "4         fluence_error    133.175141\n",
            "..                  ...           ...\n",
            "255  scat_detector_mask     24.773559\n",
            "256            scatalog     23.414226\n",
            "257                 t50     46.414052\n",
            "258           t50_error     29.856559\n",
            "259           t50_start     52.247930\n",
            "\n",
            "[260 rows x 2 columns]\n",
            "\n",
            "Removing feature: flnc_band_ampl with VIF: 512529831270.1145\n"
          ]
        },
        {
          "output_type": "stream",
          "name": "stderr",
          "text": [
            "/usr/local/lib/python3.12/dist-packages/statsmodels/regression/linear_model.py:1782: RuntimeWarning: divide by zero encountered in scalar divide\n",
            "  return 1 - self.ssr/self.centered_tss\n"
          ]
        },
        {
          "output_type": "stream",
          "name": "stdout",
          "text": [
            "Updated VIFs:\n",
            "                Feature           VIF\n",
            "0                   t90    502.440114\n",
            "1             t90_error     12.456480\n",
            "2             t90_start    431.535103\n",
            "3               fluence  51531.842220\n",
            "4         fluence_error    144.565995\n",
            "..                  ...           ...\n",
            "254  scat_detector_mask     22.760827\n",
            "255            scatalog     26.838203\n",
            "256                 t50     54.562807\n",
            "257           t50_error     31.653067\n",
            "258           t50_start     59.877824\n",
            "\n",
            "[259 rows x 2 columns]\n",
            "\n",
            "Removing feature: pflx_sbpl_dof with VIF: 45963540521.42736\n"
          ]
        },
        {
          "output_type": "stream",
          "name": "stderr",
          "text": [
            "/usr/local/lib/python3.12/dist-packages/statsmodels/regression/linear_model.py:1782: RuntimeWarning: divide by zero encountered in scalar divide\n",
            "  return 1 - self.ssr/self.centered_tss\n"
          ]
        },
        {
          "output_type": "stream",
          "name": "stdout",
          "text": [
            "Updated VIFs:\n",
            "                Feature           VIF\n",
            "0                   t90    502.255593\n",
            "1             t90_error     12.391335\n",
            "2             t90_start    431.388704\n",
            "3               fluence  51533.436361\n",
            "4         fluence_error    144.588051\n",
            "..                  ...           ...\n",
            "253  scat_detector_mask     22.757036\n",
            "254            scatalog     26.838263\n",
            "255                 t50     54.561324\n",
            "256           t50_error     31.653206\n",
            "257           t50_start     59.873051\n",
            "\n",
            "[258 rows x 2 columns]\n",
            "\n",
            "Removing feature: pflx_band_dof with VIF: 232431855252.39966\n"
          ]
        },
        {
          "output_type": "stream",
          "name": "stderr",
          "text": [
            "/usr/local/lib/python3.12/dist-packages/statsmodels/regression/linear_model.py:1782: RuntimeWarning: divide by zero encountered in scalar divide\n",
            "  return 1 - self.ssr/self.centered_tss\n"
          ]
        },
        {
          "output_type": "stream",
          "name": "stdout",
          "text": [
            "Updated VIFs:\n",
            "                Feature           VIF\n",
            "0                   t90    501.506677\n",
            "1             t90_error     13.206414\n",
            "2             t90_start    430.905514\n",
            "3               fluence  51528.790158\n",
            "4         fluence_error    144.576722\n",
            "..                  ...           ...\n",
            "252  scat_detector_mask     22.743367\n",
            "253            scatalog     26.829052\n",
            "254                 t50     54.555354\n",
            "255           t50_error     31.653471\n",
            "256           t50_start     59.854048\n",
            "\n",
            "[257 rows x 2 columns]\n",
            "\n",
            "Removing feature: flnc_sbpl_dof with VIF: 9858975283.318584\n"
          ]
        },
        {
          "output_type": "stream",
          "name": "stderr",
          "text": [
            "/usr/local/lib/python3.12/dist-packages/statsmodels/regression/linear_model.py:1782: RuntimeWarning: divide by zero encountered in scalar divide\n",
            "  return 1 - self.ssr/self.centered_tss\n"
          ]
        },
        {
          "output_type": "stream",
          "name": "stdout",
          "text": [
            "Updated VIFs:\n",
            "                Feature           VIF\n",
            "0                   t90    500.438080\n",
            "1             t90_error     13.275011\n",
            "2             t90_start    437.761370\n",
            "3               fluence  51550.706872\n",
            "4         fluence_error    144.738726\n",
            "..                  ...           ...\n",
            "251  scat_detector_mask     22.765533\n",
            "252            scatalog     26.823538\n",
            "253                 t50     54.470430\n",
            "254           t50_error     31.565235\n",
            "255           t50_start     59.970556\n",
            "\n",
            "[256 rows x 2 columns]\n",
            "\n",
            "Removing feature: pflx_band_ampl_neg_err with VIF: 12477730168.288387\n"
          ]
        },
        {
          "output_type": "stream",
          "name": "stderr",
          "text": [
            "/usr/local/lib/python3.12/dist-packages/statsmodels/regression/linear_model.py:1782: RuntimeWarning: divide by zero encountered in scalar divide\n",
            "  return 1 - self.ssr/self.centered_tss\n"
          ]
        },
        {
          "output_type": "stream",
          "name": "stdout",
          "text": [
            "Updated VIFs:\n",
            "                Feature           VIF\n",
            "0                   t90    500.551139\n",
            "1             t90_error     13.292457\n",
            "2             t90_start    434.586166\n",
            "3               fluence  51549.918018\n",
            "4         fluence_error    144.724887\n",
            "..                  ...           ...\n",
            "250  scat_detector_mask     22.733229\n",
            "251            scatalog     26.828330\n",
            "252                 t50     54.468025\n",
            "253           t50_error     31.601321\n",
            "254           t50_start     59.974577\n",
            "\n",
            "[255 rows x 2 columns]\n",
            "\n",
            "Removing feature: pflx_spectrum_start with VIF: 4038286093.144836\n"
          ]
        },
        {
          "output_type": "stream",
          "name": "stderr",
          "text": [
            "/usr/local/lib/python3.12/dist-packages/statsmodels/regression/linear_model.py:1782: RuntimeWarning: divide by zero encountered in scalar divide\n",
            "  return 1 - self.ssr/self.centered_tss\n"
          ]
        },
        {
          "output_type": "stream",
          "name": "stdout",
          "text": [
            "Updated VIFs:\n",
            "                Feature           VIF\n",
            "0                   t90    501.314954\n",
            "1             t90_error     14.697975\n",
            "2             t90_start    437.357634\n",
            "3               fluence  51542.681812\n",
            "4         fluence_error    144.633609\n",
            "..                  ...           ...\n",
            "249  scat_detector_mask     22.734466\n",
            "250            scatalog     26.826636\n",
            "251                 t50     54.467110\n",
            "252           t50_error     31.595168\n",
            "253           t50_start     59.951996\n",
            "\n",
            "[254 rows x 2 columns]\n",
            "\n",
            "Removing feature: flnc_plaw_dof with VIF: 1942748792.7898355\n"
          ]
        },
        {
          "output_type": "stream",
          "name": "stderr",
          "text": [
            "/usr/local/lib/python3.12/dist-packages/statsmodels/regression/linear_model.py:1782: RuntimeWarning: divide by zero encountered in scalar divide\n",
            "  return 1 - self.ssr/self.centered_tss\n"
          ]
        },
        {
          "output_type": "stream",
          "name": "stdout",
          "text": [
            "Updated VIFs:\n",
            "                Feature           VIF\n",
            "0                   t90    502.501027\n",
            "1             t90_error     14.685031\n",
            "2             t90_start    431.961190\n",
            "3               fluence  51604.631774\n",
            "4         fluence_error    145.143529\n",
            "..                  ...           ...\n",
            "248  scat_detector_mask     22.674116\n",
            "249            scatalog     26.738271\n",
            "250                 t50     54.505173\n",
            "251           t50_error     31.319955\n",
            "252           t50_start     59.843265\n",
            "\n",
            "[253 rows x 2 columns]\n",
            "\n",
            "Removing feature: pflx_comp_phtflnc with VIF: 665884649.975167\n"
          ]
        },
        {
          "output_type": "stream",
          "name": "stderr",
          "text": [
            "/usr/local/lib/python3.12/dist-packages/statsmodels/regression/linear_model.py:1782: RuntimeWarning: divide by zero encountered in scalar divide\n",
            "  return 1 - self.ssr/self.centered_tss\n"
          ]
        },
        {
          "output_type": "stream",
          "name": "stdout",
          "text": [
            "Updated VIFs:\n",
            "                Feature           VIF\n",
            "0                   t90    510.339293\n",
            "1             t90_error     14.640809\n",
            "2             t90_start    435.518648\n",
            "3               fluence  50482.992753\n",
            "4         fluence_error    143.502095\n",
            "..                  ...           ...\n",
            "247  scat_detector_mask     22.619599\n",
            "248            scatalog     26.647446\n",
            "249                 t50     54.404128\n",
            "250           t50_error     31.335161\n",
            "251           t50_start     59.461675\n",
            "\n",
            "[252 rows x 2 columns]\n",
            "\n",
            "Removing feature: pflx_plaw_phtflnc with VIF: 334359302.37350476\n"
          ]
        },
        {
          "output_type": "stream",
          "name": "stderr",
          "text": [
            "/usr/local/lib/python3.12/dist-packages/statsmodels/regression/linear_model.py:1782: RuntimeWarning: divide by zero encountered in scalar divide\n",
            "  return 1 - self.ssr/self.centered_tss\n"
          ]
        },
        {
          "output_type": "stream",
          "name": "stdout",
          "text": [
            "Updated VIFs:\n",
            "                Feature           VIF\n",
            "0                   t90    451.630585\n",
            "1             t90_error     14.631295\n",
            "2             t90_start    445.127019\n",
            "3               fluence  55594.796535\n",
            "4         fluence_error    153.356911\n",
            "..                  ...           ...\n",
            "246  scat_detector_mask     22.153235\n",
            "247            scatalog     32.721662\n",
            "248                 t50     54.728446\n",
            "249           t50_error     31.416439\n",
            "250           t50_start     58.158993\n",
            "\n",
            "[251 rows x 2 columns]\n",
            "\n",
            "Removing feature: flnc_comp_epeak_neg_err with VIF: 273634909.01289135\n"
          ]
        },
        {
          "output_type": "stream",
          "name": "stderr",
          "text": [
            "/usr/local/lib/python3.12/dist-packages/statsmodels/regression/linear_model.py:1782: RuntimeWarning: divide by zero encountered in scalar divide\n",
            "  return 1 - self.ssr/self.centered_tss\n"
          ]
        },
        {
          "output_type": "stream",
          "name": "stdout",
          "text": [
            "Updated VIFs:\n",
            "                Feature           VIF\n",
            "0                   t90    462.734462\n",
            "1             t90_error     13.111782\n",
            "2             t90_start    510.231469\n",
            "3               fluence  54145.427123\n",
            "4         fluence_error    134.814000\n",
            "..                  ...           ...\n",
            "245  scat_detector_mask     23.752412\n",
            "246            scatalog     25.791614\n",
            "247                 t50     47.093337\n",
            "248           t50_error     27.018473\n",
            "249           t50_start     65.951010\n",
            "\n",
            "[250 rows x 2 columns]\n",
            "\n",
            "Removing feature: pflx_sbpl_phtflnc with VIF: 115771745.56769949\n"
          ]
        },
        {
          "output_type": "stream",
          "name": "stderr",
          "text": [
            "/usr/local/lib/python3.12/dist-packages/statsmodels/regression/linear_model.py:1782: RuntimeWarning: divide by zero encountered in scalar divide\n",
            "  return 1 - self.ssr/self.centered_tss\n"
          ]
        },
        {
          "output_type": "stream",
          "name": "stdout",
          "text": [
            "Updated VIFs:\n",
            "                Feature           VIF\n",
            "0                   t90    384.835240\n",
            "1             t90_error     12.514087\n",
            "2             t90_start    431.438936\n",
            "3               fluence  50779.408497\n",
            "4         fluence_error    140.080373\n",
            "..                  ...           ...\n",
            "244  scat_detector_mask     21.537337\n",
            "245            scatalog     25.388453\n",
            "246                 t50     45.915208\n",
            "247           t50_error     28.319752\n",
            "248           t50_start     56.205603\n",
            "\n",
            "[249 rows x 2 columns]\n",
            "\n",
            "Removing feature: pflx_comp_phtfluxb with VIF: 88273201.84586768\n"
          ]
        },
        {
          "output_type": "stream",
          "name": "stderr",
          "text": [
            "/usr/local/lib/python3.12/dist-packages/statsmodels/regression/linear_model.py:1782: RuntimeWarning: divide by zero encountered in scalar divide\n",
            "  return 1 - self.ssr/self.centered_tss\n"
          ]
        },
        {
          "output_type": "stream",
          "name": "stdout",
          "text": [
            "Updated VIFs:\n",
            "                Feature           VIF\n",
            "0                   t90    488.396734\n",
            "1             t90_error     12.368334\n",
            "2             t90_start    417.846180\n",
            "3               fluence  50814.843930\n",
            "4         fluence_error    140.382969\n",
            "..                  ...           ...\n",
            "243  scat_detector_mask     21.317313\n",
            "244            scatalog     31.288704\n",
            "245                 t50     43.382555\n",
            "246           t50_error     27.968643\n",
            "247           t50_start     54.384393\n",
            "\n",
            "[248 rows x 2 columns]\n",
            "\n",
            "Removing feature: pflx_band_phtflux with VIF: 62185311.22611686\n"
          ]
        },
        {
          "output_type": "stream",
          "name": "stderr",
          "text": [
            "/usr/local/lib/python3.12/dist-packages/statsmodels/regression/linear_model.py:1782: RuntimeWarning: divide by zero encountered in scalar divide\n",
            "  return 1 - self.ssr/self.centered_tss\n"
          ]
        },
        {
          "output_type": "stream",
          "name": "stdout",
          "text": [
            "Updated VIFs:\n",
            "                Feature           VIF\n",
            "0                   t90    405.818158\n",
            "1             t90_error     12.144111\n",
            "2             t90_start    435.842437\n",
            "3               fluence  53116.941007\n",
            "4         fluence_error    158.183969\n",
            "..                  ...           ...\n",
            "242  scat_detector_mask     20.758554\n",
            "243            scatalog     25.187463\n",
            "244                 t50     41.168593\n",
            "245           t50_error     30.167597\n",
            "246           t50_start     54.748129\n",
            "\n",
            "[247 rows x 2 columns]\n",
            "\n",
            "Removing feature: pflx_band_phtfluxb with VIF: 39298565.46454936\n"
          ]
        },
        {
          "output_type": "stream",
          "name": "stderr",
          "text": [
            "/usr/local/lib/python3.12/dist-packages/statsmodels/regression/linear_model.py:1782: RuntimeWarning: divide by zero encountered in scalar divide\n",
            "  return 1 - self.ssr/self.centered_tss\n"
          ]
        },
        {
          "output_type": "stream",
          "name": "stdout",
          "text": [
            "Updated VIFs:\n",
            "                Feature           VIF\n",
            "0                   t90    399.925298\n",
            "1             t90_error     14.564219\n",
            "2             t90_start    428.836049\n",
            "3               fluence  50681.456913\n",
            "4         fluence_error    158.124037\n",
            "..                  ...           ...\n",
            "241  scat_detector_mask     21.234989\n",
            "242            scatalog     23.682710\n",
            "243                 t50     40.929232\n",
            "244           t50_error     27.212277\n",
            "245           t50_start     53.914990\n",
            "\n",
            "[246 rows x 2 columns]\n",
            "\n",
            "Removing feature: flnc_sbpl_phtflnc with VIF: 36805990.699102625\n"
          ]
        },
        {
          "output_type": "stream",
          "name": "stderr",
          "text": [
            "/usr/local/lib/python3.12/dist-packages/statsmodels/regression/linear_model.py:1782: RuntimeWarning: divide by zero encountered in scalar divide\n",
            "  return 1 - self.ssr/self.centered_tss\n"
          ]
        },
        {
          "output_type": "stream",
          "name": "stdout",
          "text": [
            "Updated VIFs:\n",
            "                Feature           VIF\n",
            "0                   t90    412.644495\n",
            "1             t90_error     13.110414\n",
            "2             t90_start    539.699824\n",
            "3               fluence  48746.035949\n",
            "4         fluence_error    135.228969\n",
            "..                  ...           ...\n",
            "240  scat_detector_mask     21.544566\n",
            "241            scatalog     23.924511\n",
            "242                 t50     54.066450\n",
            "243           t50_error     21.773637\n",
            "244           t50_start     63.724991\n",
            "\n",
            "[245 rows x 2 columns]\n",
            "\n",
            "Removing feature: pflx_sbpl_phtflncb with VIF: 43266643.03445774\n"
          ]
        },
        {
          "output_type": "stream",
          "name": "stderr",
          "text": [
            "/usr/local/lib/python3.12/dist-packages/statsmodels/regression/linear_model.py:1782: RuntimeWarning: divide by zero encountered in scalar divide\n",
            "  return 1 - self.ssr/self.centered_tss\n"
          ]
        },
        {
          "output_type": "stream",
          "name": "stdout",
          "text": [
            "Updated VIFs:\n",
            "                Feature           VIF\n",
            "0                   t90    405.807271\n",
            "1             t90_error     12.981005\n",
            "2             t90_start    536.596947\n",
            "3               fluence  48126.469365\n",
            "4         fluence_error    122.961703\n",
            "..                  ...           ...\n",
            "239  scat_detector_mask     21.684305\n",
            "240            scatalog     21.877990\n",
            "241                 t50     51.772502\n",
            "242           t50_error     21.575278\n",
            "243           t50_start     57.429288\n",
            "\n",
            "[244 rows x 2 columns]\n",
            "\n",
            "Removing feature: pflx_sbpl_phtflux with VIF: 21044924.501014\n"
          ]
        },
        {
          "output_type": "stream",
          "name": "stderr",
          "text": [
            "/usr/local/lib/python3.12/dist-packages/statsmodels/regression/linear_model.py:1782: RuntimeWarning: divide by zero encountered in scalar divide\n",
            "  return 1 - self.ssr/self.centered_tss\n"
          ]
        },
        {
          "output_type": "stream",
          "name": "stdout",
          "text": [
            "Updated VIFs:\n",
            "                Feature           VIF\n",
            "0                   t90    479.854027\n",
            "1             t90_error     14.674954\n",
            "2             t90_start    455.615420\n",
            "3               fluence  49480.541250\n",
            "4         fluence_error    129.299540\n",
            "..                  ...           ...\n",
            "238  scat_detector_mask     20.166773\n",
            "239            scatalog     21.521596\n",
            "240                 t50     27.269434\n",
            "241           t50_error     26.294999\n",
            "242           t50_start     27.224999\n",
            "\n",
            "[243 rows x 2 columns]\n",
            "\n",
            "Removing feature: pflx_plaw_ampl with VIF: 16517186.176991431\n"
          ]
        },
        {
          "output_type": "stream",
          "name": "stderr",
          "text": [
            "/usr/local/lib/python3.12/dist-packages/statsmodels/regression/linear_model.py:1782: RuntimeWarning: divide by zero encountered in scalar divide\n",
            "  return 1 - self.ssr/self.centered_tss\n"
          ]
        },
        {
          "output_type": "stream",
          "name": "stdout",
          "text": [
            "Updated VIFs:\n",
            "                Feature           VIF\n",
            "0                   t90    479.854493\n",
            "1             t90_error     14.675054\n",
            "2             t90_start    455.606109\n",
            "3               fluence  49480.163879\n",
            "4         fluence_error    129.299762\n",
            "..                  ...           ...\n",
            "237  scat_detector_mask     20.166775\n",
            "238            scatalog     21.522215\n",
            "239                 t50     27.269203\n",
            "240           t50_error     26.294010\n",
            "241           t50_start     27.224998\n",
            "\n",
            "[242 rows x 2 columns]\n",
            "\n",
            "Removing feature: flnc_band_phtflncb with VIF: 16063441.609022876\n"
          ]
        },
        {
          "output_type": "stream",
          "name": "stderr",
          "text": [
            "/usr/local/lib/python3.12/dist-packages/statsmodels/regression/linear_model.py:1782: RuntimeWarning: divide by zero encountered in scalar divide\n",
            "  return 1 - self.ssr/self.centered_tss\n"
          ]
        },
        {
          "output_type": "stream",
          "name": "stdout",
          "text": [
            "Updated VIFs:\n",
            "                Feature           VIF\n",
            "0                   t90    488.978734\n",
            "1             t90_error     12.341997\n",
            "2             t90_start    448.979461\n",
            "3               fluence  49946.013402\n",
            "4         fluence_error    125.962632\n",
            "..                  ...           ...\n",
            "236  scat_detector_mask     22.336515\n",
            "237            scatalog     29.743555\n",
            "238                 t50     26.465463\n",
            "239           t50_error     21.286794\n",
            "240           t50_start     27.569793\n",
            "\n",
            "[241 rows x 2 columns]\n",
            "\n",
            "Removing feature: flnc_plaw_ergflncb with VIF: 14332452.811182061\n"
          ]
        },
        {
          "output_type": "stream",
          "name": "stderr",
          "text": [
            "/usr/local/lib/python3.12/dist-packages/statsmodels/regression/linear_model.py:1782: RuntimeWarning: divide by zero encountered in scalar divide\n",
            "  return 1 - self.ssr/self.centered_tss\n"
          ]
        },
        {
          "output_type": "stream",
          "name": "stdout",
          "text": [
            "Updated VIFs:\n",
            "                Feature           VIF\n",
            "0                   t90    488.989831\n",
            "1             t90_error     12.341974\n",
            "2             t90_start    448.973951\n",
            "3               fluence  49943.741504\n",
            "4         fluence_error    125.963160\n",
            "..                  ...           ...\n",
            "235  scat_detector_mask     22.336517\n",
            "236            scatalog     29.745440\n",
            "237                 t50     26.464163\n",
            "238           t50_error     21.286408\n",
            "239           t50_start     27.569878\n",
            "\n",
            "[240 rows x 2 columns]\n",
            "\n",
            "Removing feature: pflx_plaw_phtfluxb with VIF: 13180177.91500483\n"
          ]
        },
        {
          "output_type": "stream",
          "name": "stderr",
          "text": [
            "/usr/local/lib/python3.12/dist-packages/statsmodels/regression/linear_model.py:1782: RuntimeWarning: divide by zero encountered in scalar divide\n",
            "  return 1 - self.ssr/self.centered_tss\n"
          ]
        },
        {
          "output_type": "stream",
          "name": "stdout",
          "text": [
            "Updated VIFs:\n",
            "                Feature           VIF\n",
            "0                   t90    475.981930\n",
            "1             t90_error     11.949730\n",
            "2             t90_start    477.575797\n",
            "3               fluence  47934.025107\n",
            "4         fluence_error    120.097433\n",
            "..                  ...           ...\n",
            "234  scat_detector_mask     20.551405\n",
            "235            scatalog     29.431095\n",
            "236                 t50     25.969208\n",
            "237           t50_error     23.952458\n",
            "238           t50_start     25.051766\n",
            "\n",
            "[239 rows x 2 columns]\n",
            "\n",
            "Removing feature: flnc_comp_ampl_pos_err with VIF: 11190230.33319309\n"
          ]
        },
        {
          "output_type": "stream",
          "name": "stderr",
          "text": [
            "/usr/local/lib/python3.12/dist-packages/statsmodels/regression/linear_model.py:1782: RuntimeWarning: divide by zero encountered in scalar divide\n",
            "  return 1 - self.ssr/self.centered_tss\n"
          ]
        },
        {
          "output_type": "stream",
          "name": "stdout",
          "text": [
            "Updated VIFs:\n",
            "                Feature           VIF\n",
            "0                   t90    475.395031\n",
            "1             t90_error     12.204709\n",
            "2             t90_start    477.576714\n",
            "3               fluence  47932.196916\n",
            "4         fluence_error    120.109413\n",
            "..                  ...           ...\n",
            "233  scat_detector_mask     20.553288\n",
            "234            scatalog     29.431674\n",
            "235                 t50     25.971458\n",
            "236           t50_error     23.952375\n",
            "237           t50_start     25.052711\n",
            "\n",
            "[238 rows x 2 columns]\n",
            "\n",
            "Removing feature: flnc_comp_ampl_neg_err with VIF: 11224548.319924906\n"
          ]
        },
        {
          "output_type": "stream",
          "name": "stderr",
          "text": [
            "/usr/local/lib/python3.12/dist-packages/statsmodels/regression/linear_model.py:1782: RuntimeWarning: divide by zero encountered in scalar divide\n",
            "  return 1 - self.ssr/self.centered_tss\n"
          ]
        },
        {
          "output_type": "stream",
          "name": "stdout",
          "text": [
            "Updated VIFs:\n",
            "                Feature           VIF\n",
            "0                   t90    474.618363\n",
            "1             t90_error     12.210745\n",
            "2             t90_start    477.589435\n",
            "3               fluence  47930.730401\n",
            "4         fluence_error    120.121058\n",
            "..                  ...           ...\n",
            "232  scat_detector_mask     20.553733\n",
            "233            scatalog     29.432351\n",
            "234                 t50     25.970443\n",
            "235           t50_error     23.952859\n",
            "236           t50_start     25.053989\n",
            "\n",
            "[237 rows x 2 columns]\n",
            "\n",
            "Removing feature: flnc_comp_phtflnc with VIF: 9791620.184757678\n"
          ]
        },
        {
          "output_type": "stream",
          "name": "stderr",
          "text": [
            "/usr/local/lib/python3.12/dist-packages/statsmodels/regression/linear_model.py:1782: RuntimeWarning: divide by zero encountered in scalar divide\n",
            "  return 1 - self.ssr/self.centered_tss\n"
          ]
        },
        {
          "output_type": "stream",
          "name": "stdout",
          "text": [
            "Updated VIFs:\n",
            "                Feature           VIF\n",
            "0                   t90    459.800150\n",
            "1             t90_error     11.536012\n",
            "2             t90_start    502.938722\n",
            "3               fluence  40092.454903\n",
            "4         fluence_error    111.167935\n",
            "..                  ...           ...\n",
            "231  scat_detector_mask     21.672992\n",
            "232            scatalog     20.979890\n",
            "233                 t50     18.246998\n",
            "234           t50_error     23.158722\n",
            "235           t50_start     20.785639\n",
            "\n",
            "[236 rows x 2 columns]\n",
            "\n",
            "Removing feature: pflx_plaw_ergflncb with VIF: 5246759.303793168\n"
          ]
        },
        {
          "output_type": "stream",
          "name": "stderr",
          "text": [
            "/usr/local/lib/python3.12/dist-packages/statsmodels/regression/linear_model.py:1782: RuntimeWarning: divide by zero encountered in scalar divide\n",
            "  return 1 - self.ssr/self.centered_tss\n"
          ]
        },
        {
          "output_type": "stream",
          "name": "stdout",
          "text": [
            "Updated VIFs:\n",
            "                Feature           VIF\n",
            "0                   t90    459.804895\n",
            "1             t90_error     11.535954\n",
            "2             t90_start    502.901742\n",
            "3               fluence  40098.855748\n",
            "4         fluence_error    111.167113\n",
            "..                  ...           ...\n",
            "230  scat_detector_mask     21.672983\n",
            "231            scatalog     20.980012\n",
            "232                 t50     18.246915\n",
            "233           t50_error     23.158429\n",
            "234           t50_start     20.785670\n",
            "\n",
            "[235 rows x 2 columns]\n",
            "\n",
            "Removing feature: pflx_band_phtflncb with VIF: 3118337.4367590453\n"
          ]
        },
        {
          "output_type": "stream",
          "name": "stderr",
          "text": [
            "/usr/local/lib/python3.12/dist-packages/statsmodels/regression/linear_model.py:1782: RuntimeWarning: divide by zero encountered in scalar divide\n",
            "  return 1 - self.ssr/self.centered_tss\n"
          ]
        },
        {
          "output_type": "stream",
          "name": "stdout",
          "text": [
            "Updated VIFs:\n",
            "                Feature           VIF\n",
            "0                   t90    373.693202\n",
            "1             t90_error     11.953548\n",
            "2             t90_start    446.801337\n",
            "3               fluence  32288.184603\n",
            "4         fluence_error     89.344904\n",
            "..                  ...           ...\n",
            "229  scat_detector_mask     26.334846\n",
            "230            scatalog     22.415878\n",
            "231                 t50     18.643585\n",
            "232           t50_error     23.584113\n",
            "233           t50_start     21.002743\n",
            "\n",
            "[234 rows x 2 columns]\n",
            "\n",
            "Removing feature: pflx_band_alpha_pos_err with VIF: 4242096.922193916\n"
          ]
        },
        {
          "output_type": "stream",
          "name": "stderr",
          "text": [
            "/usr/local/lib/python3.12/dist-packages/statsmodels/regression/linear_model.py:1782: RuntimeWarning: divide by zero encountered in scalar divide\n",
            "  return 1 - self.ssr/self.centered_tss\n"
          ]
        },
        {
          "output_type": "stream",
          "name": "stdout",
          "text": [
            "Updated VIFs:\n",
            "                Feature           VIF\n",
            "0                   t90    377.558923\n",
            "1             t90_error     11.951917\n",
            "2             t90_start    464.432615\n",
            "3               fluence  32995.974948\n",
            "4         fluence_error     89.405450\n",
            "..                  ...           ...\n",
            "228  scat_detector_mask     26.260274\n",
            "229            scatalog     22.373077\n",
            "230                 t50     18.772128\n",
            "231           t50_error     23.855002\n",
            "232           t50_start     21.009856\n",
            "\n",
            "[233 rows x 2 columns]\n",
            "\n",
            "Removing feature: flnc_comp_phtflncb with VIF: 2742978.5387306465\n"
          ]
        },
        {
          "output_type": "stream",
          "name": "stderr",
          "text": [
            "/usr/local/lib/python3.12/dist-packages/statsmodels/regression/linear_model.py:1782: RuntimeWarning: divide by zero encountered in scalar divide\n",
            "  return 1 - self.ssr/self.centered_tss\n"
          ]
        },
        {
          "output_type": "stream",
          "name": "stdout",
          "text": [
            "Updated VIFs:\n",
            "                Feature           VIF\n",
            "0                   t90    375.431999\n",
            "1             t90_error     11.550152\n",
            "2             t90_start    444.875756\n",
            "3               fluence  35210.181112\n",
            "4         fluence_error     96.146651\n",
            "..                  ...           ...\n",
            "227  scat_detector_mask     21.467418\n",
            "228            scatalog     21.108302\n",
            "229                 t50     19.099895\n",
            "230           t50_error     21.427751\n",
            "231           t50_start     19.190166\n",
            "\n",
            "[232 rows x 2 columns]\n",
            "\n",
            "Removing feature: pflx_comp_epeak with VIF: 1986634.145878763\n"
          ]
        },
        {
          "output_type": "stream",
          "name": "stderr",
          "text": [
            "/usr/local/lib/python3.12/dist-packages/statsmodels/regression/linear_model.py:1782: RuntimeWarning: divide by zero encountered in scalar divide\n",
            "  return 1 - self.ssr/self.centered_tss\n"
          ]
        },
        {
          "output_type": "stream",
          "name": "stdout",
          "text": [
            "Updated VIFs:\n",
            "                Feature           VIF\n",
            "0                   t90    340.158011\n",
            "1             t90_error     11.736774\n",
            "2             t90_start    427.006293\n",
            "3               fluence  31228.721103\n",
            "4         fluence_error     75.998512\n",
            "..                  ...           ...\n",
            "226  scat_detector_mask     20.659177\n",
            "227            scatalog     22.561596\n",
            "228                 t50     19.520989\n",
            "229           t50_error     23.583768\n",
            "230           t50_start     18.373282\n",
            "\n",
            "[231 rows x 2 columns]\n",
            "\n",
            "Removing feature: flnc_band_dof with VIF: 1045919.5796464226\n"
          ]
        },
        {
          "output_type": "stream",
          "name": "stderr",
          "text": [
            "/usr/local/lib/python3.12/dist-packages/statsmodels/regression/linear_model.py:1782: RuntimeWarning: divide by zero encountered in scalar divide\n",
            "  return 1 - self.ssr/self.centered_tss\n"
          ]
        },
        {
          "output_type": "stream",
          "name": "stdout",
          "text": [
            "Updated VIFs:\n",
            "                Feature           VIF\n",
            "0                   t90    319.922163\n",
            "1             t90_error     10.506131\n",
            "2             t90_start    443.626662\n",
            "3               fluence  31633.842480\n",
            "4         fluence_error     97.752833\n",
            "..                  ...           ...\n",
            "225  scat_detector_mask     20.657055\n",
            "226            scatalog     23.272170\n",
            "227                 t50     19.756820\n",
            "228           t50_error     24.838755\n",
            "229           t50_start     21.234338\n",
            "\n",
            "[230 rows x 2 columns]\n",
            "\n",
            "Removing feature: pflx_comp_phtflux with VIF: 878714.7277219865\n"
          ]
        },
        {
          "output_type": "stream",
          "name": "stderr",
          "text": [
            "/usr/local/lib/python3.12/dist-packages/statsmodels/regression/linear_model.py:1782: RuntimeWarning: divide by zero encountered in scalar divide\n",
            "  return 1 - self.ssr/self.centered_tss\n"
          ]
        },
        {
          "output_type": "stream",
          "name": "stdout",
          "text": [
            "Updated VIFs:\n",
            "                Feature           VIF\n",
            "0                   t90    367.823538\n",
            "1             t90_error      9.158249\n",
            "2             t90_start    456.491618\n",
            "3               fluence  31694.736646\n",
            "4         fluence_error     99.138345\n",
            "..                  ...           ...\n",
            "224  scat_detector_mask     19.742264\n",
            "225            scatalog     22.311477\n",
            "226                 t50     20.659655\n",
            "227           t50_error     21.614712\n",
            "228           t50_start     23.040274\n",
            "\n",
            "[229 rows x 2 columns]\n",
            "\n",
            "Removing feature: flnc_sbpl_phtflux with VIF: 722230.7613179305\n"
          ]
        },
        {
          "output_type": "stream",
          "name": "stderr",
          "text": [
            "/usr/local/lib/python3.12/dist-packages/statsmodels/regression/linear_model.py:1782: RuntimeWarning: divide by zero encountered in scalar divide\n",
            "  return 1 - self.ssr/self.centered_tss\n"
          ]
        },
        {
          "output_type": "stream",
          "name": "stdout",
          "text": [
            "Updated VIFs:\n",
            "                Feature           VIF\n",
            "0                   t90    312.022334\n",
            "1             t90_error      9.717211\n",
            "2             t90_start    453.171499\n",
            "3               fluence  31936.212174\n",
            "4         fluence_error     91.248989\n",
            "..                  ...           ...\n",
            "223  scat_detector_mask     19.713955\n",
            "224            scatalog     22.490730\n",
            "225                 t50     20.976498\n",
            "226           t50_error     20.848159\n",
            "227           t50_start     22.848468\n",
            "\n",
            "[228 rows x 2 columns]\n",
            "\n",
            "Removing feature: pflx_sbpl_phtfluxb with VIF: 602238.7364320908\n"
          ]
        },
        {
          "output_type": "stream",
          "name": "stderr",
          "text": [
            "/usr/local/lib/python3.12/dist-packages/statsmodels/regression/linear_model.py:1782: RuntimeWarning: divide by zero encountered in scalar divide\n",
            "  return 1 - self.ssr/self.centered_tss\n"
          ]
        },
        {
          "output_type": "stream",
          "name": "stdout",
          "text": [
            "Updated VIFs:\n",
            "                Feature           VIF\n",
            "0                   t90    387.096651\n",
            "1             t90_error     10.299787\n",
            "2             t90_start    412.173530\n",
            "3               fluence  32326.688846\n",
            "4         fluence_error     81.208223\n",
            "..                  ...           ...\n",
            "222  scat_detector_mask     20.615620\n",
            "223            scatalog     22.875256\n",
            "224                 t50     22.218286\n",
            "225           t50_error     25.366996\n",
            "226           t50_start     20.162591\n",
            "\n",
            "[227 rows x 2 columns]\n",
            "\n",
            "Removing feature: flnc_plaw_ergflnc with VIF: 616064.6254486366\n"
          ]
        },
        {
          "output_type": "stream",
          "name": "stderr",
          "text": [
            "/usr/local/lib/python3.12/dist-packages/statsmodels/regression/linear_model.py:1782: RuntimeWarning: divide by zero encountered in scalar divide\n",
            "  return 1 - self.ssr/self.centered_tss\n"
          ]
        },
        {
          "output_type": "stream",
          "name": "stdout",
          "text": [
            "Updated VIFs:\n",
            "                Feature           VIF\n",
            "0                   t90    387.110694\n",
            "1             t90_error     10.299552\n",
            "2             t90_start    411.742129\n",
            "3               fluence  32326.628600\n",
            "4         fluence_error     81.208625\n",
            "..                  ...           ...\n",
            "221  scat_detector_mask     20.615655\n",
            "222            scatalog     22.875251\n",
            "223                 t50     22.217494\n",
            "224           t50_error     25.366799\n",
            "225           t50_start     20.162540\n",
            "\n",
            "[226 rows x 2 columns]\n",
            "\n",
            "Removing feature: flnc_band_phtfluxb with VIF: 485285.1655148382\n"
          ]
        },
        {
          "output_type": "stream",
          "name": "stderr",
          "text": [
            "/usr/local/lib/python3.12/dist-packages/statsmodels/regression/linear_model.py:1782: RuntimeWarning: divide by zero encountered in scalar divide\n",
            "  return 1 - self.ssr/self.centered_tss\n"
          ]
        },
        {
          "output_type": "stream",
          "name": "stdout",
          "text": [
            "Updated VIFs:\n",
            "                Feature           VIF\n",
            "0                   t90    388.290791\n",
            "1             t90_error     10.502191\n",
            "2             t90_start    416.920296\n",
            "3               fluence  31841.578069\n",
            "4         fluence_error     81.393873\n",
            "..                  ...           ...\n",
            "220  scat_detector_mask     20.413741\n",
            "221            scatalog     22.449441\n",
            "222                 t50     18.433928\n",
            "223           t50_error     25.508819\n",
            "224           t50_start     19.823325\n",
            "\n",
            "[225 rows x 2 columns]\n",
            "\n",
            "Removing feature: flux_batse_256 with VIF: 402137.5523149427\n"
          ]
        },
        {
          "output_type": "stream",
          "name": "stderr",
          "text": [
            "/usr/local/lib/python3.12/dist-packages/statsmodels/regression/linear_model.py:1782: RuntimeWarning: divide by zero encountered in scalar divide\n",
            "  return 1 - self.ssr/self.centered_tss\n"
          ]
        },
        {
          "output_type": "stream",
          "name": "stdout",
          "text": [
            "Updated VIFs:\n",
            "                Feature           VIF\n",
            "0                   t90    375.129389\n",
            "1             t90_error     10.133015\n",
            "2             t90_start    413.800489\n",
            "3               fluence  30426.281125\n",
            "4         fluence_error     72.319494\n",
            "..                  ...           ...\n",
            "219  scat_detector_mask     18.620234\n",
            "220            scatalog     21.902842\n",
            "221                 t50     18.102172\n",
            "222           t50_error     21.426279\n",
            "223           t50_start     20.600338\n",
            "\n",
            "[224 rows x 2 columns]\n",
            "\n",
            "Removing feature: flnc_plaw_ampl with VIF: 356534.54565805633\n"
          ]
        },
        {
          "output_type": "stream",
          "name": "stderr",
          "text": [
            "/usr/local/lib/python3.12/dist-packages/statsmodels/regression/linear_model.py:1782: RuntimeWarning: divide by zero encountered in scalar divide\n",
            "  return 1 - self.ssr/self.centered_tss\n"
          ]
        },
        {
          "output_type": "stream",
          "name": "stdout",
          "text": [
            "Updated VIFs:\n",
            "                Feature           VIF\n",
            "0                   t90    375.115271\n",
            "1             t90_error     10.132523\n",
            "2             t90_start    413.915522\n",
            "3               fluence  30427.030909\n",
            "4         fluence_error     72.316273\n",
            "..                  ...           ...\n",
            "218  scat_detector_mask     18.620301\n",
            "219            scatalog     21.902658\n",
            "220                 t50     18.102752\n",
            "221           t50_error     21.426017\n",
            "222           t50_start     20.600331\n",
            "\n",
            "[223 rows x 2 columns]\n",
            "\n",
            "Removing feature: pflx_plaw_ergflnc with VIF: 337541.7773350507\n"
          ]
        },
        {
          "output_type": "stream",
          "name": "stderr",
          "text": [
            "/usr/local/lib/python3.12/dist-packages/statsmodels/regression/linear_model.py:1782: RuntimeWarning: divide by zero encountered in scalar divide\n",
            "  return 1 - self.ssr/self.centered_tss\n"
          ]
        },
        {
          "output_type": "stream",
          "name": "stdout",
          "text": [
            "Updated VIFs:\n",
            "                Feature           VIF\n",
            "0                   t90    375.125256\n",
            "1             t90_error     10.132368\n",
            "2             t90_start    413.799594\n",
            "3               fluence  30426.427278\n",
            "4         fluence_error     72.318456\n",
            "..                  ...           ...\n",
            "217  scat_detector_mask     18.620200\n",
            "218            scatalog     21.901586\n",
            "219                 t50     18.102794\n",
            "220           t50_error     21.425947\n",
            "221           t50_start     20.599552\n",
            "\n",
            "[222 rows x 2 columns]\n",
            "\n",
            "Removing feature: pflx_plaw_redfitstat with VIF: 317285.54203814815\n"
          ]
        },
        {
          "output_type": "stream",
          "name": "stderr",
          "text": [
            "/usr/local/lib/python3.12/dist-packages/statsmodels/regression/linear_model.py:1782: RuntimeWarning: divide by zero encountered in scalar divide\n",
            "  return 1 - self.ssr/self.centered_tss\n"
          ]
        },
        {
          "output_type": "stream",
          "name": "stdout",
          "text": [
            "Updated VIFs:\n",
            "                Feature           VIF\n",
            "0                   t90    397.598526\n",
            "1             t90_error     10.405338\n",
            "2             t90_start    367.557694\n",
            "3               fluence  27806.311932\n",
            "4         fluence_error     75.560506\n",
            "..                  ...           ...\n",
            "216  scat_detector_mask     18.412615\n",
            "217            scatalog     16.374975\n",
            "218                 t50     15.944820\n",
            "219           t50_error     23.544663\n",
            "220           t50_start     17.446696\n",
            "\n",
            "[221 rows x 2 columns]\n",
            "\n",
            "Removing feature: pflx_band_phtflux_error with VIF: 322483.8276219018\n"
          ]
        },
        {
          "output_type": "stream",
          "name": "stderr",
          "text": [
            "/usr/local/lib/python3.12/dist-packages/statsmodels/regression/linear_model.py:1782: RuntimeWarning: divide by zero encountered in scalar divide\n",
            "  return 1 - self.ssr/self.centered_tss\n"
          ]
        },
        {
          "output_type": "stream",
          "name": "stdout",
          "text": [
            "Updated VIFs:\n",
            "                Feature           VIF\n",
            "0                   t90    394.021709\n",
            "1             t90_error     10.342655\n",
            "2             t90_start    363.736214\n",
            "3               fluence  26579.086829\n",
            "4         fluence_error     76.494436\n",
            "..                  ...           ...\n",
            "215  scat_detector_mask     18.737757\n",
            "216            scatalog     16.455828\n",
            "217                 t50     15.994565\n",
            "218           t50_error     23.620700\n",
            "219           t50_start     17.407045\n",
            "\n",
            "[220 rows x 2 columns]\n",
            "\n",
            "Removing feature: flnc_band_ergflncb with VIF: 271163.42333210725\n"
          ]
        },
        {
          "output_type": "stream",
          "name": "stderr",
          "text": [
            "/usr/local/lib/python3.12/dist-packages/statsmodels/regression/linear_model.py:1782: RuntimeWarning: divide by zero encountered in scalar divide\n",
            "  return 1 - self.ssr/self.centered_tss\n"
          ]
        },
        {
          "output_type": "stream",
          "name": "stdout",
          "text": [
            "Updated VIFs:\n",
            "                Feature           VIF\n",
            "0                   t90    394.471649\n",
            "1             t90_error     10.340707\n",
            "2             t90_start    363.922496\n",
            "3               fluence  26585.836810\n",
            "4         fluence_error     76.497953\n",
            "..                  ...           ...\n",
            "214  scat_detector_mask     18.737658\n",
            "215            scatalog     16.455855\n",
            "216                 t50     15.995178\n",
            "217           t50_error     23.620818\n",
            "218           t50_start     17.406549\n",
            "\n",
            "[219 rows x 2 columns]\n",
            "\n",
            "Removing feature: pflx_comp_ergflncb with VIF: 265596.27567284345\n"
          ]
        },
        {
          "output_type": "stream",
          "name": "stderr",
          "text": [
            "/usr/local/lib/python3.12/dist-packages/statsmodels/regression/linear_model.py:1782: RuntimeWarning: divide by zero encountered in scalar divide\n",
            "  return 1 - self.ssr/self.centered_tss\n"
          ]
        },
        {
          "output_type": "stream",
          "name": "stdout",
          "text": [
            "Updated VIFs:\n",
            "                Feature           VIF\n",
            "0                   t90    394.386170\n",
            "1             t90_error     10.340644\n",
            "2             t90_start    363.830827\n",
            "3               fluence  26585.780424\n",
            "4         fluence_error     76.498505\n",
            "..                  ...           ...\n",
            "213  scat_detector_mask     18.737688\n",
            "214            scatalog     16.455857\n",
            "215                 t50     15.995277\n",
            "216           t50_error     23.620819\n",
            "217           t50_start     17.407155\n",
            "\n",
            "[218 rows x 2 columns]\n",
            "\n",
            "Removing feature: flnc_comp_ergflncb with VIF: 242453.94080308764\n"
          ]
        },
        {
          "output_type": "stream",
          "name": "stderr",
          "text": [
            "/usr/local/lib/python3.12/dist-packages/statsmodels/regression/linear_model.py:1782: RuntimeWarning: divide by zero encountered in scalar divide\n",
            "  return 1 - self.ssr/self.centered_tss\n"
          ]
        },
        {
          "output_type": "stream",
          "name": "stdout",
          "text": [
            "Updated VIFs:\n",
            "                Feature           VIF\n",
            "0                   t90    394.521778\n",
            "1             t90_error     10.342319\n",
            "2             t90_start    363.606351\n",
            "3               fluence  26586.606806\n",
            "4         fluence_error     76.493655\n",
            "..                  ...           ...\n",
            "212  scat_detector_mask     18.738114\n",
            "213            scatalog     16.455099\n",
            "214                 t50     15.994704\n",
            "215           t50_error     23.620758\n",
            "216           t50_start     17.407112\n",
            "\n",
            "[217 rows x 2 columns]\n",
            "\n",
            "Removing feature: flnc_band_phtflnc with VIF: 235857.74303491606\n"
          ]
        },
        {
          "output_type": "stream",
          "name": "stderr",
          "text": [
            "/usr/local/lib/python3.12/dist-packages/statsmodels/regression/linear_model.py:1782: RuntimeWarning: divide by zero encountered in scalar divide\n",
            "  return 1 - self.ssr/self.centered_tss\n"
          ]
        },
        {
          "output_type": "stream",
          "name": "stdout",
          "text": [
            "Updated VIFs:\n",
            "                Feature           VIF\n",
            "0                   t90    318.948678\n",
            "1             t90_error      9.419021\n",
            "2             t90_start    372.464299\n",
            "3               fluence  25506.728003\n",
            "4         fluence_error     57.367434\n",
            "..                  ...           ...\n",
            "211  scat_detector_mask     19.092890\n",
            "212            scatalog     14.653784\n",
            "213                 t50     15.990740\n",
            "214           t50_error     25.208583\n",
            "215           t50_start     16.635819\n",
            "\n",
            "[216 rows x 2 columns]\n",
            "\n",
            "Removing feature: flnc_comp_phtflux with VIF: 228963.93515366057\n"
          ]
        },
        {
          "output_type": "stream",
          "name": "stderr",
          "text": [
            "/usr/local/lib/python3.12/dist-packages/statsmodels/regression/linear_model.py:1782: RuntimeWarning: divide by zero encountered in scalar divide\n",
            "  return 1 - self.ssr/self.centered_tss\n"
          ]
        },
        {
          "output_type": "stream",
          "name": "stdout",
          "text": [
            "Updated VIFs:\n",
            "                Feature           VIF\n",
            "0                   t90    288.756983\n",
            "1             t90_error      9.515356\n",
            "2             t90_start    308.566380\n",
            "3               fluence  26970.213114\n",
            "4         fluence_error     49.625030\n",
            "..                  ...           ...\n",
            "210  scat_detector_mask     21.881691\n",
            "211            scatalog     14.973683\n",
            "212                 t50     14.484941\n",
            "213           t50_error     26.870562\n",
            "214           t50_start     16.448904\n",
            "\n",
            "[215 rows x 2 columns]\n",
            "\n",
            "Removing feature: flnc_sbpl_ergflncb with VIF: 207626.74446136178\n"
          ]
        },
        {
          "output_type": "stream",
          "name": "stderr",
          "text": [
            "/usr/local/lib/python3.12/dist-packages/statsmodels/regression/linear_model.py:1782: RuntimeWarning: divide by zero encountered in scalar divide\n",
            "  return 1 - self.ssr/self.centered_tss\n"
          ]
        },
        {
          "output_type": "stream",
          "name": "stdout",
          "text": [
            "Updated VIFs:\n",
            "                Feature           VIF\n",
            "0                   t90    288.746158\n",
            "1             t90_error      9.515701\n",
            "2             t90_start    308.408110\n",
            "3               fluence  26970.787170\n",
            "4         fluence_error     49.625357\n",
            "..                  ...           ...\n",
            "209  scat_detector_mask     21.882417\n",
            "210            scatalog     14.973685\n",
            "211                 t50     14.485072\n",
            "212           t50_error     26.870224\n",
            "213           t50_start     16.448891\n",
            "\n",
            "[214 rows x 2 columns]\n",
            "\n",
            "Removing feature: pflx_band_phtflnc with VIF: 191472.75909125066\n"
          ]
        },
        {
          "output_type": "stream",
          "name": "stderr",
          "text": [
            "/usr/local/lib/python3.12/dist-packages/statsmodels/regression/linear_model.py:1782: RuntimeWarning: divide by zero encountered in scalar divide\n",
            "  return 1 - self.ssr/self.centered_tss\n"
          ]
        },
        {
          "output_type": "stream",
          "name": "stdout",
          "text": [
            "Updated VIFs:\n",
            "                Feature           VIF\n",
            "0                   t90    246.948314\n",
            "1             t90_error      9.335857\n",
            "2             t90_start    314.811253\n",
            "3               fluence  13852.347241\n",
            "4         fluence_error     49.053949\n",
            "..                  ...           ...\n",
            "208  scat_detector_mask     21.186050\n",
            "209            scatalog     14.191410\n",
            "210                 t50     14.617568\n",
            "211           t50_error     21.018198\n",
            "212           t50_start     16.203357\n",
            "\n",
            "[213 rows x 2 columns]\n",
            "\n",
            "Removing feature: flnc_band_alpha_neg_err with VIF: 187766.36574826456\n"
          ]
        },
        {
          "output_type": "stream",
          "name": "stderr",
          "text": [
            "/usr/local/lib/python3.12/dist-packages/statsmodels/regression/linear_model.py:1782: RuntimeWarning: divide by zero encountered in scalar divide\n",
            "  return 1 - self.ssr/self.centered_tss\n"
          ]
        },
        {
          "output_type": "stream",
          "name": "stdout",
          "text": [
            "Updated VIFs:\n",
            "                Feature           VIF\n",
            "0                   t90    247.568291\n",
            "1             t90_error      9.486192\n",
            "2             t90_start    312.554293\n",
            "3               fluence  14024.005721\n",
            "4         fluence_error     48.544494\n",
            "..                  ...           ...\n",
            "207  scat_detector_mask     21.174847\n",
            "208            scatalog     14.190881\n",
            "209                 t50     14.672557\n",
            "210           t50_error     21.363845\n",
            "211           t50_start     16.214584\n",
            "\n",
            "[212 rows x 2 columns]\n",
            "\n",
            "Removing feature: pflx_plaw_ergflux with VIF: 151835.29849152907\n"
          ]
        },
        {
          "output_type": "stream",
          "name": "stderr",
          "text": [
            "/usr/local/lib/python3.12/dist-packages/statsmodels/regression/linear_model.py:1782: RuntimeWarning: divide by zero encountered in scalar divide\n",
            "  return 1 - self.ssr/self.centered_tss\n"
          ]
        },
        {
          "output_type": "stream",
          "name": "stdout",
          "text": [
            "Updated VIFs:\n",
            "                Feature           VIF\n",
            "0                   t90    247.568019\n",
            "1             t90_error      9.485669\n",
            "2             t90_start    312.570352\n",
            "3               fluence  14024.049594\n",
            "4         fluence_error     48.543136\n",
            "..                  ...           ...\n",
            "206  scat_detector_mask     21.175169\n",
            "207            scatalog     14.191689\n",
            "208                 t50     14.673239\n",
            "209           t50_error     21.357847\n",
            "210           t50_start     16.214545\n",
            "\n",
            "[211 rows x 2 columns]\n",
            "\n",
            "Removing feature: flux_1024 with VIF: 144627.74855060416\n"
          ]
        },
        {
          "output_type": "stream",
          "name": "stderr",
          "text": [
            "/usr/local/lib/python3.12/dist-packages/statsmodels/regression/linear_model.py:1782: RuntimeWarning: divide by zero encountered in scalar divide\n",
            "  return 1 - self.ssr/self.centered_tss\n"
          ]
        },
        {
          "output_type": "stream",
          "name": "stdout",
          "text": [
            "Updated VIFs:\n",
            "                Feature           VIF\n",
            "0                   t90    353.987939\n",
            "1             t90_error      9.174088\n",
            "2             t90_start    308.434741\n",
            "3               fluence  16504.514188\n",
            "4         fluence_error     50.221259\n",
            "..                  ...           ...\n",
            "205  scat_detector_mask     21.109734\n",
            "206            scatalog     13.958081\n",
            "207                 t50     15.833544\n",
            "208           t50_error     21.541717\n",
            "209           t50_start     16.779339\n",
            "\n",
            "[210 rows x 2 columns]\n",
            "\n",
            "Removing feature: pflx_comp_phtflnc_error with VIF: 130810.70302955352\n"
          ]
        },
        {
          "output_type": "stream",
          "name": "stderr",
          "text": [
            "/usr/local/lib/python3.12/dist-packages/statsmodels/regression/linear_model.py:1782: RuntimeWarning: divide by zero encountered in scalar divide\n",
            "  return 1 - self.ssr/self.centered_tss\n"
          ]
        },
        {
          "output_type": "stream",
          "name": "stdout",
          "text": [
            "Updated VIFs:\n",
            "                Feature           VIF\n",
            "0                   t90    320.954841\n",
            "1             t90_error      9.269139\n",
            "2             t90_start    318.323024\n",
            "3               fluence  15610.561267\n",
            "4         fluence_error     50.549654\n",
            "..                  ...           ...\n",
            "204  scat_detector_mask     21.218134\n",
            "205            scatalog     13.989394\n",
            "206                 t50     16.391012\n",
            "207           t50_error     21.670774\n",
            "208           t50_start     16.868856\n",
            "\n",
            "[209 rows x 2 columns]\n",
            "\n",
            "Removing feature: pflx_band_ergflncb with VIF: 122047.50315434298\n"
          ]
        },
        {
          "output_type": "stream",
          "name": "stderr",
          "text": [
            "/usr/local/lib/python3.12/dist-packages/statsmodels/regression/linear_model.py:1782: RuntimeWarning: divide by zero encountered in scalar divide\n",
            "  return 1 - self.ssr/self.centered_tss\n"
          ]
        },
        {
          "output_type": "stream",
          "name": "stdout",
          "text": [
            "Updated VIFs:\n",
            "                Feature           VIF\n",
            "0                   t90    320.766906\n",
            "1             t90_error      9.269158\n",
            "2             t90_start    318.324696\n",
            "3               fluence  15610.553145\n",
            "4         fluence_error     50.549611\n",
            "..                  ...           ...\n",
            "203  scat_detector_mask     21.235334\n",
            "204            scatalog     13.987658\n",
            "205                 t50     16.390539\n",
            "206           t50_error     21.671058\n",
            "207           t50_start     16.867680\n",
            "\n",
            "[208 rows x 2 columns]\n",
            "\n",
            "Removing feature: flnc_sbpl_redfitstat with VIF: 121095.50783817687\n"
          ]
        },
        {
          "output_type": "stream",
          "name": "stderr",
          "text": [
            "/usr/local/lib/python3.12/dist-packages/statsmodels/regression/linear_model.py:1782: RuntimeWarning: divide by zero encountered in scalar divide\n",
            "  return 1 - self.ssr/self.centered_tss\n"
          ]
        },
        {
          "output_type": "stream",
          "name": "stdout",
          "text": [
            "Updated VIFs:\n",
            "                Feature           VIF\n",
            "0                   t90    433.481875\n",
            "1             t90_error      9.776619\n",
            "2             t90_start    316.534740\n",
            "3               fluence  15520.939496\n",
            "4         fluence_error     49.357632\n",
            "..                  ...           ...\n",
            "202  scat_detector_mask     20.607956\n",
            "203            scatalog     14.102722\n",
            "204                 t50     16.201677\n",
            "205           t50_error     22.126200\n",
            "206           t50_start     16.467852\n",
            "\n",
            "[207 rows x 2 columns]\n",
            "\n",
            "Removing feature: flux_256 with VIF: 114205.05776301364\n"
          ]
        },
        {
          "output_type": "stream",
          "name": "stderr",
          "text": [
            "/usr/local/lib/python3.12/dist-packages/statsmodels/regression/linear_model.py:1782: RuntimeWarning: divide by zero encountered in scalar divide\n",
            "  return 1 - self.ssr/self.centered_tss\n"
          ]
        },
        {
          "output_type": "stream",
          "name": "stdout",
          "text": [
            "Updated VIFs:\n",
            "                Feature           VIF\n",
            "0                   t90    425.931318\n",
            "1             t90_error      9.678654\n",
            "2             t90_start    276.985872\n",
            "3               fluence  15359.400425\n",
            "4         fluence_error     50.905666\n",
            "..                  ...           ...\n",
            "201  scat_detector_mask     20.759939\n",
            "202            scatalog     13.855980\n",
            "203                 t50     15.481521\n",
            "204           t50_error     21.182430\n",
            "205           t50_start     16.117972\n",
            "\n",
            "[206 rows x 2 columns]\n",
            "\n",
            "Removing feature: flnc_sbpl_phtfluxb with VIF: 118029.92230648169\n"
          ]
        },
        {
          "output_type": "stream",
          "name": "stderr",
          "text": [
            "/usr/local/lib/python3.12/dist-packages/statsmodels/regression/linear_model.py:1782: RuntimeWarning: divide by zero encountered in scalar divide\n",
            "  return 1 - self.ssr/self.centered_tss\n"
          ]
        },
        {
          "output_type": "stream",
          "name": "stdout",
          "text": [
            "Updated VIFs:\n",
            "                Feature           VIF\n",
            "0                   t90    381.161147\n",
            "1             t90_error      9.443019\n",
            "2             t90_start    287.120200\n",
            "3               fluence  14742.008847\n",
            "4         fluence_error     50.467804\n",
            "..                  ...           ...\n",
            "200  scat_detector_mask     18.320731\n",
            "201            scatalog     13.921981\n",
            "202                 t50     14.629326\n",
            "203           t50_error     22.130941\n",
            "204           t50_start     15.905873\n",
            "\n",
            "[205 rows x 2 columns]\n",
            "\n",
            "Removing feature: pflx_sbpl_ergflncb with VIF: 90637.49240402848\n"
          ]
        },
        {
          "output_type": "stream",
          "name": "stderr",
          "text": [
            "/usr/local/lib/python3.12/dist-packages/statsmodels/regression/linear_model.py:1782: RuntimeWarning: divide by zero encountered in scalar divide\n",
            "  return 1 - self.ssr/self.centered_tss\n"
          ]
        },
        {
          "output_type": "stream",
          "name": "stdout",
          "text": [
            "Updated VIFs:\n",
            "                Feature           VIF\n",
            "0                   t90    381.026262\n",
            "1             t90_error      9.442897\n",
            "2             t90_start    287.119047\n",
            "3               fluence  14741.766456\n",
            "4         fluence_error     50.468108\n",
            "..                  ...           ...\n",
            "199  scat_detector_mask     18.320236\n",
            "200            scatalog     13.922270\n",
            "201                 t50     14.636337\n",
            "202           t50_error     22.129016\n",
            "203           t50_start     15.905827\n",
            "\n",
            "[204 rows x 2 columns]\n",
            "\n",
            "Removing feature: pflx_band_phtflnc_error with VIF: 81614.86718776119\n"
          ]
        },
        {
          "output_type": "stream",
          "name": "stderr",
          "text": [
            "/usr/local/lib/python3.12/dist-packages/statsmodels/regression/linear_model.py:1782: RuntimeWarning: divide by zero encountered in scalar divide\n",
            "  return 1 - self.ssr/self.centered_tss\n"
          ]
        },
        {
          "output_type": "stream",
          "name": "stdout",
          "text": [
            "Updated VIFs:\n",
            "                Feature           VIF\n",
            "0                   t90    378.962881\n",
            "1             t90_error      9.255236\n",
            "2             t90_start    281.649661\n",
            "3               fluence  15313.981075\n",
            "4         fluence_error     51.133364\n",
            "..                  ...           ...\n",
            "198  scat_detector_mask     18.417822\n",
            "199            scatalog     13.871664\n",
            "200                 t50     15.531818\n",
            "201           t50_error     17.654994\n",
            "202           t50_start     15.793373\n",
            "\n",
            "[203 rows x 2 columns]\n",
            "\n",
            "Removing feature: flnc_plaw_phtflncb with VIF: 70098.8620069048\n"
          ]
        },
        {
          "output_type": "stream",
          "name": "stderr",
          "text": [
            "/usr/local/lib/python3.12/dist-packages/statsmodels/regression/linear_model.py:1782: RuntimeWarning: divide by zero encountered in scalar divide\n",
            "  return 1 - self.ssr/self.centered_tss\n"
          ]
        },
        {
          "output_type": "stream",
          "name": "stdout",
          "text": [
            "Updated VIFs:\n",
            "                Feature           VIF\n",
            "0                   t90    324.628805\n",
            "1             t90_error      9.718936\n",
            "2             t90_start    185.103128\n",
            "3               fluence  12217.514176\n",
            "4         fluence_error     42.280620\n",
            "..                  ...           ...\n",
            "197  scat_detector_mask     18.377702\n",
            "198            scatalog     13.806429\n",
            "199                 t50     15.289905\n",
            "200           t50_error     18.380987\n",
            "201           t50_start     15.589108\n",
            "\n",
            "[202 rows x 2 columns]\n",
            "\n",
            "Removing feature: pflx_plaw_phtflncb with VIF: 66268.88020143677\n"
          ]
        },
        {
          "output_type": "stream",
          "name": "stderr",
          "text": [
            "/usr/local/lib/python3.12/dist-packages/statsmodels/regression/linear_model.py:1782: RuntimeWarning: divide by zero encountered in scalar divide\n",
            "  return 1 - self.ssr/self.centered_tss\n"
          ]
        },
        {
          "output_type": "stream",
          "name": "stdout",
          "text": [
            "Updated VIFs:\n",
            "                Feature          VIF\n",
            "0                   t90   249.582542\n",
            "1             t90_error     8.939108\n",
            "2             t90_start   211.025473\n",
            "3               fluence  8642.077397\n",
            "4         fluence_error    43.743404\n",
            "..                  ...          ...\n",
            "196  scat_detector_mask    18.679808\n",
            "197            scatalog    13.860343\n",
            "198                 t50    14.372587\n",
            "199           t50_error    17.105728\n",
            "200           t50_start    13.859836\n",
            "\n",
            "[201 rows x 2 columns]\n",
            "\n",
            "Removing feature: pflx_sbpl_indx1_pos_err with VIF: 63651.96493407704\n"
          ]
        },
        {
          "output_type": "stream",
          "name": "stderr",
          "text": [
            "/usr/local/lib/python3.12/dist-packages/statsmodels/regression/linear_model.py:1782: RuntimeWarning: divide by zero encountered in scalar divide\n",
            "  return 1 - self.ssr/self.centered_tss\n"
          ]
        },
        {
          "output_type": "stream",
          "name": "stdout",
          "text": [
            "Updated VIFs:\n",
            "                Feature          VIF\n",
            "0                   t90   238.536809\n",
            "1             t90_error     8.794792\n",
            "2             t90_start   217.950656\n",
            "3               fluence  8763.805207\n",
            "4         fluence_error    44.086819\n",
            "..                  ...          ...\n",
            "195  scat_detector_mask    19.008627\n",
            "196            scatalog    13.726895\n",
            "197                 t50    15.693605\n",
            "198           t50_error    15.459547\n",
            "199           t50_start    14.054761\n",
            "\n",
            "[200 rows x 2 columns]\n",
            "\n",
            "Removing feature: flnc_best_model_redchisq with VIF: 47445.445167890066\n"
          ]
        },
        {
          "output_type": "stream",
          "name": "stderr",
          "text": [
            "/usr/local/lib/python3.12/dist-packages/statsmodels/regression/linear_model.py:1782: RuntimeWarning: divide by zero encountered in scalar divide\n",
            "  return 1 - self.ssr/self.centered_tss\n"
          ]
        },
        {
          "output_type": "stream",
          "name": "stdout",
          "text": [
            "Updated VIFs:\n",
            "                Feature          VIF\n",
            "0                   t90   226.103560\n",
            "1             t90_error     8.517210\n",
            "2             t90_start   210.986968\n",
            "3               fluence  8860.287754\n",
            "4         fluence_error    43.172171\n",
            "..                  ...          ...\n",
            "194  scat_detector_mask    19.590522\n",
            "195            scatalog    13.567005\n",
            "196                 t50    14.561211\n",
            "197           t50_error    15.654321\n",
            "198           t50_start    13.929720\n",
            "\n",
            "[199 rows x 2 columns]\n",
            "\n",
            "Removing feature: flnc_band_phtflnc_error with VIF: 40046.35848124279\n"
          ]
        },
        {
          "output_type": "stream",
          "name": "stderr",
          "text": [
            "/usr/local/lib/python3.12/dist-packages/statsmodels/regression/linear_model.py:1782: RuntimeWarning: divide by zero encountered in scalar divide\n",
            "  return 1 - self.ssr/self.centered_tss\n"
          ]
        },
        {
          "output_type": "stream",
          "name": "stdout",
          "text": [
            "Updated VIFs:\n",
            "                Feature          VIF\n",
            "0                   t90   217.442155\n",
            "1             t90_error     7.549961\n",
            "2             t90_start   168.047341\n",
            "3               fluence  5419.686308\n",
            "4         fluence_error    42.351523\n",
            "..                  ...          ...\n",
            "193  scat_detector_mask    19.318744\n",
            "194            scatalog    13.568100\n",
            "195                 t50    15.729217\n",
            "196           t50_error    16.780984\n",
            "197           t50_start    13.552332\n",
            "\n",
            "[198 rows x 2 columns]\n",
            "\n",
            "Removing feature: flnc_plaw_phtflnc_error with VIF: 32577.758097086553\n"
          ]
        },
        {
          "output_type": "stream",
          "name": "stderr",
          "text": [
            "/usr/local/lib/python3.12/dist-packages/statsmodels/regression/linear_model.py:1782: RuntimeWarning: divide by zero encountered in scalar divide\n",
            "  return 1 - self.ssr/self.centered_tss\n"
          ]
        },
        {
          "output_type": "stream",
          "name": "stdout",
          "text": [
            "Updated VIFs:\n",
            "                Feature          VIF\n",
            "0                   t90   311.252601\n",
            "1             t90_error     7.602736\n",
            "2             t90_start   166.683892\n",
            "3               fluence  5396.760711\n",
            "4         fluence_error    41.926577\n",
            "..                  ...          ...\n",
            "192  scat_detector_mask    17.907044\n",
            "193            scatalog    13.591406\n",
            "194                 t50    11.503265\n",
            "195           t50_error    15.661946\n",
            "196           t50_start    13.465517\n",
            "\n",
            "[197 rows x 2 columns]\n",
            "\n",
            "Removing feature: flnc_comp_redchisq with VIF: 28700.12834578744\n"
          ]
        },
        {
          "output_type": "stream",
          "name": "stderr",
          "text": [
            "/usr/local/lib/python3.12/dist-packages/statsmodels/regression/linear_model.py:1782: RuntimeWarning: divide by zero encountered in scalar divide\n",
            "  return 1 - self.ssr/self.centered_tss\n"
          ]
        },
        {
          "output_type": "stream",
          "name": "stdout",
          "text": [
            "Updated VIFs:\n",
            "                Feature          VIF\n",
            "0                   t90   309.840832\n",
            "1             t90_error     7.806436\n",
            "2             t90_start   173.581239\n",
            "3               fluence  5336.365159\n",
            "4         fluence_error    39.387485\n",
            "..                  ...          ...\n",
            "191  scat_detector_mask    18.220256\n",
            "192            scatalog    13.174865\n",
            "193                 t50    10.532998\n",
            "194           t50_error    16.997317\n",
            "195           t50_start    14.200667\n",
            "\n",
            "[196 rows x 2 columns]\n",
            "\n",
            "Removing feature: pflx_sbpl_ampl with VIF: 19872.275082414155\n"
          ]
        },
        {
          "output_type": "stream",
          "name": "stderr",
          "text": [
            "/usr/local/lib/python3.12/dist-packages/statsmodels/regression/linear_model.py:1782: RuntimeWarning: divide by zero encountered in scalar divide\n",
            "  return 1 - self.ssr/self.centered_tss\n"
          ]
        },
        {
          "output_type": "stream",
          "name": "stdout",
          "text": [
            "Updated VIFs:\n",
            "                Feature          VIF\n",
            "0                   t90   310.192134\n",
            "1             t90_error     7.500598\n",
            "2             t90_start   173.535419\n",
            "3               fluence  5320.417622\n",
            "4         fluence_error    39.396938\n",
            "..                  ...          ...\n",
            "190  scat_detector_mask    18.193694\n",
            "191            scatalog    13.190534\n",
            "192                 t50    10.535906\n",
            "193           t50_error    16.903858\n",
            "194           t50_start    14.270856\n",
            "\n",
            "[195 rows x 2 columns]\n",
            "\n",
            "Removing feature: pflx_comp_phtflux_error with VIF: 19691.055304625963\n"
          ]
        },
        {
          "output_type": "stream",
          "name": "stderr",
          "text": [
            "/usr/local/lib/python3.12/dist-packages/statsmodels/regression/linear_model.py:1782: RuntimeWarning: divide by zero encountered in scalar divide\n",
            "  return 1 - self.ssr/self.centered_tss\n"
          ]
        },
        {
          "output_type": "stream",
          "name": "stdout",
          "text": [
            "Updated VIFs:\n",
            "                Feature          VIF\n",
            "0                   t90   277.293649\n",
            "1             t90_error     7.772873\n",
            "2             t90_start   180.090593\n",
            "3               fluence  5436.850704\n",
            "4         fluence_error    39.686331\n",
            "..                  ...          ...\n",
            "189  scat_detector_mask    17.200923\n",
            "190            scatalog    13.367265\n",
            "191                 t50    10.153738\n",
            "192           t50_error    13.809508\n",
            "193           t50_start    13.956755\n",
            "\n",
            "[194 rows x 2 columns]\n",
            "\n",
            "Removing feature: pflx_band_ampl_pos_err with VIF: 19116.489933012705\n"
          ]
        },
        {
          "output_type": "stream",
          "name": "stderr",
          "text": [
            "/usr/local/lib/python3.12/dist-packages/statsmodels/regression/linear_model.py:1782: RuntimeWarning: divide by zero encountered in scalar divide\n",
            "  return 1 - self.ssr/self.centered_tss\n"
          ]
        },
        {
          "output_type": "stream",
          "name": "stdout",
          "text": [
            "Updated VIFs:\n",
            "                Feature          VIF\n",
            "0                   t90   240.384806\n",
            "1             t90_error     7.402829\n",
            "2             t90_start   149.350330\n",
            "3               fluence  5024.549370\n",
            "4         fluence_error    42.880609\n",
            "..                  ...          ...\n",
            "188  scat_detector_mask    16.143668\n",
            "189            scatalog    13.369555\n",
            "190                 t50    11.510627\n",
            "191           t50_error    12.085729\n",
            "192           t50_start    13.175809\n",
            "\n",
            "[193 rows x 2 columns]\n",
            "\n",
            "Removing feature: pflx_comp_redfitstat with VIF: 17595.390563889447\n"
          ]
        },
        {
          "output_type": "stream",
          "name": "stderr",
          "text": [
            "/usr/local/lib/python3.12/dist-packages/statsmodels/regression/linear_model.py:1782: RuntimeWarning: divide by zero encountered in scalar divide\n",
            "  return 1 - self.ssr/self.centered_tss\n"
          ]
        },
        {
          "output_type": "stream",
          "name": "stdout",
          "text": [
            "Updated VIFs:\n",
            "                Feature          VIF\n",
            "0                   t90   232.929898\n",
            "1             t90_error     7.580370\n",
            "2             t90_start   151.930325\n",
            "3               fluence  5230.607699\n",
            "4         fluence_error    40.976257\n",
            "..                  ...          ...\n",
            "187  scat_detector_mask    15.869837\n",
            "188            scatalog    13.366598\n",
            "189                 t50    12.511308\n",
            "190           t50_error    13.509639\n",
            "191           t50_start    13.523068\n",
            "\n",
            "[192 rows x 2 columns]\n",
            "\n",
            "Removing feature: flnc_plaw_phtflux with VIF: 18053.21467540941\n"
          ]
        },
        {
          "output_type": "stream",
          "name": "stderr",
          "text": [
            "/usr/local/lib/python3.12/dist-packages/statsmodels/regression/linear_model.py:1782: RuntimeWarning: divide by zero encountered in scalar divide\n",
            "  return 1 - self.ssr/self.centered_tss\n"
          ]
        },
        {
          "output_type": "stream",
          "name": "stdout",
          "text": [
            "Updated VIFs:\n",
            "                Feature          VIF\n",
            "0                   t90   248.022168\n",
            "1             t90_error     7.507923\n",
            "2             t90_start   147.027600\n",
            "3               fluence  4510.910933\n",
            "4         fluence_error    37.938098\n",
            "..                  ...          ...\n",
            "186  scat_detector_mask    15.400300\n",
            "187            scatalog    12.990816\n",
            "188                 t50    11.207554\n",
            "189           t50_error    13.843049\n",
            "190           t50_start    14.972719\n",
            "\n",
            "[191 rows x 2 columns]\n",
            "\n",
            "Removing feature: pflx_sbpl_phtflux_error with VIF: 14888.081371748636\n"
          ]
        },
        {
          "output_type": "stream",
          "name": "stderr",
          "text": [
            "/usr/local/lib/python3.12/dist-packages/statsmodels/regression/linear_model.py:1782: RuntimeWarning: divide by zero encountered in scalar divide\n",
            "  return 1 - self.ssr/self.centered_tss\n"
          ]
        },
        {
          "output_type": "stream",
          "name": "stdout",
          "text": [
            "Updated VIFs:\n",
            "                Feature          VIF\n",
            "0                   t90   258.567247\n",
            "1             t90_error     7.169878\n",
            "2             t90_start   158.455127\n",
            "3               fluence  4234.689715\n",
            "4         fluence_error    39.124038\n",
            "..                  ...          ...\n",
            "185  scat_detector_mask    15.216321\n",
            "186            scatalog    12.518217\n",
            "187                 t50    10.569746\n",
            "188           t50_error    10.900393\n",
            "189           t50_start    14.238620\n",
            "\n",
            "[190 rows x 2 columns]\n",
            "\n",
            "Removing feature: flux_batse_1024 with VIF: 13265.68975428479\n"
          ]
        },
        {
          "output_type": "stream",
          "name": "stderr",
          "text": [
            "/usr/local/lib/python3.12/dist-packages/statsmodels/regression/linear_model.py:1782: RuntimeWarning: divide by zero encountered in scalar divide\n",
            "  return 1 - self.ssr/self.centered_tss\n"
          ]
        },
        {
          "output_type": "stream",
          "name": "stdout",
          "text": [
            "Updated VIFs:\n",
            "                Feature          VIF\n",
            "0                   t90   270.852751\n",
            "1             t90_error     7.558854\n",
            "2             t90_start   168.403347\n",
            "3               fluence  3327.052644\n",
            "4         fluence_error    36.023509\n",
            "..                  ...          ...\n",
            "184  scat_detector_mask    13.255010\n",
            "185            scatalog    12.654742\n",
            "186                 t50    10.659063\n",
            "187           t50_error    10.005191\n",
            "188           t50_start    12.750407\n",
            "\n",
            "[189 rows x 2 columns]\n",
            "\n",
            "Removing feature: pflx_comp_phtflncb with VIF: 14780.29561613539\n"
          ]
        },
        {
          "output_type": "stream",
          "name": "stderr",
          "text": [
            "/usr/local/lib/python3.12/dist-packages/statsmodels/regression/linear_model.py:1782: RuntimeWarning: divide by zero encountered in scalar divide\n",
            "  return 1 - self.ssr/self.centered_tss\n"
          ]
        },
        {
          "output_type": "stream",
          "name": "stdout",
          "text": [
            "Updated VIFs:\n",
            "                Feature          VIF\n",
            "0                   t90   272.621616\n",
            "1             t90_error     7.468773\n",
            "2             t90_start   152.875838\n",
            "3               fluence  3452.907964\n",
            "4         fluence_error    34.400777\n",
            "..                  ...          ...\n",
            "183  scat_detector_mask    13.060937\n",
            "184            scatalog    12.480717\n",
            "185                 t50    10.384123\n",
            "186           t50_error    10.861035\n",
            "187           t50_start    12.930458\n",
            "\n",
            "[188 rows x 2 columns]\n",
            "\n",
            "Removing feature: pflx_band_phtfluxb_error with VIF: 12300.056553244482\n"
          ]
        },
        {
          "output_type": "stream",
          "name": "stderr",
          "text": [
            "/usr/local/lib/python3.12/dist-packages/statsmodels/regression/linear_model.py:1782: RuntimeWarning: divide by zero encountered in scalar divide\n",
            "  return 1 - self.ssr/self.centered_tss\n"
          ]
        },
        {
          "output_type": "stream",
          "name": "stdout",
          "text": [
            "Updated VIFs:\n",
            "                Feature          VIF\n",
            "0                   t90   238.605616\n",
            "1             t90_error     7.384722\n",
            "2             t90_start   138.317894\n",
            "3               fluence  3389.793600\n",
            "4         fluence_error    34.179757\n",
            "..                  ...          ...\n",
            "182  scat_detector_mask    13.071195\n",
            "183            scatalog    12.652803\n",
            "184                 t50    10.292976\n",
            "185           t50_error    11.298314\n",
            "186           t50_start    13.069199\n",
            "\n",
            "[187 rows x 2 columns]\n",
            "\n",
            "Removing feature: flnc_plaw_ergflncb_error with VIF: 11574.579687618212\n"
          ]
        },
        {
          "output_type": "stream",
          "name": "stderr",
          "text": [
            "/usr/local/lib/python3.12/dist-packages/statsmodels/regression/linear_model.py:1782: RuntimeWarning: divide by zero encountered in scalar divide\n",
            "  return 1 - self.ssr/self.centered_tss\n"
          ]
        },
        {
          "output_type": "stream",
          "name": "stdout",
          "text": [
            "Updated VIFs:\n",
            "                Feature          VIF\n",
            "0                   t90   238.604712\n",
            "1             t90_error     7.384814\n",
            "2             t90_start   138.317500\n",
            "3               fluence  3388.719867\n",
            "4         fluence_error    34.180086\n",
            "..                  ...          ...\n",
            "181  scat_detector_mask    13.067484\n",
            "182            scatalog    12.652779\n",
            "183                 t50    10.292986\n",
            "184           t50_error    11.298403\n",
            "185           t50_start    13.069185\n",
            "\n",
            "[186 rows x 2 columns]\n",
            "\n",
            "Removing feature: flnc_plaw_ergflux with VIF: 8205.751900775838\n"
          ]
        },
        {
          "output_type": "stream",
          "name": "stderr",
          "text": [
            "/usr/local/lib/python3.12/dist-packages/statsmodels/regression/linear_model.py:1782: RuntimeWarning: divide by zero encountered in scalar divide\n",
            "  return 1 - self.ssr/self.centered_tss\n"
          ]
        },
        {
          "output_type": "stream",
          "name": "stdout",
          "text": [
            "Updated VIFs:\n",
            "                Feature          VIF\n",
            "0                   t90   238.612586\n",
            "1             t90_error     7.384779\n",
            "2             t90_start   138.318621\n",
            "3               fluence  3389.788739\n",
            "4         fluence_error    34.180143\n",
            "..                  ...          ...\n",
            "180  scat_detector_mask    13.065117\n",
            "181            scatalog    12.652787\n",
            "182                 t50    10.292967\n",
            "183           t50_error    11.298332\n",
            "184           t50_start    13.069321\n",
            "\n",
            "[185 rows x 2 columns]\n",
            "\n",
            "Removing feature: flnc_band_phtflncb_error with VIF: 7996.163475514114\n"
          ]
        },
        {
          "output_type": "stream",
          "name": "stderr",
          "text": [
            "/usr/local/lib/python3.12/dist-packages/statsmodels/regression/linear_model.py:1782: RuntimeWarning: divide by zero encountered in scalar divide\n",
            "  return 1 - self.ssr/self.centered_tss\n"
          ]
        },
        {
          "output_type": "stream",
          "name": "stdout",
          "text": [
            "Updated VIFs:\n",
            "                Feature          VIF\n",
            "0                   t90   226.266262\n",
            "1             t90_error     7.448867\n",
            "2             t90_start   134.723900\n",
            "3               fluence  3267.528286\n",
            "4         fluence_error    33.408186\n",
            "..                  ...          ...\n",
            "179  scat_detector_mask    12.754627\n",
            "180            scatalog    12.713944\n",
            "181                 t50    10.650419\n",
            "182           t50_error     8.977042\n",
            "183           t50_start    12.651670\n",
            "\n",
            "[184 rows x 2 columns]\n",
            "\n",
            "Removing feature: pflx_comp_phtfluxb_error with VIF: 8049.356598453547\n"
          ]
        },
        {
          "output_type": "stream",
          "name": "stderr",
          "text": [
            "/usr/local/lib/python3.12/dist-packages/statsmodels/regression/linear_model.py:1782: RuntimeWarning: divide by zero encountered in scalar divide\n",
            "  return 1 - self.ssr/self.centered_tss\n"
          ]
        },
        {
          "output_type": "stream",
          "name": "stdout",
          "text": [
            "Updated VIFs:\n",
            "                Feature          VIF\n",
            "0                   t90   242.479838\n",
            "1             t90_error     7.367497\n",
            "2             t90_start   133.683640\n",
            "3               fluence  3343.172222\n",
            "4         fluence_error    33.059245\n",
            "..                  ...          ...\n",
            "178  scat_detector_mask    12.893219\n",
            "179            scatalog    12.601103\n",
            "180                 t50    10.728983\n",
            "181           t50_error     8.383885\n",
            "182           t50_start    14.013354\n",
            "\n",
            "[183 rows x 2 columns]\n",
            "\n",
            "Removing feature: fluence_batse with VIF: 6325.908369527602\n"
          ]
        },
        {
          "output_type": "stream",
          "name": "stderr",
          "text": [
            "/usr/local/lib/python3.12/dist-packages/statsmodels/regression/linear_model.py:1782: RuntimeWarning: divide by zero encountered in scalar divide\n",
            "  return 1 - self.ssr/self.centered_tss\n"
          ]
        },
        {
          "output_type": "stream",
          "name": "stdout",
          "text": [
            "Updated VIFs:\n",
            "                Feature          VIF\n",
            "0                   t90   242.482421\n",
            "1             t90_error     7.367532\n",
            "2             t90_start   133.680140\n",
            "3               fluence  3343.361018\n",
            "4         fluence_error    33.059838\n",
            "..                  ...          ...\n",
            "177  scat_detector_mask    12.892983\n",
            "178            scatalog    12.601159\n",
            "179                 t50    10.728930\n",
            "180           t50_error     8.383893\n",
            "181           t50_start    14.013251\n",
            "\n",
            "[182 rows x 2 columns]\n",
            "\n",
            "Removing feature: pflx_sbpl_ergflnc with VIF: 6121.366223844794\n"
          ]
        },
        {
          "output_type": "stream",
          "name": "stderr",
          "text": [
            "/usr/local/lib/python3.12/dist-packages/statsmodels/regression/linear_model.py:1782: RuntimeWarning: divide by zero encountered in scalar divide\n",
            "  return 1 - self.ssr/self.centered_tss\n"
          ]
        },
        {
          "output_type": "stream",
          "name": "stdout",
          "text": [
            "Updated VIFs:\n",
            "                Feature          VIF\n",
            "0                   t90   242.482260\n",
            "1             t90_error     7.367529\n",
            "2             t90_start   133.680062\n",
            "3               fluence  3343.286293\n",
            "4         fluence_error    33.059872\n",
            "..                  ...          ...\n",
            "176  scat_detector_mask    12.893256\n",
            "177            scatalog    12.601185\n",
            "178                 t50    10.728941\n",
            "179           t50_error     8.383854\n",
            "180           t50_start    14.013183\n",
            "\n",
            "[181 rows x 2 columns]\n",
            "\n",
            "Removing feature: pflx_sbpl_redfitstat with VIF: 6120.37850561542\n"
          ]
        },
        {
          "output_type": "stream",
          "name": "stderr",
          "text": [
            "/usr/local/lib/python3.12/dist-packages/statsmodels/regression/linear_model.py:1782: RuntimeWarning: divide by zero encountered in scalar divide\n",
            "  return 1 - self.ssr/self.centered_tss\n"
          ]
        },
        {
          "output_type": "stream",
          "name": "stdout",
          "text": [
            "Updated VIFs:\n",
            "                Feature          VIF\n",
            "0                   t90   226.863181\n",
            "1             t90_error     7.395220\n",
            "2             t90_start   143.157284\n",
            "3               fluence  3306.599668\n",
            "4         fluence_error    33.386396\n",
            "..                  ...          ...\n",
            "175  scat_detector_mask    12.377526\n",
            "176            scatalog    12.660824\n",
            "177                 t50    10.925039\n",
            "178           t50_error     9.002932\n",
            "179           t50_start    12.431161\n",
            "\n",
            "[180 rows x 2 columns]\n",
            "\n",
            "Removing feature: pflx_sbpl_redchisq with VIF: 6201.867740278894\n"
          ]
        },
        {
          "output_type": "stream",
          "name": "stderr",
          "text": [
            "/usr/local/lib/python3.12/dist-packages/statsmodels/regression/linear_model.py:1782: RuntimeWarning: divide by zero encountered in scalar divide\n",
            "  return 1 - self.ssr/self.centered_tss\n"
          ]
        },
        {
          "output_type": "stream",
          "name": "stdout",
          "text": [
            "Updated VIFs:\n",
            "                Feature          VIF\n",
            "0                   t90   251.030332\n",
            "1             t90_error     7.510428\n",
            "2             t90_start   141.428826\n",
            "3               fluence  3175.555821\n",
            "4         fluence_error    33.732286\n",
            "..                  ...          ...\n",
            "174  scat_detector_mask    12.109365\n",
            "175            scatalog    13.060195\n",
            "176                 t50    10.669026\n",
            "177           t50_error     8.212128\n",
            "178           t50_start    11.875352\n",
            "\n",
            "[179 rows x 2 columns]\n",
            "\n",
            "Removing feature: pflx_sbpl_phtfluxb_error with VIF: 6090.0436034808845\n"
          ]
        },
        {
          "output_type": "stream",
          "name": "stderr",
          "text": [
            "/usr/local/lib/python3.12/dist-packages/statsmodels/regression/linear_model.py:1782: RuntimeWarning: divide by zero encountered in scalar divide\n",
            "  return 1 - self.ssr/self.centered_tss\n"
          ]
        },
        {
          "output_type": "stream",
          "name": "stdout",
          "text": [
            "Updated VIFs:\n",
            "                Feature          VIF\n",
            "0                   t90   264.336581\n",
            "1             t90_error     7.495440\n",
            "2             t90_start   141.137592\n",
            "3               fluence  2840.856415\n",
            "4         fluence_error    33.224371\n",
            "..                  ...          ...\n",
            "173  scat_detector_mask    12.213543\n",
            "174            scatalog    12.976401\n",
            "175                 t50    10.438962\n",
            "176           t50_error     8.740917\n",
            "177           t50_start    12.426150\n",
            "\n",
            "[178 rows x 2 columns]\n",
            "\n",
            "Removing feature: pflx_band_ergflnc with VIF: 5818.779632018246\n"
          ]
        },
        {
          "output_type": "stream",
          "name": "stderr",
          "text": [
            "/usr/local/lib/python3.12/dist-packages/statsmodels/regression/linear_model.py:1782: RuntimeWarning: divide by zero encountered in scalar divide\n",
            "  return 1 - self.ssr/self.centered_tss\n"
          ]
        },
        {
          "output_type": "stream",
          "name": "stdout",
          "text": [
            "Updated VIFs:\n",
            "                Feature          VIF\n",
            "0                   t90   264.335171\n",
            "1             t90_error     7.495565\n",
            "2             t90_start   141.135160\n",
            "3               fluence  2840.764328\n",
            "4         fluence_error    33.224297\n",
            "..                  ...          ...\n",
            "172  scat_detector_mask    12.215756\n",
            "173            scatalog    12.976429\n",
            "174                 t50    10.438988\n",
            "175           t50_error     8.741106\n",
            "176           t50_start    12.426165\n",
            "\n",
            "[177 rows x 2 columns]\n",
            "\n",
            "Removing feature: pflx_comp_ergflnc with VIF: 5699.45687443466\n"
          ]
        },
        {
          "output_type": "stream",
          "name": "stderr",
          "text": [
            "/usr/local/lib/python3.12/dist-packages/statsmodels/regression/linear_model.py:1782: RuntimeWarning: divide by zero encountered in scalar divide\n",
            "  return 1 - self.ssr/self.centered_tss\n"
          ]
        },
        {
          "output_type": "stream",
          "name": "stdout",
          "text": [
            "Updated VIFs:\n",
            "                Feature          VIF\n",
            "0                   t90   264.338356\n",
            "1             t90_error     7.495538\n",
            "2             t90_start   141.138818\n",
            "3               fluence  2840.757639\n",
            "4         fluence_error    33.224097\n",
            "..                  ...          ...\n",
            "171  scat_detector_mask    12.215755\n",
            "172            scatalog    12.976432\n",
            "173                 t50    10.438950\n",
            "174           t50_error     8.741163\n",
            "175           t50_start    12.426328\n",
            "\n",
            "[176 rows x 2 columns]\n",
            "\n",
            "Removing feature: pflx_sbpl_ergflux with VIF: 5588.6707893506455\n"
          ]
        },
        {
          "output_type": "stream",
          "name": "stderr",
          "text": [
            "/usr/local/lib/python3.12/dist-packages/statsmodels/regression/linear_model.py:1782: RuntimeWarning: divide by zero encountered in scalar divide\n",
            "  return 1 - self.ssr/self.centered_tss\n"
          ]
        },
        {
          "output_type": "stream",
          "name": "stdout",
          "text": [
            "Updated VIFs:\n",
            "                Feature          VIF\n",
            "0                   t90   264.335147\n",
            "1             t90_error     7.495540\n",
            "2             t90_start   141.138512\n",
            "3               fluence  2840.721886\n",
            "4         fluence_error    33.224208\n",
            "..                  ...          ...\n",
            "170  scat_detector_mask    12.213640\n",
            "171            scatalog    12.976426\n",
            "172                 t50    10.438981\n",
            "173           t50_error     8.741112\n",
            "174           t50_start    12.426451\n",
            "\n",
            "[175 rows x 2 columns]\n",
            "\n",
            "Removing feature: pflx_band_ergflux with VIF: 5438.418084341914\n"
          ]
        },
        {
          "output_type": "stream",
          "name": "stderr",
          "text": [
            "/usr/local/lib/python3.12/dist-packages/statsmodels/regression/linear_model.py:1782: RuntimeWarning: divide by zero encountered in scalar divide\n",
            "  return 1 - self.ssr/self.centered_tss\n"
          ]
        },
        {
          "output_type": "stream",
          "name": "stdout",
          "text": [
            "Updated VIFs:\n",
            "                Feature          VIF\n",
            "0                   t90   264.343987\n",
            "1             t90_error     7.495552\n",
            "2             t90_start   141.137458\n",
            "3               fluence  2840.773538\n",
            "4         fluence_error    33.224199\n",
            "..                  ...          ...\n",
            "169  scat_detector_mask    12.214013\n",
            "170            scatalog    12.976347\n",
            "171                 t50    10.439017\n",
            "172           t50_error     8.741095\n",
            "173           t50_start    12.426090\n",
            "\n",
            "[174 rows x 2 columns]\n",
            "\n",
            "Removing feature: pflx_comp_ergflux with VIF: 5376.115803194281\n"
          ]
        },
        {
          "output_type": "stream",
          "name": "stderr",
          "text": [
            "/usr/local/lib/python3.12/dist-packages/statsmodels/regression/linear_model.py:1782: RuntimeWarning: divide by zero encountered in scalar divide\n",
            "  return 1 - self.ssr/self.centered_tss\n"
          ]
        },
        {
          "output_type": "stream",
          "name": "stdout",
          "text": [
            "Updated VIFs:\n",
            "                Feature          VIF\n",
            "0                   t90   264.330586\n",
            "1             t90_error     7.495503\n",
            "2             t90_start   141.137890\n",
            "3               fluence  2840.792772\n",
            "4         fluence_error    33.223724\n",
            "..                  ...          ...\n",
            "168  scat_detector_mask    12.215062\n",
            "169            scatalog    12.976439\n",
            "170                 t50    10.438960\n",
            "171           t50_error     8.740939\n",
            "172           t50_start    12.426253\n",
            "\n",
            "[173 rows x 2 columns]\n",
            "\n",
            "Removing feature: pflx_comp_phtflncb_error with VIF: 5246.025868923318\n"
          ]
        },
        {
          "output_type": "stream",
          "name": "stderr",
          "text": [
            "/usr/local/lib/python3.12/dist-packages/statsmodels/regression/linear_model.py:1782: RuntimeWarning: divide by zero encountered in scalar divide\n",
            "  return 1 - self.ssr/self.centered_tss\n"
          ]
        },
        {
          "output_type": "stream",
          "name": "stdout",
          "text": [
            "Updated VIFs:\n",
            "                Feature          VIF\n",
            "0                   t90   263.799150\n",
            "1             t90_error     7.663377\n",
            "2             t90_start   136.640578\n",
            "3               fluence  2985.258100\n",
            "4         fluence_error    31.989859\n",
            "..                  ...          ...\n",
            "167  scat_detector_mask    12.039235\n",
            "168            scatalog    12.809187\n",
            "169                 t50    10.566321\n",
            "170           t50_error     8.884085\n",
            "171           t50_start    12.066826\n",
            "\n",
            "[172 rows x 2 columns]\n",
            "\n",
            "Removing feature: flnc_comp_phtflnc_error with VIF: 5563.531850811762\n"
          ]
        },
        {
          "output_type": "stream",
          "name": "stderr",
          "text": [
            "/usr/local/lib/python3.12/dist-packages/statsmodels/regression/linear_model.py:1782: RuntimeWarning: divide by zero encountered in scalar divide\n",
            "  return 1 - self.ssr/self.centered_tss\n"
          ]
        },
        {
          "output_type": "stream",
          "name": "stdout",
          "text": [
            "Updated VIFs:\n",
            "                Feature          VIF\n",
            "0                   t90   237.450329\n",
            "1             t90_error     7.750154\n",
            "2             t90_start   142.850644\n",
            "3               fluence  2613.051908\n",
            "4         fluence_error    34.423660\n",
            "..                  ...          ...\n",
            "166  scat_detector_mask    11.379047\n",
            "167            scatalog    12.673918\n",
            "168                 t50    10.018416\n",
            "169           t50_error     8.695651\n",
            "170           t50_start    11.866906\n",
            "\n",
            "[171 rows x 2 columns]\n",
            "\n",
            "Removing feature: flnc_sbpl_phtflncb with VIF: 4903.245182864487\n"
          ]
        },
        {
          "output_type": "stream",
          "name": "stderr",
          "text": [
            "/usr/local/lib/python3.12/dist-packages/statsmodels/regression/linear_model.py:1782: RuntimeWarning: divide by zero encountered in scalar divide\n",
            "  return 1 - self.ssr/self.centered_tss\n"
          ]
        },
        {
          "output_type": "stream",
          "name": "stdout",
          "text": [
            "Updated VIFs:\n",
            "                Feature          VIF\n",
            "0                   t90   217.386341\n",
            "1             t90_error     7.681751\n",
            "2             t90_start   135.694231\n",
            "3               fluence  2510.395603\n",
            "4         fluence_error    31.438039\n",
            "..                  ...          ...\n",
            "165  scat_detector_mask    11.690174\n",
            "166            scatalog    12.618989\n",
            "167                 t50     9.079772\n",
            "168           t50_error     8.385301\n",
            "169           t50_start    13.719676\n",
            "\n",
            "[170 rows x 2 columns]\n",
            "\n",
            "Removing feature: pflx_plaw_phtflux_error with VIF: 8103.149126002984\n"
          ]
        },
        {
          "output_type": "stream",
          "name": "stderr",
          "text": [
            "/usr/local/lib/python3.12/dist-packages/statsmodels/regression/linear_model.py:1782: RuntimeWarning: divide by zero encountered in scalar divide\n",
            "  return 1 - self.ssr/self.centered_tss\n"
          ]
        },
        {
          "output_type": "stream",
          "name": "stdout",
          "text": [
            "Updated VIFs:\n",
            "                Feature          VIF\n",
            "0                   t90   219.171704\n",
            "1             t90_error     7.591574\n",
            "2             t90_start   137.447747\n",
            "3               fluence  2469.760460\n",
            "4         fluence_error    31.530984\n",
            "..                  ...          ...\n",
            "164  scat_detector_mask    11.767836\n",
            "165            scatalog    12.596981\n",
            "166                 t50     9.139469\n",
            "167           t50_error     8.724556\n",
            "168           t50_start    13.702918\n",
            "\n",
            "[169 rows x 2 columns]\n",
            "\n",
            "Removing feature: flnc_sbpl_phtflncb_error with VIF: 4599.456999134721\n"
          ]
        },
        {
          "output_type": "stream",
          "name": "stderr",
          "text": [
            "/usr/local/lib/python3.12/dist-packages/statsmodels/regression/linear_model.py:1782: RuntimeWarning: divide by zero encountered in scalar divide\n",
            "  return 1 - self.ssr/self.centered_tss\n"
          ]
        },
        {
          "output_type": "stream",
          "name": "stdout",
          "text": [
            "Updated VIFs:\n",
            "                Feature          VIF\n",
            "0                   t90   195.600956\n",
            "1             t90_error     7.503445\n",
            "2             t90_start   136.885992\n",
            "3               fluence  2325.804854\n",
            "4         fluence_error    30.567276\n",
            "..                  ...          ...\n",
            "163  scat_detector_mask    11.259560\n",
            "164            scatalog    12.624910\n",
            "165                 t50     8.904411\n",
            "166           t50_error     7.859180\n",
            "167           t50_start    13.043205\n",
            "\n",
            "[168 rows x 2 columns]\n",
            "\n",
            "Removing feature: pflx_comp_index_neg_err with VIF: 4403.504436882196\n"
          ]
        },
        {
          "output_type": "stream",
          "name": "stderr",
          "text": [
            "/usr/local/lib/python3.12/dist-packages/statsmodels/regression/linear_model.py:1782: RuntimeWarning: divide by zero encountered in scalar divide\n",
            "  return 1 - self.ssr/self.centered_tss\n"
          ]
        },
        {
          "output_type": "stream",
          "name": "stdout",
          "text": [
            "Updated VIFs:\n",
            "                Feature          VIF\n",
            "0                   t90   195.428085\n",
            "1             t90_error     7.513334\n",
            "2             t90_start   137.370538\n",
            "3               fluence  2320.460729\n",
            "4         fluence_error    30.458952\n",
            "..                  ...          ...\n",
            "162  scat_detector_mask    11.258833\n",
            "163            scatalog    12.601661\n",
            "164                 t50     8.917320\n",
            "165           t50_error     7.837785\n",
            "166           t50_start    13.006290\n",
            "\n",
            "[167 rows x 2 columns]\n",
            "\n",
            "Removing feature: flnc_sbpl_ampl with VIF: 4093.1113059598665\n"
          ]
        },
        {
          "output_type": "stream",
          "name": "stderr",
          "text": [
            "/usr/local/lib/python3.12/dist-packages/statsmodels/regression/linear_model.py:1782: RuntimeWarning: divide by zero encountered in scalar divide\n",
            "  return 1 - self.ssr/self.centered_tss\n"
          ]
        },
        {
          "output_type": "stream",
          "name": "stdout",
          "text": [
            "Updated VIFs:\n",
            "                Feature          VIF\n",
            "0                   t90   195.426165\n",
            "1             t90_error     7.513321\n",
            "2             t90_start   137.359815\n",
            "3               fluence  2320.662925\n",
            "4         fluence_error    30.458406\n",
            "..                  ...          ...\n",
            "161  scat_detector_mask    11.258156\n",
            "162            scatalog    12.602201\n",
            "163                 t50     8.917074\n",
            "164           t50_error     7.837786\n",
            "165           t50_start    13.006440\n",
            "\n",
            "[166 rows x 2 columns]\n",
            "\n",
            "Removing feature: flux_batse_64 with VIF: 3962.3647668255085\n"
          ]
        },
        {
          "output_type": "stream",
          "name": "stderr",
          "text": [
            "/usr/local/lib/python3.12/dist-packages/statsmodels/regression/linear_model.py:1782: RuntimeWarning: divide by zero encountered in scalar divide\n",
            "  return 1 - self.ssr/self.centered_tss\n"
          ]
        },
        {
          "output_type": "stream",
          "name": "stdout",
          "text": [
            "Updated VIFs:\n",
            "                Feature          VIF\n",
            "0                   t90   190.473357\n",
            "1             t90_error     7.493035\n",
            "2             t90_start   112.888879\n",
            "3               fluence  2201.221979\n",
            "4         fluence_error    27.123656\n",
            "..                  ...          ...\n",
            "160  scat_detector_mask    11.620974\n",
            "161            scatalog    12.472546\n",
            "162                 t50     8.864816\n",
            "163           t50_error     8.070599\n",
            "164           t50_start    12.883884\n",
            "\n",
            "[165 rows x 2 columns]\n",
            "\n",
            "Removing feature: flnc_plaw_phtfluxb with VIF: 2967.6719109160376\n"
          ]
        },
        {
          "output_type": "stream",
          "name": "stderr",
          "text": [
            "/usr/local/lib/python3.12/dist-packages/statsmodels/regression/linear_model.py:1782: RuntimeWarning: divide by zero encountered in scalar divide\n",
            "  return 1 - self.ssr/self.centered_tss\n"
          ]
        },
        {
          "output_type": "stream",
          "name": "stdout",
          "text": [
            "Updated VIFs:\n",
            "                Feature          VIF\n",
            "0                   t90   195.933559\n",
            "1             t90_error     7.091840\n",
            "2             t90_start   120.689159\n",
            "3               fluence  1774.949479\n",
            "4         fluence_error    27.301134\n",
            "..                  ...          ...\n",
            "159  scat_detector_mask    11.226865\n",
            "160            scatalog    12.843710\n",
            "161                 t50     8.865992\n",
            "162           t50_error     8.267449\n",
            "163           t50_start    11.991133\n",
            "\n",
            "[164 rows x 2 columns]\n",
            "\n",
            "Removing feature: flnc_sbpl_redchisq with VIF: 2646.8459802676703\n"
          ]
        },
        {
          "output_type": "stream",
          "name": "stderr",
          "text": [
            "/usr/local/lib/python3.12/dist-packages/statsmodels/regression/linear_model.py:1782: RuntimeWarning: divide by zero encountered in scalar divide\n",
            "  return 1 - self.ssr/self.centered_tss\n"
          ]
        },
        {
          "output_type": "stream",
          "name": "stdout",
          "text": [
            "Updated VIFs:\n",
            "                Feature          VIF\n",
            "0                   t90   191.156088\n",
            "1             t90_error     6.552826\n",
            "2             t90_start   125.241918\n",
            "3               fluence  1729.545356\n",
            "4         fluence_error    26.501784\n",
            "..                  ...          ...\n",
            "158  scat_detector_mask    11.326449\n",
            "159            scatalog    12.714970\n",
            "160                 t50     8.792485\n",
            "161           t50_error     7.915851\n",
            "162           t50_start    10.967989\n",
            "\n",
            "[163 rows x 2 columns]\n",
            "\n",
            "Removing feature: pflx_comp_epeak_pos_err with VIF: 2233.1876721991634\n"
          ]
        },
        {
          "output_type": "stream",
          "name": "stderr",
          "text": [
            "/usr/local/lib/python3.12/dist-packages/statsmodels/regression/linear_model.py:1782: RuntimeWarning: divide by zero encountered in scalar divide\n",
            "  return 1 - self.ssr/self.centered_tss\n"
          ]
        },
        {
          "output_type": "stream",
          "name": "stdout",
          "text": [
            "Updated VIFs:\n",
            "                Feature          VIF\n",
            "0                   t90   185.147303\n",
            "1             t90_error     6.235548\n",
            "2             t90_start   124.216920\n",
            "3               fluence  1510.986762\n",
            "4         fluence_error    25.435307\n",
            "..                  ...          ...\n",
            "157  scat_detector_mask    10.888953\n",
            "158            scatalog    12.603085\n",
            "159                 t50     8.691075\n",
            "160           t50_error     7.877661\n",
            "161           t50_start    10.788472\n",
            "\n",
            "[162 rows x 2 columns]\n",
            "\n",
            "Removing feature: pflx_band_redchisq with VIF: 1986.072326365928\n"
          ]
        },
        {
          "output_type": "stream",
          "name": "stderr",
          "text": [
            "/usr/local/lib/python3.12/dist-packages/statsmodels/regression/linear_model.py:1782: RuntimeWarning: divide by zero encountered in scalar divide\n",
            "  return 1 - self.ssr/self.centered_tss\n"
          ]
        },
        {
          "output_type": "stream",
          "name": "stdout",
          "text": [
            "Updated VIFs:\n",
            "                Feature          VIF\n",
            "0                   t90   184.762413\n",
            "1             t90_error     7.110224\n",
            "2             t90_start   117.740171\n",
            "3               fluence  1511.915087\n",
            "4         fluence_error    24.914498\n",
            "..                  ...          ...\n",
            "156  scat_detector_mask    10.518811\n",
            "157            scatalog    12.257193\n",
            "158                 t50     8.705727\n",
            "159           t50_error     8.363913\n",
            "160           t50_start    12.190504\n",
            "\n",
            "[161 rows x 2 columns]\n",
            "\n",
            "Removing feature: flnc_comp_ergflncb_error with VIF: 2003.074188636154\n"
          ]
        },
        {
          "output_type": "stream",
          "name": "stderr",
          "text": [
            "/usr/local/lib/python3.12/dist-packages/statsmodels/regression/linear_model.py:1782: RuntimeWarning: divide by zero encountered in scalar divide\n",
            "  return 1 - self.ssr/self.centered_tss\n"
          ]
        },
        {
          "output_type": "stream",
          "name": "stdout",
          "text": [
            "Updated VIFs:\n",
            "                Feature          VIF\n",
            "0                   t90   184.763475\n",
            "1             t90_error     7.109946\n",
            "2             t90_start   117.738245\n",
            "3               fluence  1511.924557\n",
            "4         fluence_error    24.914722\n",
            "..                  ...          ...\n",
            "155  scat_detector_mask    10.518584\n",
            "156            scatalog    12.257191\n",
            "157                 t50     8.705686\n",
            "158           t50_error     8.363861\n",
            "159           t50_start    12.190522\n",
            "\n",
            "[160 rows x 2 columns]\n",
            "\n",
            "Removing feature: flux_batse_256_error with VIF: 1987.2726889624143\n"
          ]
        },
        {
          "output_type": "stream",
          "name": "stderr",
          "text": [
            "/usr/local/lib/python3.12/dist-packages/statsmodels/regression/linear_model.py:1782: RuntimeWarning: divide by zero encountered in scalar divide\n",
            "  return 1 - self.ssr/self.centered_tss\n"
          ]
        },
        {
          "output_type": "stream",
          "name": "stdout",
          "text": [
            "Updated VIFs:\n",
            "                Feature          VIF\n",
            "0                   t90   183.618644\n",
            "1             t90_error     7.058330\n",
            "2             t90_start   121.922890\n",
            "3               fluence  1506.898423\n",
            "4         fluence_error    24.557872\n",
            "..                  ...          ...\n",
            "154  scat_detector_mask    10.856933\n",
            "155            scatalog    12.254673\n",
            "156                 t50     8.832968\n",
            "157           t50_error     8.284534\n",
            "158           t50_start    12.240735\n",
            "\n",
            "[159 rows x 2 columns]\n",
            "\n",
            "Removing feature: pflx_band_ergflncb_error with VIF: 1986.1220877547216\n"
          ]
        },
        {
          "output_type": "stream",
          "name": "stderr",
          "text": [
            "/usr/local/lib/python3.12/dist-packages/statsmodels/regression/linear_model.py:1782: RuntimeWarning: divide by zero encountered in scalar divide\n",
            "  return 1 - self.ssr/self.centered_tss\n"
          ]
        },
        {
          "output_type": "stream",
          "name": "stdout",
          "text": [
            "Updated VIFs:\n",
            "                Feature          VIF\n",
            "0                   t90   183.618806\n",
            "1             t90_error     7.058199\n",
            "2             t90_start   121.923481\n",
            "3               fluence  1506.898656\n",
            "4         fluence_error    24.557900\n",
            "..                  ...          ...\n",
            "153  scat_detector_mask    10.857306\n",
            "154            scatalog    12.254862\n",
            "155                 t50     8.832982\n",
            "156           t50_error     8.285500\n",
            "157           t50_start    12.241646\n",
            "\n",
            "[158 rows x 2 columns]\n",
            "\n",
            "Removing feature: pflx_comp_ergflncb_error with VIF: 1956.7524311813663\n"
          ]
        },
        {
          "output_type": "stream",
          "name": "stderr",
          "text": [
            "/usr/local/lib/python3.12/dist-packages/statsmodels/regression/linear_model.py:1782: RuntimeWarning: divide by zero encountered in scalar divide\n",
            "  return 1 - self.ssr/self.centered_tss\n"
          ]
        },
        {
          "output_type": "stream",
          "name": "stdout",
          "text": [
            "Updated VIFs:\n",
            "                Feature          VIF\n",
            "0                   t90   183.619523\n",
            "1             t90_error     7.058326\n",
            "2             t90_start   121.923067\n",
            "3               fluence  1506.885793\n",
            "4         fluence_error    24.557970\n",
            "..                  ...          ...\n",
            "152  scat_detector_mask    10.856855\n",
            "153            scatalog    12.254539\n",
            "154                 t50     8.832987\n",
            "155           t50_error     8.285188\n",
            "156           t50_start    12.242025\n",
            "\n",
            "[157 rows x 2 columns]\n",
            "\n",
            "Removing feature: flnc_comp_ampl with VIF: 1899.2615957234166\n"
          ]
        },
        {
          "output_type": "stream",
          "name": "stderr",
          "text": [
            "/usr/local/lib/python3.12/dist-packages/statsmodels/regression/linear_model.py:1782: RuntimeWarning: divide by zero encountered in scalar divide\n",
            "  return 1 - self.ssr/self.centered_tss\n"
          ]
        },
        {
          "output_type": "stream",
          "name": "stdout",
          "text": [
            "Updated VIFs:\n",
            "                Feature          VIF\n",
            "0                   t90   171.129946\n",
            "1             t90_error     6.255311\n",
            "2             t90_start   115.502857\n",
            "3               fluence  1479.395361\n",
            "4         fluence_error    24.734660\n",
            "..                  ...          ...\n",
            "151  scat_detector_mask    10.837358\n",
            "152            scatalog    11.557905\n",
            "153                 t50     8.650448\n",
            "154           t50_error     8.100250\n",
            "155           t50_start    11.325497\n",
            "\n",
            "[156 rows x 2 columns]\n",
            "\n",
            "Removing feature: pflx_plaw_phtflux with VIF: 1682.730228785463\n"
          ]
        },
        {
          "output_type": "stream",
          "name": "stderr",
          "text": [
            "/usr/local/lib/python3.12/dist-packages/statsmodels/regression/linear_model.py:1782: RuntimeWarning: divide by zero encountered in scalar divide\n",
            "  return 1 - self.ssr/self.centered_tss\n"
          ]
        },
        {
          "output_type": "stream",
          "name": "stdout",
          "text": [
            "Updated VIFs:\n",
            "                Feature          VIF\n",
            "0                   t90   170.184434\n",
            "1             t90_error     5.711071\n",
            "2             t90_start   102.527118\n",
            "3               fluence  1408.040216\n",
            "4         fluence_error    23.913612\n",
            "..                  ...          ...\n",
            "150  scat_detector_mask    10.530802\n",
            "151            scatalog    11.297602\n",
            "152                 t50     8.221765\n",
            "153           t50_error     6.980120\n",
            "154           t50_start    11.912802\n",
            "\n",
            "[155 rows x 2 columns]\n",
            "\n",
            "Removing feature: pflx_band_phtflncb_error with VIF: 1483.943105523097\n"
          ]
        },
        {
          "output_type": "stream",
          "name": "stderr",
          "text": [
            "/usr/local/lib/python3.12/dist-packages/statsmodels/regression/linear_model.py:1782: RuntimeWarning: divide by zero encountered in scalar divide\n",
            "  return 1 - self.ssr/self.centered_tss\n"
          ]
        },
        {
          "output_type": "stream",
          "name": "stdout",
          "text": [
            "Updated VIFs:\n",
            "                Feature          VIF\n",
            "0                   t90   170.132336\n",
            "1             t90_error     5.625501\n",
            "2             t90_start    93.650429\n",
            "3               fluence  1371.778891\n",
            "4         fluence_error    24.357203\n",
            "..                  ...          ...\n",
            "149  scat_detector_mask    10.392836\n",
            "150            scatalog    11.213033\n",
            "151                 t50     8.077745\n",
            "152           t50_error     6.564839\n",
            "153           t50_start    11.397538\n",
            "\n",
            "[154 rows x 2 columns]\n",
            "\n",
            "Removing feature: fluence with VIF: 1371.7788911723671\n"
          ]
        },
        {
          "output_type": "stream",
          "name": "stderr",
          "text": [
            "/usr/local/lib/python3.12/dist-packages/statsmodels/regression/linear_model.py:1782: RuntimeWarning: divide by zero encountered in scalar divide\n",
            "  return 1 - self.ssr/self.centered_tss\n"
          ]
        },
        {
          "output_type": "stream",
          "name": "stdout",
          "text": [
            "Updated VIFs:\n",
            "                Feature         VIF\n",
            "0                   t90  170.131742\n",
            "1             t90_error    5.625509\n",
            "2             t90_start   93.650499\n",
            "3         fluence_error   24.357114\n",
            "4       flux_1024_error  466.875015\n",
            "..                  ...         ...\n",
            "148  scat_detector_mask   10.388495\n",
            "149            scatalog   11.213017\n",
            "150                 t50    8.077744\n",
            "151           t50_error    6.565041\n",
            "152           t50_start   11.397560\n",
            "\n",
            "[153 rows x 2 columns]\n",
            "\n",
            "Removing feature: flnc_plaw_redfitstat with VIF: 1123.9886730747621\n"
          ]
        },
        {
          "output_type": "stream",
          "name": "stderr",
          "text": [
            "/usr/local/lib/python3.12/dist-packages/statsmodels/regression/linear_model.py:1782: RuntimeWarning: divide by zero encountered in scalar divide\n",
            "  return 1 - self.ssr/self.centered_tss\n"
          ]
        },
        {
          "output_type": "stream",
          "name": "stdout",
          "text": [
            "Updated VIFs:\n",
            "                Feature         VIF\n",
            "0                   t90  167.493482\n",
            "1             t90_error    5.626109\n",
            "2             t90_start   94.159215\n",
            "3         fluence_error   20.703229\n",
            "4       flux_1024_error  437.750389\n",
            "..                  ...         ...\n",
            "147  scat_detector_mask    9.027157\n",
            "148            scatalog   11.072048\n",
            "149                 t50    7.926480\n",
            "150           t50_error    6.197216\n",
            "151           t50_start   11.102113\n",
            "\n",
            "[152 rows x 2 columns]\n",
            "\n",
            "Removing feature: flnc_comp_redfitstat with VIF: 1119.6661990621938\n"
          ]
        },
        {
          "output_type": "stream",
          "name": "stderr",
          "text": [
            "/usr/local/lib/python3.12/dist-packages/statsmodels/regression/linear_model.py:1782: RuntimeWarning: divide by zero encountered in scalar divide\n",
            "  return 1 - self.ssr/self.centered_tss\n"
          ]
        },
        {
          "output_type": "stream",
          "name": "stdout",
          "text": [
            "Updated VIFs:\n",
            "                Feature         VIF\n",
            "0                   t90  151.516022\n",
            "1             t90_error    5.387201\n",
            "2             t90_start   82.572229\n",
            "3         fluence_error   20.659751\n",
            "4       flux_1024_error  429.804498\n",
            "..                  ...         ...\n",
            "146  scat_detector_mask    7.669316\n",
            "147            scatalog   10.735972\n",
            "148                 t50    7.785445\n",
            "149           t50_error    5.403892\n",
            "150           t50_start   11.376160\n",
            "\n",
            "[151 rows x 2 columns]\n",
            "\n",
            "Removing feature: flnc_sbpl_brken_pos_err with VIF: 1039.7300667874972\n"
          ]
        },
        {
          "output_type": "stream",
          "name": "stderr",
          "text": [
            "/usr/local/lib/python3.12/dist-packages/statsmodels/regression/linear_model.py:1782: RuntimeWarning: divide by zero encountered in scalar divide\n",
            "  return 1 - self.ssr/self.centered_tss\n"
          ]
        },
        {
          "output_type": "stream",
          "name": "stdout",
          "text": [
            "Updated VIFs:\n",
            "                Feature         VIF\n",
            "0                   t90  150.309702\n",
            "1             t90_error    5.512646\n",
            "2             t90_start   80.265657\n",
            "3         fluence_error   20.639120\n",
            "4       flux_1024_error  430.321218\n",
            "..                  ...         ...\n",
            "145  scat_detector_mask    7.667098\n",
            "146            scatalog   10.585684\n",
            "147                 t50    7.736653\n",
            "148           t50_error    5.368088\n",
            "149           t50_start   10.284147\n",
            "\n",
            "[150 rows x 2 columns]\n",
            "\n",
            "Removing feature: pflx_plaw_phtfluxb_error with VIF: 865.788522379883\n"
          ]
        },
        {
          "output_type": "stream",
          "name": "stderr",
          "text": [
            "/usr/local/lib/python3.12/dist-packages/statsmodels/regression/linear_model.py:1782: RuntimeWarning: divide by zero encountered in scalar divide\n",
            "  return 1 - self.ssr/self.centered_tss\n"
          ]
        },
        {
          "output_type": "stream",
          "name": "stdout",
          "text": [
            "Updated VIFs:\n",
            "                Feature         VIF\n",
            "0                   t90  150.368917\n",
            "1             t90_error    5.493620\n",
            "2             t90_start   80.119805\n",
            "3         fluence_error   20.528893\n",
            "4       flux_1024_error  431.013407\n",
            "..                  ...         ...\n",
            "144  scat_detector_mask    7.711005\n",
            "145            scatalog   10.608692\n",
            "146                 t50    7.736381\n",
            "147           t50_error    5.367012\n",
            "148           t50_start   10.334496\n",
            "\n",
            "[149 rows x 2 columns]\n",
            "\n",
            "Removing feature: flnc_plaw_ergflnc_error with VIF: 799.0458859319594\n"
          ]
        },
        {
          "output_type": "stream",
          "name": "stderr",
          "text": [
            "/usr/local/lib/python3.12/dist-packages/statsmodels/regression/linear_model.py:1782: RuntimeWarning: divide by zero encountered in scalar divide\n",
            "  return 1 - self.ssr/self.centered_tss\n"
          ]
        },
        {
          "output_type": "stream",
          "name": "stdout",
          "text": [
            "Updated VIFs:\n",
            "                Feature         VIF\n",
            "0                   t90  150.368989\n",
            "1             t90_error    5.493698\n",
            "2             t90_start   80.119796\n",
            "3         fluence_error   20.528904\n",
            "4       flux_1024_error  431.014577\n",
            "..                  ...         ...\n",
            "143  scat_detector_mask    7.711139\n",
            "144            scatalog   10.608697\n",
            "145                 t50    7.736388\n",
            "146           t50_error    5.367010\n",
            "147           t50_start   10.334239\n",
            "\n",
            "[148 rows x 2 columns]\n",
            "\n",
            "Removing feature: flnc_sbpl_ergflnc with VIF: 728.2535605126426\n"
          ]
        },
        {
          "output_type": "stream",
          "name": "stderr",
          "text": [
            "/usr/local/lib/python3.12/dist-packages/statsmodels/regression/linear_model.py:1782: RuntimeWarning: divide by zero encountered in scalar divide\n",
            "  return 1 - self.ssr/self.centered_tss\n"
          ]
        },
        {
          "output_type": "stream",
          "name": "stdout",
          "text": [
            "Updated VIFs:\n",
            "                Feature         VIF\n",
            "0                   t90  150.368358\n",
            "1             t90_error    5.493699\n",
            "2             t90_start   80.118354\n",
            "3         fluence_error   20.528940\n",
            "4       flux_1024_error  431.014921\n",
            "..                  ...         ...\n",
            "142  scat_detector_mask    7.710643\n",
            "143            scatalog   10.608634\n",
            "144                 t50    7.736391\n",
            "145           t50_error    5.366953\n",
            "146           t50_start   10.334413\n",
            "\n",
            "[147 rows x 2 columns]\n",
            "\n",
            "Removing feature: pflx_plaw_phtflncb_error with VIF: 717.5894142690678\n"
          ]
        },
        {
          "output_type": "stream",
          "name": "stderr",
          "text": [
            "/usr/local/lib/python3.12/dist-packages/statsmodels/regression/linear_model.py:1782: RuntimeWarning: divide by zero encountered in scalar divide\n",
            "  return 1 - self.ssr/self.centered_tss\n"
          ]
        },
        {
          "output_type": "stream",
          "name": "stdout",
          "text": [
            "Updated VIFs:\n",
            "                Feature         VIF\n",
            "0                   t90  150.439535\n",
            "1             t90_error    5.219065\n",
            "2             t90_start   79.996884\n",
            "3         fluence_error   20.548667\n",
            "4       flux_1024_error  431.472796\n",
            "..                  ...         ...\n",
            "141  scat_detector_mask    7.720881\n",
            "142            scatalog   10.689706\n",
            "143                 t50    7.735189\n",
            "144           t50_error    5.346945\n",
            "145           t50_start   11.021600\n",
            "\n",
            "[146 rows x 2 columns]\n",
            "\n",
            "Removing feature: flnc_band_ergflnc with VIF: 695.7307250809948\n"
          ]
        },
        {
          "output_type": "stream",
          "name": "stderr",
          "text": [
            "/usr/local/lib/python3.12/dist-packages/statsmodels/regression/linear_model.py:1782: RuntimeWarning: divide by zero encountered in scalar divide\n",
            "  return 1 - self.ssr/self.centered_tss\n"
          ]
        },
        {
          "output_type": "stream",
          "name": "stdout",
          "text": [
            "Updated VIFs:\n",
            "                Feature         VIF\n",
            "0                   t90  150.439806\n",
            "1             t90_error    5.219107\n",
            "2             t90_start   79.995739\n",
            "3         fluence_error   20.548668\n",
            "4       flux_1024_error  431.474605\n",
            "..                  ...         ...\n",
            "140  scat_detector_mask    7.720627\n",
            "141            scatalog   10.689696\n",
            "142                 t50    7.735194\n",
            "143           t50_error    5.346978\n",
            "144           t50_start   11.021452\n",
            "\n",
            "[145 rows x 2 columns]\n",
            "\n",
            "Removing feature: flnc_sbpl_phtflnc_error with VIF: 682.3731917365291\n"
          ]
        },
        {
          "output_type": "stream",
          "name": "stderr",
          "text": [
            "/usr/local/lib/python3.12/dist-packages/statsmodels/regression/linear_model.py:1782: RuntimeWarning: divide by zero encountered in scalar divide\n",
            "  return 1 - self.ssr/self.centered_tss\n"
          ]
        },
        {
          "output_type": "stream",
          "name": "stdout",
          "text": [
            "Updated VIFs:\n",
            "                Feature         VIF\n",
            "0                   t90  151.940109\n",
            "1             t90_error    5.337038\n",
            "2             t90_start   81.332457\n",
            "3         fluence_error   21.372161\n",
            "4       flux_1024_error  445.754531\n",
            "..                  ...         ...\n",
            "139  scat_detector_mask    7.306571\n",
            "140            scatalog   10.899859\n",
            "141                 t50    8.011959\n",
            "142           t50_error    5.300536\n",
            "143           t50_start   11.479568\n",
            "\n",
            "[144 rows x 2 columns]\n",
            "\n",
            "Removing feature: flnc_comp_ergflnc with VIF: 647.0102515145156\n"
          ]
        },
        {
          "output_type": "stream",
          "name": "stderr",
          "text": [
            "/usr/local/lib/python3.12/dist-packages/statsmodels/regression/linear_model.py:1782: RuntimeWarning: divide by zero encountered in scalar divide\n",
            "  return 1 - self.ssr/self.centered_tss\n"
          ]
        },
        {
          "output_type": "stream",
          "name": "stdout",
          "text": [
            "Updated VIFs:\n",
            "                Feature         VIF\n",
            "0                   t90  151.940106\n",
            "1             t90_error    5.336969\n",
            "2             t90_start   81.332497\n",
            "3         fluence_error   21.372170\n",
            "4       flux_1024_error  445.754212\n",
            "..                  ...         ...\n",
            "138  scat_detector_mask    7.306602\n",
            "139            scatalog   10.899874\n",
            "140                 t50    8.011959\n",
            "141           t50_error    5.300542\n",
            "142           t50_start   11.479575\n",
            "\n",
            "[143 rows x 2 columns]\n",
            "\n",
            "Removing feature: pflx_sbpl_phtflncb_error with VIF: 609.1555608599555\n"
          ]
        },
        {
          "output_type": "stream",
          "name": "stderr",
          "text": [
            "/usr/local/lib/python3.12/dist-packages/statsmodels/regression/linear_model.py:1782: RuntimeWarning: divide by zero encountered in scalar divide\n",
            "  return 1 - self.ssr/self.centered_tss\n"
          ]
        },
        {
          "output_type": "stream",
          "name": "stdout",
          "text": [
            "Updated VIFs:\n",
            "                Feature         VIF\n",
            "0                   t90  151.612118\n",
            "1             t90_error    5.217794\n",
            "2             t90_start   78.832493\n",
            "3         fluence_error   21.077798\n",
            "4       flux_1024_error  442.471301\n",
            "..                  ...         ...\n",
            "137  scat_detector_mask    7.169092\n",
            "138            scatalog   10.882515\n",
            "139                 t50    7.756820\n",
            "140           t50_error    5.344681\n",
            "141           t50_start   10.865189\n",
            "\n",
            "[142 rows x 2 columns]\n",
            "\n",
            "Removing feature: pflx_plaw_ampl_pos_err with VIF: 480.4634127643134\n"
          ]
        },
        {
          "output_type": "stream",
          "name": "stderr",
          "text": [
            "/usr/local/lib/python3.12/dist-packages/statsmodels/regression/linear_model.py:1782: RuntimeWarning: divide by zero encountered in scalar divide\n",
            "  return 1 - self.ssr/self.centered_tss\n"
          ]
        },
        {
          "output_type": "stream",
          "name": "stdout",
          "text": [
            "Updated VIFs:\n",
            "                Feature         VIF\n",
            "0                   t90  151.613377\n",
            "1             t90_error    5.217804\n",
            "2             t90_start   78.836329\n",
            "3         fluence_error   21.077848\n",
            "4       flux_1024_error  442.473653\n",
            "..                  ...         ...\n",
            "136  scat_detector_mask    7.169275\n",
            "137            scatalog   10.882504\n",
            "138                 t50    7.756814\n",
            "139           t50_error    5.344691\n",
            "140           t50_start   10.864836\n",
            "\n",
            "[141 rows x 2 columns]\n",
            "\n",
            "Removing feature: pflx_plaw_ampl_neg_err with VIF: 480.46213874421113\n"
          ]
        },
        {
          "output_type": "stream",
          "name": "stderr",
          "text": [
            "/usr/local/lib/python3.12/dist-packages/statsmodels/regression/linear_model.py:1782: RuntimeWarning: divide by zero encountered in scalar divide\n",
            "  return 1 - self.ssr/self.centered_tss\n"
          ]
        },
        {
          "output_type": "stream",
          "name": "stdout",
          "text": [
            "Updated VIFs:\n",
            "                Feature         VIF\n",
            "0                   t90  151.614068\n",
            "1             t90_error    5.217810\n",
            "2             t90_start   78.836713\n",
            "3         fluence_error   21.077904\n",
            "4       flux_1024_error  442.473079\n",
            "..                  ...         ...\n",
            "135  scat_detector_mask    7.169292\n",
            "136            scatalog   10.882554\n",
            "137                 t50    7.756821\n",
            "138           t50_error    5.344689\n",
            "139           t50_start   10.865156\n",
            "\n",
            "[140 rows x 2 columns]\n",
            "\n",
            "Removing feature: flux_1024_error with VIF: 442.47307854896627\n"
          ]
        },
        {
          "output_type": "stream",
          "name": "stderr",
          "text": [
            "/usr/local/lib/python3.12/dist-packages/statsmodels/regression/linear_model.py:1782: RuntimeWarning: divide by zero encountered in scalar divide\n",
            "  return 1 - self.ssr/self.centered_tss\n"
          ]
        },
        {
          "output_type": "stream",
          "name": "stdout",
          "text": [
            "Updated VIFs:\n",
            "                Feature         VIF\n",
            "0                   t90  146.479089\n",
            "1             t90_error    5.415241\n",
            "2             t90_start   73.972777\n",
            "3         fluence_error   21.185071\n",
            "4        flux_1024_time   47.765674\n",
            "..                  ...         ...\n",
            "134  scat_detector_mask    6.799542\n",
            "135            scatalog   10.857047\n",
            "136                 t50    7.729191\n",
            "137           t50_error    5.301056\n",
            "138           t50_start   10.959158\n",
            "\n",
            "[139 rows x 2 columns]\n",
            "\n",
            "Removing feature: flnc_comp_index_neg_err with VIF: 689.7905733961557\n"
          ]
        },
        {
          "output_type": "stream",
          "name": "stderr",
          "text": [
            "/usr/local/lib/python3.12/dist-packages/statsmodels/regression/linear_model.py:1782: RuntimeWarning: divide by zero encountered in scalar divide\n",
            "  return 1 - self.ssr/self.centered_tss\n"
          ]
        },
        {
          "output_type": "stream",
          "name": "stdout",
          "text": [
            "Updated VIFs:\n",
            "                Feature         VIF\n",
            "0                   t90  144.708561\n",
            "1             t90_error    5.380000\n",
            "2             t90_start   73.854724\n",
            "3         fluence_error   21.175747\n",
            "4        flux_1024_time   47.528043\n",
            "..                  ...         ...\n",
            "133  scat_detector_mask    6.813570\n",
            "134            scatalog   10.816034\n",
            "135                 t50    7.705993\n",
            "136           t50_error    5.354454\n",
            "137           t50_start   11.117118\n",
            "\n",
            "[138 rows x 2 columns]\n",
            "\n",
            "Removing feature: flnc_band_phtflux_error with VIF: 812.1171436162724\n"
          ]
        },
        {
          "output_type": "stream",
          "name": "stderr",
          "text": [
            "/usr/local/lib/python3.12/dist-packages/statsmodels/regression/linear_model.py:1782: RuntimeWarning: divide by zero encountered in scalar divide\n",
            "  return 1 - self.ssr/self.centered_tss\n"
          ]
        },
        {
          "output_type": "stream",
          "name": "stdout",
          "text": [
            "Updated VIFs:\n",
            "                Feature         VIF\n",
            "0                   t90  144.571372\n",
            "1             t90_error    5.387986\n",
            "2             t90_start   73.675438\n",
            "3         fluence_error   21.172369\n",
            "4        flux_1024_time   47.327975\n",
            "..                  ...         ...\n",
            "132  scat_detector_mask    6.816398\n",
            "133            scatalog   10.854364\n",
            "134                 t50    7.733727\n",
            "135           t50_error    5.367119\n",
            "136           t50_start   11.118212\n",
            "\n",
            "[137 rows x 2 columns]\n",
            "\n",
            "Removing feature: flnc_plaw_phtflux_error with VIF: 560.3326457045006\n"
          ]
        },
        {
          "output_type": "stream",
          "name": "stderr",
          "text": [
            "/usr/local/lib/python3.12/dist-packages/statsmodels/regression/linear_model.py:1782: RuntimeWarning: divide by zero encountered in scalar divide\n",
            "  return 1 - self.ssr/self.centered_tss\n"
          ]
        },
        {
          "output_type": "stream",
          "name": "stdout",
          "text": [
            "Updated VIFs:\n",
            "                Feature         VIF\n",
            "0                   t90  144.560560\n",
            "1             t90_error    5.233506\n",
            "2             t90_start   73.616875\n",
            "3         fluence_error   21.185231\n",
            "4        flux_1024_time   47.299217\n",
            "..                  ...         ...\n",
            "131  scat_detector_mask    6.801230\n",
            "132            scatalog   10.811727\n",
            "133                 t50    7.732803\n",
            "134           t50_error    5.369318\n",
            "135           t50_start   11.211379\n",
            "\n",
            "[136 rows x 2 columns]\n",
            "\n",
            "Removing feature: flnc_band_ergflncb_error with VIF: 419.7181900037635\n"
          ]
        },
        {
          "output_type": "stream",
          "name": "stderr",
          "text": [
            "/usr/local/lib/python3.12/dist-packages/statsmodels/regression/linear_model.py:1782: RuntimeWarning: divide by zero encountered in scalar divide\n",
            "  return 1 - self.ssr/self.centered_tss\n"
          ]
        },
        {
          "output_type": "stream",
          "name": "stdout",
          "text": [
            "Updated VIFs:\n",
            "                Feature         VIF\n",
            "0                   t90  144.560322\n",
            "1             t90_error    5.233535\n",
            "2             t90_start   73.616912\n",
            "3         fluence_error   21.185243\n",
            "4        flux_1024_time   47.299072\n",
            "..                  ...         ...\n",
            "130  scat_detector_mask    6.801279\n",
            "131            scatalog   10.811679\n",
            "132                 t50    7.732802\n",
            "133           t50_error    5.369318\n",
            "134           t50_start   11.211344\n",
            "\n",
            "[135 rows x 2 columns]\n",
            "\n",
            "Removing feature: flnc_comp_dof with VIF: 414.82871913861555\n"
          ]
        },
        {
          "output_type": "stream",
          "name": "stderr",
          "text": [
            "/usr/local/lib/python3.12/dist-packages/statsmodels/regression/linear_model.py:1782: RuntimeWarning: divide by zero encountered in scalar divide\n",
            "  return 1 - self.ssr/self.centered_tss\n"
          ]
        },
        {
          "output_type": "stream",
          "name": "stdout",
          "text": [
            "Updated VIFs:\n",
            "                Feature         VIF\n",
            "0                   t90  142.865396\n",
            "1             t90_error    5.527194\n",
            "2             t90_start   73.770739\n",
            "3         fluence_error   21.283378\n",
            "4        flux_1024_time   47.178988\n",
            "..                  ...         ...\n",
            "129  scat_detector_mask    6.769750\n",
            "130            scatalog   10.652723\n",
            "131                 t50    7.726502\n",
            "132           t50_error    5.267105\n",
            "133           t50_start   10.807213\n",
            "\n",
            "[134 rows x 2 columns]\n",
            "\n",
            "Removing feature: flux_64 with VIF: 394.21375382329245\n"
          ]
        },
        {
          "output_type": "stream",
          "name": "stderr",
          "text": [
            "/usr/local/lib/python3.12/dist-packages/statsmodels/regression/linear_model.py:1782: RuntimeWarning: divide by zero encountered in scalar divide\n",
            "  return 1 - self.ssr/self.centered_tss\n"
          ]
        },
        {
          "output_type": "stream",
          "name": "stdout",
          "text": [
            "Updated VIFs:\n",
            "                Feature         VIF\n",
            "0                   t90  134.674147\n",
            "1             t90_error    5.563511\n",
            "2             t90_start   72.392963\n",
            "3         fluence_error   19.382644\n",
            "4        flux_1024_time   46.615019\n",
            "..                  ...         ...\n",
            "128  scat_detector_mask    6.710855\n",
            "129            scatalog   10.427137\n",
            "130                 t50    7.582889\n",
            "131           t50_error    5.308815\n",
            "132           t50_start   10.467023\n",
            "\n",
            "[133 rows x 2 columns]\n",
            "\n",
            "Removing feature: pflx_plaw_ergflncb_error with VIF: 365.5736314246249\n"
          ]
        },
        {
          "output_type": "stream",
          "name": "stderr",
          "text": [
            "/usr/local/lib/python3.12/dist-packages/statsmodels/regression/linear_model.py:1782: RuntimeWarning: divide by zero encountered in scalar divide\n",
            "  return 1 - self.ssr/self.centered_tss\n"
          ]
        },
        {
          "output_type": "stream",
          "name": "stdout",
          "text": [
            "Updated VIFs:\n",
            "                Feature         VIF\n",
            "0                   t90  134.674248\n",
            "1             t90_error    5.563518\n",
            "2             t90_start   72.393032\n",
            "3         fluence_error   19.382651\n",
            "4        flux_1024_time   46.614944\n",
            "..                  ...         ...\n",
            "127  scat_detector_mask    6.710773\n",
            "128            scatalog   10.427145\n",
            "129                 t50    7.582895\n",
            "130           t50_error    5.308806\n",
            "131           t50_start   10.466988\n",
            "\n",
            "[132 rows x 2 columns]\n",
            "\n",
            "Removing feature: flnc_band_ergflux with VIF: 348.2597086830531\n"
          ]
        },
        {
          "output_type": "stream",
          "name": "stderr",
          "text": [
            "/usr/local/lib/python3.12/dist-packages/statsmodels/regression/linear_model.py:1782: RuntimeWarning: divide by zero encountered in scalar divide\n",
            "  return 1 - self.ssr/self.centered_tss\n"
          ]
        },
        {
          "output_type": "stream",
          "name": "stdout",
          "text": [
            "Updated VIFs:\n",
            "                Feature         VIF\n",
            "0                   t90  134.674375\n",
            "1             t90_error    5.563521\n",
            "2             t90_start   72.392944\n",
            "3         fluence_error   19.382665\n",
            "4        flux_1024_time   46.614620\n",
            "..                  ...         ...\n",
            "126  scat_detector_mask    6.710726\n",
            "127            scatalog   10.427137\n",
            "128                 t50    7.582887\n",
            "129           t50_error    5.308819\n",
            "130           t50_start   10.466977\n",
            "\n",
            "[131 rows x 2 columns]\n",
            "\n",
            "Removing feature: flnc_sbpl_ergflncb_error with VIF: 347.6460233328901\n"
          ]
        },
        {
          "output_type": "stream",
          "name": "stderr",
          "text": [
            "/usr/local/lib/python3.12/dist-packages/statsmodels/regression/linear_model.py:1782: RuntimeWarning: divide by zero encountered in scalar divide\n",
            "  return 1 - self.ssr/self.centered_tss\n"
          ]
        },
        {
          "output_type": "stream",
          "name": "stdout",
          "text": [
            "Updated VIFs:\n",
            "                Feature         VIF\n",
            "0                   t90  134.674001\n",
            "1             t90_error    5.563514\n",
            "2             t90_start   72.393055\n",
            "3         fluence_error   19.382664\n",
            "4        flux_1024_time   46.614916\n",
            "..                  ...         ...\n",
            "125  scat_detector_mask    6.710864\n",
            "126            scatalog   10.427143\n",
            "127                 t50    7.582888\n",
            "128           t50_error    5.308823\n",
            "129           t50_start   10.466987\n",
            "\n",
            "[130 rows x 2 columns]\n",
            "\n",
            "Removing feature: flnc_sbpl_ergflux with VIF: 342.61088161479216\n"
          ]
        },
        {
          "output_type": "stream",
          "name": "stderr",
          "text": [
            "/usr/local/lib/python3.12/dist-packages/statsmodels/regression/linear_model.py:1782: RuntimeWarning: divide by zero encountered in scalar divide\n",
            "  return 1 - self.ssr/self.centered_tss\n"
          ]
        },
        {
          "output_type": "stream",
          "name": "stdout",
          "text": [
            "Updated VIFs:\n",
            "                Feature         VIF\n",
            "0                   t90  134.673969\n",
            "1             t90_error    5.563508\n",
            "2             t90_start   72.393007\n",
            "3         fluence_error   19.382648\n",
            "4        flux_1024_time   46.615043\n",
            "..                  ...         ...\n",
            "124  scat_detector_mask    6.710807\n",
            "125            scatalog   10.427144\n",
            "126                 t50    7.582888\n",
            "127           t50_error    5.308822\n",
            "128           t50_start   10.467021\n",
            "\n",
            "[129 rows x 2 columns]\n",
            "\n",
            "Removing feature: pflx_sbpl_brken with VIF: 339.77152231774096\n"
          ]
        },
        {
          "output_type": "stream",
          "name": "stderr",
          "text": [
            "/usr/local/lib/python3.12/dist-packages/statsmodels/regression/linear_model.py:1782: RuntimeWarning: divide by zero encountered in scalar divide\n",
            "  return 1 - self.ssr/self.centered_tss\n"
          ]
        },
        {
          "output_type": "stream",
          "name": "stdout",
          "text": [
            "Updated VIFs:\n",
            "                Feature         VIF\n",
            "0                   t90  129.965273\n",
            "1             t90_error    5.383742\n",
            "2             t90_start   72.288692\n",
            "3         fluence_error   18.881741\n",
            "4        flux_1024_time   45.981566\n",
            "..                  ...         ...\n",
            "123  scat_detector_mask    6.774621\n",
            "124            scatalog   10.399695\n",
            "125                 t50    7.461048\n",
            "126           t50_error    5.275323\n",
            "127           t50_start   10.322007\n",
            "\n",
            "[128 rows x 2 columns]\n",
            "\n",
            "Removing feature: pflx_sbpl_ergflncb_error with VIF: 296.93182489364654\n"
          ]
        },
        {
          "output_type": "stream",
          "name": "stderr",
          "text": [
            "/usr/local/lib/python3.12/dist-packages/statsmodels/regression/linear_model.py:1782: RuntimeWarning: divide by zero encountered in scalar divide\n",
            "  return 1 - self.ssr/self.centered_tss\n"
          ]
        },
        {
          "output_type": "stream",
          "name": "stdout",
          "text": [
            "Updated VIFs:\n",
            "                Feature         VIF\n",
            "0                   t90  129.965290\n",
            "1             t90_error    5.383738\n",
            "2             t90_start   72.288514\n",
            "3         fluence_error   18.881738\n",
            "4        flux_1024_time   45.981558\n",
            "..                  ...         ...\n",
            "122  scat_detector_mask    6.774702\n",
            "123            scatalog   10.399690\n",
            "124                 t50    7.461049\n",
            "125           t50_error    5.275317\n",
            "126           t50_start   10.321990\n",
            "\n",
            "[127 rows x 2 columns]\n",
            "\n",
            "Removing feature: back_interval_high_start with VIF: 296.59797560223785\n"
          ]
        },
        {
          "output_type": "stream",
          "name": "stderr",
          "text": [
            "/usr/local/lib/python3.12/dist-packages/statsmodels/regression/linear_model.py:1782: RuntimeWarning: divide by zero encountered in scalar divide\n",
            "  return 1 - self.ssr/self.centered_tss\n"
          ]
        },
        {
          "output_type": "stream",
          "name": "stdout",
          "text": [
            "Updated VIFs:\n",
            "                Feature        VIF\n",
            "0                   t90  87.138272\n",
            "1             t90_error   5.010580\n",
            "2             t90_start  59.954591\n",
            "3         fluence_error  17.326150\n",
            "4        flux_1024_time  41.232690\n",
            "..                  ...        ...\n",
            "121  scat_detector_mask   6.734050\n",
            "122            scatalog  10.354194\n",
            "123                 t50   7.458153\n",
            "124           t50_error   5.275648\n",
            "125           t50_start  10.423723\n",
            "\n",
            "[126 rows x 2 columns]\n",
            "\n",
            "Removing feature: flnc_comp_phtflncb_error with VIF: 273.9523171979926\n"
          ]
        },
        {
          "output_type": "stream",
          "name": "stderr",
          "text": [
            "/usr/local/lib/python3.12/dist-packages/statsmodels/regression/linear_model.py:1782: RuntimeWarning: divide by zero encountered in scalar divide\n",
            "  return 1 - self.ssr/self.centered_tss\n"
          ]
        },
        {
          "output_type": "stream",
          "name": "stdout",
          "text": [
            "Updated VIFs:\n",
            "                Feature        VIF\n",
            "0                   t90  88.004496\n",
            "1             t90_error   5.071682\n",
            "2             t90_start  56.997881\n",
            "3         fluence_error  17.366412\n",
            "4        flux_1024_time  38.650744\n",
            "..                  ...        ...\n",
            "120  scat_detector_mask   6.759868\n",
            "121            scatalog  10.226824\n",
            "122                 t50   7.236203\n",
            "123           t50_error   4.949515\n",
            "124           t50_start   9.963631\n",
            "\n",
            "[125 rows x 2 columns]\n",
            "\n",
            "Removing feature: flnc_comp_ergflux with VIF: 281.19450803860383\n"
          ]
        },
        {
          "output_type": "stream",
          "name": "stderr",
          "text": [
            "/usr/local/lib/python3.12/dist-packages/statsmodels/regression/linear_model.py:1782: RuntimeWarning: divide by zero encountered in scalar divide\n",
            "  return 1 - self.ssr/self.centered_tss\n"
          ]
        },
        {
          "output_type": "stream",
          "name": "stdout",
          "text": [
            "Updated VIFs:\n",
            "                Feature        VIF\n",
            "0                   t90  88.004700\n",
            "1             t90_error   5.071737\n",
            "2             t90_start  56.997875\n",
            "3         fluence_error  17.366480\n",
            "4        flux_1024_time  38.653036\n",
            "..                  ...        ...\n",
            "119  scat_detector_mask   6.759870\n",
            "120            scatalog  10.226812\n",
            "121                 t50   7.236208\n",
            "122           t50_error   4.949507\n",
            "123           t50_start   9.963624\n",
            "\n",
            "[124 rows x 2 columns]\n",
            "\n",
            "Removing feature: pflx_best_model_redchisq with VIF: 262.9857823149953\n"
          ]
        },
        {
          "output_type": "stream",
          "name": "stderr",
          "text": [
            "/usr/local/lib/python3.12/dist-packages/statsmodels/regression/linear_model.py:1782: RuntimeWarning: divide by zero encountered in scalar divide\n",
            "  return 1 - self.ssr/self.centered_tss\n"
          ]
        },
        {
          "output_type": "stream",
          "name": "stdout",
          "text": [
            "Updated VIFs:\n",
            "                Feature        VIF\n",
            "0                   t90  86.774578\n",
            "1             t90_error   5.031713\n",
            "2             t90_start  53.557468\n",
            "3         fluence_error  17.043653\n",
            "4        flux_1024_time  37.156816\n",
            "..                  ...        ...\n",
            "118  scat_detector_mask   6.506476\n",
            "119            scatalog  10.178502\n",
            "120                 t50   7.232774\n",
            "121           t50_error   4.988904\n",
            "122           t50_start   9.441258\n",
            "\n",
            "[123 rows x 2 columns]\n",
            "\n",
            "Removing feature: flux_batse_64_error with VIF: 227.46709752554787\n"
          ]
        },
        {
          "output_type": "stream",
          "name": "stderr",
          "text": [
            "/usr/local/lib/python3.12/dist-packages/statsmodels/regression/linear_model.py:1782: RuntimeWarning: divide by zero encountered in scalar divide\n",
            "  return 1 - self.ssr/self.centered_tss\n"
          ]
        },
        {
          "output_type": "stream",
          "name": "stdout",
          "text": [
            "Updated VIFs:\n",
            "                Feature        VIF\n",
            "0                   t90  81.931950\n",
            "1             t90_error   5.009122\n",
            "2             t90_start  49.818361\n",
            "3         fluence_error  16.900487\n",
            "4        flux_1024_time  37.440248\n",
            "..                  ...        ...\n",
            "117  scat_detector_mask   6.364333\n",
            "118            scatalog  10.089351\n",
            "119                 t50   7.226099\n",
            "120           t50_error   4.996795\n",
            "121           t50_start   9.299662\n",
            "\n",
            "[122 rows x 2 columns]\n",
            "\n",
            "Removing feature: pflx_plaw_ergflux_error with VIF: 206.60431653156527\n"
          ]
        },
        {
          "output_type": "stream",
          "name": "stderr",
          "text": [
            "/usr/local/lib/python3.12/dist-packages/statsmodels/regression/linear_model.py:1782: RuntimeWarning: divide by zero encountered in scalar divide\n",
            "  return 1 - self.ssr/self.centered_tss\n"
          ]
        },
        {
          "output_type": "stream",
          "name": "stdout",
          "text": [
            "Updated VIFs:\n",
            "                Feature        VIF\n",
            "0                   t90  81.931956\n",
            "1             t90_error   5.009120\n",
            "2             t90_start  49.818366\n",
            "3         fluence_error  16.900501\n",
            "4        flux_1024_time  37.440087\n",
            "..                  ...        ...\n",
            "116  scat_detector_mask   6.364327\n",
            "117            scatalog  10.089373\n",
            "118                 t50   7.226097\n",
            "119           t50_error   4.996792\n",
            "120           t50_start   9.299661\n",
            "\n",
            "[121 rows x 2 columns]\n",
            "\n",
            "Removing feature: pflx_plaw_phtflnc_error with VIF: 196.87007250614954\n"
          ]
        },
        {
          "output_type": "stream",
          "name": "stderr",
          "text": [
            "/usr/local/lib/python3.12/dist-packages/statsmodels/regression/linear_model.py:1782: RuntimeWarning: divide by zero encountered in scalar divide\n",
            "  return 1 - self.ssr/self.centered_tss\n"
          ]
        },
        {
          "output_type": "stream",
          "name": "stdout",
          "text": [
            "Updated VIFs:\n",
            "                Feature        VIF\n",
            "0                   t90  80.185771\n",
            "1             t90_error   4.887673\n",
            "2             t90_start  49.340515\n",
            "3         fluence_error  16.777739\n",
            "4        flux_1024_time  34.023265\n",
            "..                  ...        ...\n",
            "115  scat_detector_mask   6.295441\n",
            "116            scatalog   9.814080\n",
            "117                 t50   7.108140\n",
            "118           t50_error   4.904390\n",
            "119           t50_start   9.325891\n",
            "\n",
            "[120 rows x 2 columns]\n",
            "\n",
            "Removing feature: flnc_plaw_redchisq with VIF: 167.38743545971062\n"
          ]
        },
        {
          "output_type": "stream",
          "name": "stderr",
          "text": [
            "/usr/local/lib/python3.12/dist-packages/statsmodels/regression/linear_model.py:1782: RuntimeWarning: divide by zero encountered in scalar divide\n",
            "  return 1 - self.ssr/self.centered_tss\n"
          ]
        },
        {
          "output_type": "stream",
          "name": "stdout",
          "text": [
            "Updated VIFs:\n",
            "                Feature        VIF\n",
            "0                   t90  80.075586\n",
            "1             t90_error   4.576077\n",
            "2             t90_start  49.246588\n",
            "3         fluence_error  12.886483\n",
            "4        flux_1024_time  33.964177\n",
            "..                  ...        ...\n",
            "114  scat_detector_mask   5.991494\n",
            "115            scatalog   9.811166\n",
            "116                 t50   7.098546\n",
            "117           t50_error   4.871274\n",
            "118           t50_start   9.101840\n",
            "\n",
            "[119 rows x 2 columns]\n",
            "\n",
            "Removing feature: flux_batse_256_time with VIF: 154.894342163676\n"
          ]
        },
        {
          "output_type": "stream",
          "name": "stderr",
          "text": [
            "/usr/local/lib/python3.12/dist-packages/statsmodels/regression/linear_model.py:1782: RuntimeWarning: divide by zero encountered in scalar divide\n",
            "  return 1 - self.ssr/self.centered_tss\n"
          ]
        },
        {
          "output_type": "stream",
          "name": "stdout",
          "text": [
            "Updated VIFs:\n",
            "                Feature        VIF\n",
            "0                   t90  77.274400\n",
            "1             t90_error   4.212877\n",
            "2             t90_start  49.108980\n",
            "3         fluence_error  12.738210\n",
            "4        flux_1024_time  33.666605\n",
            "..                  ...        ...\n",
            "113  scat_detector_mask   5.688790\n",
            "114            scatalog   9.753375\n",
            "115                 t50   7.103737\n",
            "116           t50_error   4.630670\n",
            "117           t50_start   9.023759\n",
            "\n",
            "[118 rows x 2 columns]\n",
            "\n",
            "Removing feature: pflx_plaw_index_pos_err with VIF: 308.62345097924305\n"
          ]
        },
        {
          "output_type": "stream",
          "name": "stderr",
          "text": [
            "/usr/local/lib/python3.12/dist-packages/statsmodels/regression/linear_model.py:1782: RuntimeWarning: divide by zero encountered in scalar divide\n",
            "  return 1 - self.ssr/self.centered_tss\n"
          ]
        },
        {
          "output_type": "stream",
          "name": "stdout",
          "text": [
            "Updated VIFs:\n",
            "                Feature        VIF\n",
            "0                   t90  75.886128\n",
            "1             t90_error   4.197842\n",
            "2             t90_start  49.091014\n",
            "3         fluence_error  12.507699\n",
            "4        flux_1024_time  33.342981\n",
            "..                  ...        ...\n",
            "112  scat_detector_mask   5.693414\n",
            "113            scatalog   9.752929\n",
            "114                 t50   7.101223\n",
            "115           t50_error   4.583995\n",
            "116           t50_start   8.948016\n",
            "\n",
            "[117 rows x 2 columns]\n",
            "\n",
            "Removing feature: flnc_band_phtflux with VIF: 146.00077988653945\n"
          ]
        },
        {
          "output_type": "stream",
          "name": "stderr",
          "text": [
            "/usr/local/lib/python3.12/dist-packages/statsmodels/regression/linear_model.py:1782: RuntimeWarning: divide by zero encountered in scalar divide\n",
            "  return 1 - self.ssr/self.centered_tss\n"
          ]
        },
        {
          "output_type": "stream",
          "name": "stdout",
          "text": [
            "Updated VIFs:\n",
            "                Feature        VIF\n",
            "0                   t90  76.421380\n",
            "1             t90_error   4.225913\n",
            "2             t90_start  48.724752\n",
            "3         fluence_error  12.429051\n",
            "4        flux_1024_time  33.049848\n",
            "..                  ...        ...\n",
            "111  scat_detector_mask   5.590769\n",
            "112            scatalog   9.748060\n",
            "113                 t50   7.038860\n",
            "114           t50_error   4.555186\n",
            "115           t50_start   8.970395\n",
            "\n",
            "[116 rows x 2 columns]\n",
            "\n",
            "Removing feature: pflx_plaw_ergflnc_error with VIF: 126.30822324420467\n"
          ]
        },
        {
          "output_type": "stream",
          "name": "stderr",
          "text": [
            "/usr/local/lib/python3.12/dist-packages/statsmodels/regression/linear_model.py:1782: RuntimeWarning: divide by zero encountered in scalar divide\n",
            "  return 1 - self.ssr/self.centered_tss\n"
          ]
        },
        {
          "output_type": "stream",
          "name": "stdout",
          "text": [
            "Updated VIFs:\n",
            "                Feature        VIF\n",
            "0                   t90  76.421369\n",
            "1             t90_error   4.225909\n",
            "2             t90_start  48.724752\n",
            "3         fluence_error  12.429088\n",
            "4        flux_1024_time  33.049862\n",
            "..                  ...        ...\n",
            "110  scat_detector_mask   5.590773\n",
            "111            scatalog   9.748056\n",
            "112                 t50   7.038861\n",
            "113           t50_error   4.555194\n",
            "114           t50_start   8.970378\n",
            "\n",
            "[115 rows x 2 columns]\n",
            "\n",
            "Removing feature: flux_256_error with VIF: 114.57260561547024\n"
          ]
        },
        {
          "output_type": "stream",
          "name": "stderr",
          "text": [
            "/usr/local/lib/python3.12/dist-packages/statsmodels/regression/linear_model.py:1782: RuntimeWarning: divide by zero encountered in scalar divide\n",
            "  return 1 - self.ssr/self.centered_tss\n"
          ]
        },
        {
          "output_type": "stream",
          "name": "stdout",
          "text": [
            "Updated VIFs:\n",
            "                Feature        VIF\n",
            "0                   t90  76.075528\n",
            "1             t90_error   4.038662\n",
            "2             t90_start  47.120409\n",
            "3         fluence_error  12.173792\n",
            "4        flux_1024_time  32.535309\n",
            "..                  ...        ...\n",
            "109  scat_detector_mask   5.457683\n",
            "110            scatalog   9.747641\n",
            "111                 t50   7.020261\n",
            "112           t50_error   4.468486\n",
            "113           t50_start   8.764299\n",
            "\n",
            "[114 rows x 2 columns]\n",
            "\n",
            "Removing feature: pflx_comp_ergflux_error with VIF: 115.77540153586473\n"
          ]
        },
        {
          "output_type": "stream",
          "name": "stderr",
          "text": [
            "/usr/local/lib/python3.12/dist-packages/statsmodels/regression/linear_model.py:1782: RuntimeWarning: divide by zero encountered in scalar divide\n",
            "  return 1 - self.ssr/self.centered_tss\n"
          ]
        },
        {
          "output_type": "stream",
          "name": "stdout",
          "text": [
            "Updated VIFs:\n",
            "                Feature        VIF\n",
            "0                   t90  76.075616\n",
            "1             t90_error   4.038667\n",
            "2             t90_start  47.120392\n",
            "3         fluence_error  12.173845\n",
            "4        flux_1024_time  32.535297\n",
            "..                  ...        ...\n",
            "108  scat_detector_mask   5.457680\n",
            "109            scatalog   9.747626\n",
            "110                 t50   7.020261\n",
            "111           t50_error   4.468480\n",
            "112           t50_start   8.764300\n",
            "\n",
            "[113 rows x 2 columns]\n",
            "\n",
            "Removing feature: pflx_comp_ergflnc_error with VIF: 105.22974608677835\n"
          ]
        },
        {
          "output_type": "stream",
          "name": "stderr",
          "text": [
            "/usr/local/lib/python3.12/dist-packages/statsmodels/regression/linear_model.py:1782: RuntimeWarning: divide by zero encountered in scalar divide\n",
            "  return 1 - self.ssr/self.centered_tss\n"
          ]
        },
        {
          "output_type": "stream",
          "name": "stdout",
          "text": [
            "Updated VIFs:\n",
            "                Feature        VIF\n",
            "0                   t90  76.075602\n",
            "1             t90_error   4.038667\n",
            "2             t90_start  47.120410\n",
            "3         fluence_error  12.173843\n",
            "4        flux_1024_time  32.535317\n",
            "..                  ...        ...\n",
            "107  scat_detector_mask   5.457683\n",
            "108            scatalog   9.747641\n",
            "109                 t50   7.020261\n",
            "110           t50_error   4.468483\n",
            "111           t50_start   8.764304\n",
            "\n",
            "[112 rows x 2 columns]\n",
            "\n",
            "Removing feature: pflx_band_alpha_neg_err with VIF: 97.16414124618935\n"
          ]
        },
        {
          "output_type": "stream",
          "name": "stderr",
          "text": [
            "/usr/local/lib/python3.12/dist-packages/statsmodels/regression/linear_model.py:1782: RuntimeWarning: divide by zero encountered in scalar divide\n",
            "  return 1 - self.ssr/self.centered_tss\n"
          ]
        },
        {
          "output_type": "stream",
          "name": "stdout",
          "text": [
            "Updated VIFs:\n",
            "                Feature        VIF\n",
            "0                   t90  73.526865\n",
            "1             t90_error   4.103784\n",
            "2             t90_start  46.267279\n",
            "3         fluence_error  11.413965\n",
            "4        flux_1024_time  32.309544\n",
            "..                  ...        ...\n",
            "106  scat_detector_mask   5.362624\n",
            "107            scatalog   8.783575\n",
            "108                 t50   7.033821\n",
            "109           t50_error   4.503023\n",
            "110           t50_start   8.259952\n",
            "\n",
            "[111 rows x 2 columns]\n",
            "\n",
            "Removing feature: pflx_sbpl_ergflux_error with VIF: 85.25010789612513\n"
          ]
        },
        {
          "output_type": "stream",
          "name": "stderr",
          "text": [
            "/usr/local/lib/python3.12/dist-packages/statsmodels/regression/linear_model.py:1782: RuntimeWarning: divide by zero encountered in scalar divide\n",
            "  return 1 - self.ssr/self.centered_tss\n"
          ]
        },
        {
          "output_type": "stream",
          "name": "stdout",
          "text": [
            "Updated VIFs:\n",
            "                Feature        VIF\n",
            "0                   t90  73.526884\n",
            "1             t90_error   4.103783\n",
            "2             t90_start  46.267276\n",
            "3         fluence_error  11.413963\n",
            "4        flux_1024_time  32.309543\n",
            "..                  ...        ...\n",
            "105  scat_detector_mask   5.362625\n",
            "106            scatalog   8.783600\n",
            "107                 t50   7.033822\n",
            "108           t50_error   4.503023\n",
            "109           t50_start   8.259967\n",
            "\n",
            "[110 rows x 2 columns]\n",
            "\n",
            "Removing feature: back_interval_high_stop with VIF: 84.0720547091371\n"
          ]
        },
        {
          "output_type": "stream",
          "name": "stderr",
          "text": [
            "/usr/local/lib/python3.12/dist-packages/statsmodels/regression/linear_model.py:1782: RuntimeWarning: divide by zero encountered in scalar divide\n",
            "  return 1 - self.ssr/self.centered_tss\n"
          ]
        },
        {
          "output_type": "stream",
          "name": "stdout",
          "text": [
            "Updated VIFs:\n",
            "                Feature        VIF\n",
            "0                   t90  26.769563\n",
            "1             t90_error   4.074241\n",
            "2             t90_start  35.414473\n",
            "3         fluence_error  11.047313\n",
            "4        flux_1024_time  27.318600\n",
            "..                  ...        ...\n",
            "104  scat_detector_mask   5.249271\n",
            "105            scatalog   8.507611\n",
            "106                 t50   7.017424\n",
            "107           t50_error   4.413481\n",
            "108           t50_start   8.292571\n",
            "\n",
            "[109 rows x 2 columns]\n",
            "\n",
            "Removing feature: pflx_sbpl_ergflnc_error with VIF: 74.76976252420867\n"
          ]
        },
        {
          "output_type": "stream",
          "name": "stderr",
          "text": [
            "/usr/local/lib/python3.12/dist-packages/statsmodels/regression/linear_model.py:1782: RuntimeWarning: divide by zero encountered in scalar divide\n",
            "  return 1 - self.ssr/self.centered_tss\n"
          ]
        },
        {
          "output_type": "stream",
          "name": "stdout",
          "text": [
            "Updated VIFs:\n",
            "                Feature        VIF\n",
            "0                   t90  26.769535\n",
            "1             t90_error   4.074243\n",
            "2             t90_start  35.414477\n",
            "3         fluence_error  11.047331\n",
            "4        flux_1024_time  27.318594\n",
            "..                  ...        ...\n",
            "103  scat_detector_mask   5.249268\n",
            "104            scatalog   8.507606\n",
            "105                 t50   7.017425\n",
            "106           t50_error   4.413481\n",
            "107           t50_start   8.292570\n",
            "\n",
            "[108 rows x 2 columns]\n",
            "\n",
            "Removing feature: pflx_band_ergflux_error with VIF: 70.71146440362955\n"
          ]
        },
        {
          "output_type": "stream",
          "name": "stderr",
          "text": [
            "/usr/local/lib/python3.12/dist-packages/statsmodels/regression/linear_model.py:1782: RuntimeWarning: divide by zero encountered in scalar divide\n",
            "  return 1 - self.ssr/self.centered_tss\n"
          ]
        },
        {
          "output_type": "stream",
          "name": "stdout",
          "text": [
            "Updated VIFs:\n",
            "                Feature        VIF\n",
            "0                   t90  26.769553\n",
            "1             t90_error   4.074244\n",
            "2             t90_start  35.414477\n",
            "3         fluence_error  11.047325\n",
            "4        flux_1024_time  27.318491\n",
            "..                  ...        ...\n",
            "102  scat_detector_mask   5.249271\n",
            "103            scatalog   8.507583\n",
            "104                 t50   7.017423\n",
            "105           t50_error   4.413484\n",
            "106           t50_start   8.292572\n",
            "\n",
            "[107 rows x 2 columns]\n",
            "\n",
            "Removing feature: flnc_comp_phtfluxb_error with VIF: 69.26099374671975\n"
          ]
        },
        {
          "output_type": "stream",
          "name": "stderr",
          "text": [
            "/usr/local/lib/python3.12/dist-packages/statsmodels/regression/linear_model.py:1782: RuntimeWarning: divide by zero encountered in scalar divide\n",
            "  return 1 - self.ssr/self.centered_tss\n"
          ]
        },
        {
          "output_type": "stream",
          "name": "stdout",
          "text": [
            "Updated VIFs:\n",
            "                Feature        VIF\n",
            "0                   t90  26.719418\n",
            "1             t90_error   4.071061\n",
            "2             t90_start  35.413201\n",
            "3         fluence_error  11.389505\n",
            "4        flux_1024_time  27.203035\n",
            "..                  ...        ...\n",
            "101  scat_detector_mask   5.251300\n",
            "102            scatalog   8.532984\n",
            "103                 t50   6.996036\n",
            "104           t50_error   4.494580\n",
            "105           t50_start   8.346828\n",
            "\n",
            "[106 rows x 2 columns]\n",
            "\n",
            "Removing feature: flnc_plaw_ampl_neg_err with VIF: 94.96447105162439\n"
          ]
        },
        {
          "output_type": "stream",
          "name": "stderr",
          "text": [
            "/usr/local/lib/python3.12/dist-packages/statsmodels/regression/linear_model.py:1782: RuntimeWarning: divide by zero encountered in scalar divide\n",
            "  return 1 - self.ssr/self.centered_tss\n"
          ]
        },
        {
          "output_type": "stream",
          "name": "stdout",
          "text": [
            "Updated VIFs:\n",
            "                Feature        VIF\n",
            "0                   t90  26.719414\n",
            "1             t90_error   4.071060\n",
            "2             t90_start  35.413193\n",
            "3         fluence_error  11.389518\n",
            "4        flux_1024_time  27.203046\n",
            "..                  ...        ...\n",
            "100  scat_detector_mask   5.251300\n",
            "101            scatalog   8.532999\n",
            "102                 t50   6.996034\n",
            "103           t50_error   4.494577\n",
            "104           t50_start   8.346840\n",
            "\n",
            "[105 rows x 2 columns]\n",
            "\n",
            "Removing feature: flnc_plaw_ampl_pos_err with VIF: 94.98429355274358\n"
          ]
        },
        {
          "output_type": "stream",
          "name": "stderr",
          "text": [
            "/usr/local/lib/python3.12/dist-packages/statsmodels/regression/linear_model.py:1782: RuntimeWarning: divide by zero encountered in scalar divide\n",
            "  return 1 - self.ssr/self.centered_tss\n"
          ]
        },
        {
          "output_type": "stream",
          "name": "stdout",
          "text": [
            "Updated VIFs:\n",
            "                Feature        VIF\n",
            "0                   t90  26.719432\n",
            "1             t90_error   4.071048\n",
            "2             t90_start  35.413201\n",
            "3         fluence_error  11.389506\n",
            "4        flux_1024_time  27.203050\n",
            "..                  ...        ...\n",
            "99   scat_detector_mask   5.251300\n",
            "100            scatalog   8.532965\n",
            "101                 t50   6.996034\n",
            "102           t50_error   4.494578\n",
            "103           t50_start   8.346834\n",
            "\n",
            "[104 rows x 2 columns]\n",
            "\n",
            "Removing feature: flnc_plaw_phtfluxb_error with VIF: 82.5681338658553\n"
          ]
        },
        {
          "output_type": "stream",
          "name": "stderr",
          "text": [
            "/usr/local/lib/python3.12/dist-packages/statsmodels/regression/linear_model.py:1782: RuntimeWarning: divide by zero encountered in scalar divide\n",
            "  return 1 - self.ssr/self.centered_tss\n"
          ]
        },
        {
          "output_type": "stream",
          "name": "stdout",
          "text": [
            "Updated VIFs:\n",
            "                Feature        VIF\n",
            "0                   t90  26.715610\n",
            "1             t90_error   4.067849\n",
            "2             t90_start  35.411827\n",
            "3         fluence_error  11.209291\n",
            "4        flux_1024_time  27.172470\n",
            "..                  ...        ...\n",
            "98   scat_detector_mask   5.254523\n",
            "99             scatalog   8.472179\n",
            "100                 t50   7.000562\n",
            "101           t50_error   4.466005\n",
            "102           t50_start   8.353690\n",
            "\n",
            "[103 rows x 2 columns]\n",
            "\n",
            "Removing feature: flnc_plaw_phtflncb_error with VIF: 69.18715607791317\n"
          ]
        },
        {
          "output_type": "stream",
          "name": "stderr",
          "text": [
            "/usr/local/lib/python3.12/dist-packages/statsmodels/regression/linear_model.py:1782: RuntimeWarning: divide by zero encountered in scalar divide\n",
            "  return 1 - self.ssr/self.centered_tss\n"
          ]
        },
        {
          "output_type": "stream",
          "name": "stdout",
          "text": [
            "Updated VIFs:\n",
            "                Feature        VIF\n",
            "0                   t90  26.670857\n",
            "1             t90_error   4.083487\n",
            "2             t90_start  35.490318\n",
            "3         fluence_error  10.870337\n",
            "4        flux_1024_time  24.769936\n",
            "..                  ...        ...\n",
            "97   scat_detector_mask   5.252163\n",
            "98             scatalog   8.202651\n",
            "99                  t50   7.009957\n",
            "100           t50_error   4.501303\n",
            "101           t50_start   8.403802\n",
            "\n",
            "[102 rows x 2 columns]\n",
            "\n",
            "Removing feature: flux_64_time with VIF: 64.99096609762947\n"
          ]
        },
        {
          "output_type": "stream",
          "name": "stderr",
          "text": [
            "/usr/local/lib/python3.12/dist-packages/statsmodels/regression/linear_model.py:1782: RuntimeWarning: divide by zero encountered in scalar divide\n",
            "  return 1 - self.ssr/self.centered_tss\n"
          ]
        },
        {
          "output_type": "stream",
          "name": "stdout",
          "text": [
            "Updated VIFs:\n",
            "                Feature        VIF\n",
            "0                   t90  26.385809\n",
            "1             t90_error   3.961946\n",
            "2             t90_start  35.362544\n",
            "3         fluence_error  10.857925\n",
            "4        flux_1024_time  24.074537\n",
            "..                  ...        ...\n",
            "96   scat_detector_mask   5.143914\n",
            "97             scatalog   8.104228\n",
            "98                  t50   6.984505\n",
            "99            t50_error   4.466687\n",
            "100           t50_start   8.338551\n",
            "\n",
            "[101 rows x 2 columns]\n",
            "\n",
            "Removing feature: pflx_band_ergflnc_error with VIF: 62.670665686948055\n"
          ]
        },
        {
          "output_type": "stream",
          "name": "stderr",
          "text": [
            "/usr/local/lib/python3.12/dist-packages/statsmodels/regression/linear_model.py:1782: RuntimeWarning: divide by zero encountered in scalar divide\n",
            "  return 1 - self.ssr/self.centered_tss\n"
          ]
        },
        {
          "output_type": "stream",
          "name": "stdout",
          "text": [
            "Updated VIFs:\n",
            "               Feature        VIF\n",
            "0                  t90  26.385773\n",
            "1            t90_error   3.961946\n",
            "2            t90_start  35.362528\n",
            "3        fluence_error  10.857830\n",
            "4       flux_1024_time  24.074547\n",
            "..                 ...        ...\n",
            "95  scat_detector_mask   5.143908\n",
            "96            scatalog   8.104327\n",
            "97                 t50   6.984500\n",
            "98           t50_error   4.466680\n",
            "99           t50_start   8.338520\n",
            "\n",
            "[100 rows x 2 columns]\n",
            "\n",
            "Removing feature: flnc_plaw_index_neg_err with VIF: 60.250985760593615\n"
          ]
        },
        {
          "output_type": "stream",
          "name": "stderr",
          "text": [
            "/usr/local/lib/python3.12/dist-packages/statsmodels/regression/linear_model.py:1782: RuntimeWarning: divide by zero encountered in scalar divide\n",
            "  return 1 - self.ssr/self.centered_tss\n"
          ]
        },
        {
          "output_type": "stream",
          "name": "stdout",
          "text": [
            "Updated VIFs:\n",
            "               Feature        VIF\n",
            "0                  t90  26.393718\n",
            "1            t90_error   3.960028\n",
            "2            t90_start  35.352124\n",
            "3        fluence_error  10.759041\n",
            "4       flux_1024_time  24.056536\n",
            "..                 ...        ...\n",
            "94  scat_detector_mask   5.145841\n",
            "95            scatalog   8.110849\n",
            "96                 t50   6.981712\n",
            "97           t50_error   4.465877\n",
            "98           t50_start   8.395559\n",
            "\n",
            "[99 rows x 2 columns]\n",
            "\n",
            "Removing feature: flnc_sbpl_phtfluxb_error with VIF: 59.356419388181436\n"
          ]
        },
        {
          "output_type": "stream",
          "name": "stderr",
          "text": [
            "/usr/local/lib/python3.12/dist-packages/statsmodels/regression/linear_model.py:1782: RuntimeWarning: divide by zero encountered in scalar divide\n",
            "  return 1 - self.ssr/self.centered_tss\n"
          ]
        },
        {
          "output_type": "stream",
          "name": "stdout",
          "text": [
            "Updated VIFs:\n",
            "               Feature        VIF\n",
            "0                  t90  26.351192\n",
            "1            t90_error   3.953354\n",
            "2            t90_start  35.352167\n",
            "3        fluence_error  10.869761\n",
            "4       flux_1024_time  24.039113\n",
            "..                 ...        ...\n",
            "93  scat_detector_mask   5.145620\n",
            "94            scatalog   8.087968\n",
            "95                 t50   6.979665\n",
            "96           t50_error   4.469729\n",
            "97           t50_start   8.411686\n",
            "\n",
            "[98 rows x 2 columns]\n",
            "\n",
            "Removing feature: flnc_plaw_index_pos_err with VIF: 55.12257292756253\n"
          ]
        },
        {
          "output_type": "stream",
          "name": "stderr",
          "text": [
            "/usr/local/lib/python3.12/dist-packages/statsmodels/regression/linear_model.py:1782: RuntimeWarning: divide by zero encountered in scalar divide\n",
            "  return 1 - self.ssr/self.centered_tss\n"
          ]
        },
        {
          "output_type": "stream",
          "name": "stdout",
          "text": [
            "Updated VIFs:\n",
            "               Feature        VIF\n",
            "0                  t90  26.355837\n",
            "1            t90_error   3.950576\n",
            "2            t90_start  35.343597\n",
            "3        fluence_error  10.861011\n",
            "4       flux_1024_time  24.026490\n",
            "..                 ...        ...\n",
            "92  scat_detector_mask   5.142548\n",
            "93            scatalog   8.122794\n",
            "94                 t50   6.974929\n",
            "95           t50_error   4.468955\n",
            "96           t50_start   8.370491\n",
            "\n",
            "[97 rows x 2 columns]\n",
            "\n",
            "Removing feature: pflx_comp_ampl with VIF: 54.123396419514826\n"
          ]
        },
        {
          "output_type": "stream",
          "name": "stderr",
          "text": [
            "/usr/local/lib/python3.12/dist-packages/statsmodels/regression/linear_model.py:1782: RuntimeWarning: divide by zero encountered in scalar divide\n",
            "  return 1 - self.ssr/self.centered_tss\n"
          ]
        },
        {
          "output_type": "stream",
          "name": "stdout",
          "text": [
            "Updated VIFs:\n",
            "               Feature        VIF\n",
            "0                  t90  25.987904\n",
            "1            t90_error   3.681680\n",
            "2            t90_start  34.761117\n",
            "3        fluence_error  10.946943\n",
            "4       flux_1024_time  23.922888\n",
            "..                 ...        ...\n",
            "91  scat_detector_mask   5.061910\n",
            "92            scatalog   8.217506\n",
            "93                 t50   6.954730\n",
            "94           t50_error   4.331173\n",
            "95           t50_start   7.536970\n",
            "\n",
            "[96 rows x 2 columns]\n",
            "\n",
            "Removing feature: pflx_spectrum_stop with VIF: 50.143402590364\n"
          ]
        },
        {
          "output_type": "stream",
          "name": "stderr",
          "text": [
            "/usr/local/lib/python3.12/dist-packages/statsmodels/regression/linear_model.py:1782: RuntimeWarning: divide by zero encountered in scalar divide\n",
            "  return 1 - self.ssr/self.centered_tss\n"
          ]
        },
        {
          "output_type": "stream",
          "name": "stdout",
          "text": [
            "Updated VIFs:\n",
            "               Feature        VIF\n",
            "0                  t90  24.258721\n",
            "1            t90_error   3.812538\n",
            "2            t90_start  34.513975\n",
            "3        fluence_error   9.934976\n",
            "4       flux_1024_time  17.248084\n",
            "..                 ...        ...\n",
            "90  scat_detector_mask   5.005643\n",
            "91            scatalog   8.294931\n",
            "92                 t50   6.510226\n",
            "93           t50_error   4.228957\n",
            "94           t50_start   7.526480\n",
            "\n",
            "[95 rows x 2 columns]\n",
            "\n",
            "Removing feature: flnc_sbpl_ergflnc_error with VIF: 46.14812223649956\n"
          ]
        },
        {
          "output_type": "stream",
          "name": "stderr",
          "text": [
            "/usr/local/lib/python3.12/dist-packages/statsmodels/regression/linear_model.py:1782: RuntimeWarning: divide by zero encountered in scalar divide\n",
            "  return 1 - self.ssr/self.centered_tss\n"
          ]
        },
        {
          "output_type": "stream",
          "name": "stdout",
          "text": [
            "Updated VIFs:\n",
            "               Feature        VIF\n",
            "0                  t90  24.258693\n",
            "1            t90_error   3.812538\n",
            "2            t90_start  34.513969\n",
            "3        fluence_error   9.934940\n",
            "4       flux_1024_time  17.248084\n",
            "..                 ...        ...\n",
            "89  scat_detector_mask   5.005642\n",
            "90            scatalog   8.294710\n",
            "91                 t50   6.510226\n",
            "92           t50_error   4.228971\n",
            "93           t50_start   7.526499\n",
            "\n",
            "[94 rows x 2 columns]\n",
            "\n",
            "Removing feature: flnc_band_phtfluxb_error with VIF: 44.81788196262503\n"
          ]
        },
        {
          "output_type": "stream",
          "name": "stderr",
          "text": [
            "/usr/local/lib/python3.12/dist-packages/statsmodels/regression/linear_model.py:1782: RuntimeWarning: divide by zero encountered in scalar divide\n",
            "  return 1 - self.ssr/self.centered_tss\n"
          ]
        },
        {
          "output_type": "stream",
          "name": "stdout",
          "text": [
            "Updated VIFs:\n",
            "               Feature        VIF\n",
            "0                  t90  24.231994\n",
            "1            t90_error   3.806880\n",
            "2            t90_start  34.525753\n",
            "3        fluence_error   9.967109\n",
            "4       flux_1024_time  17.248980\n",
            "..                 ...        ...\n",
            "88  scat_detector_mask   5.007026\n",
            "89            scatalog   8.264644\n",
            "90                 t50   6.505918\n",
            "91           t50_error   4.226706\n",
            "92           t50_start   7.526642\n",
            "\n",
            "[93 rows x 2 columns]\n",
            "\n",
            "Removing feature: flnc_plaw_phtflnc with VIF: 36.20319797382106\n"
          ]
        },
        {
          "output_type": "stream",
          "name": "stderr",
          "text": [
            "/usr/local/lib/python3.12/dist-packages/statsmodels/regression/linear_model.py:1782: RuntimeWarning: divide by zero encountered in scalar divide\n",
            "  return 1 - self.ssr/self.centered_tss\n"
          ]
        },
        {
          "output_type": "stream",
          "name": "stdout",
          "text": [
            "Updated VIFs:\n",
            "               Feature        VIF\n",
            "0                  t90  24.231664\n",
            "1            t90_error   3.792967\n",
            "2            t90_start  34.264847\n",
            "3        fluence_error   8.146901\n",
            "4       flux_1024_time  17.243777\n",
            "..                 ...        ...\n",
            "87  scat_detector_mask   4.989276\n",
            "88            scatalog   8.263188\n",
            "89                 t50   6.407389\n",
            "90           t50_error   4.023322\n",
            "91           t50_start   7.525944\n",
            "\n",
            "[92 rows x 2 columns]\n",
            "\n",
            "Removing feature: flnc_plaw_ergflux_error with VIF: 35.41792258000886\n"
          ]
        },
        {
          "output_type": "stream",
          "name": "stderr",
          "text": [
            "/usr/local/lib/python3.12/dist-packages/statsmodels/regression/linear_model.py:1782: RuntimeWarning: divide by zero encountered in scalar divide\n",
            "  return 1 - self.ssr/self.centered_tss\n"
          ]
        },
        {
          "output_type": "stream",
          "name": "stdout",
          "text": [
            "Updated VIFs:\n",
            "               Feature        VIF\n",
            "0                  t90  24.231665\n",
            "1            t90_error   3.792963\n",
            "2            t90_start  34.264846\n",
            "3        fluence_error   8.146906\n",
            "4       flux_1024_time  17.243777\n",
            "..                 ...        ...\n",
            "86  scat_detector_mask   4.989276\n",
            "87            scatalog   8.263185\n",
            "88                 t50   6.407389\n",
            "89           t50_error   4.023323\n",
            "90           t50_start   7.525944\n",
            "\n",
            "[91 rows x 2 columns]\n",
            "\n",
            "Removing feature: t90_start with VIF: 34.26484640944425\n"
          ]
        },
        {
          "output_type": "stream",
          "name": "stderr",
          "text": [
            "/usr/local/lib/python3.12/dist-packages/statsmodels/regression/linear_model.py:1782: RuntimeWarning: divide by zero encountered in scalar divide\n",
            "  return 1 - self.ssr/self.centered_tss\n"
          ]
        },
        {
          "output_type": "stream",
          "name": "stdout",
          "text": [
            "Updated VIFs:\n",
            "               Feature        VIF\n",
            "0                  t90  23.540554\n",
            "1            t90_error   3.715187\n",
            "2        fluence_error   8.145567\n",
            "3       flux_1024_time  16.505197\n",
            "4        flux_64_error  16.803770\n",
            "..                 ...        ...\n",
            "85  scat_detector_mask   4.960219\n",
            "86            scatalog   8.185124\n",
            "87                 t50   5.971053\n",
            "88           t50_error   3.985694\n",
            "89           t50_start   7.523700\n",
            "\n",
            "[90 rows x 2 columns]\n",
            "\n",
            "Removing feature: pflx_comp_ampl_neg_err with VIF: 376.3699697205342\n"
          ]
        },
        {
          "output_type": "stream",
          "name": "stderr",
          "text": [
            "/usr/local/lib/python3.12/dist-packages/statsmodels/regression/linear_model.py:1782: RuntimeWarning: divide by zero encountered in scalar divide\n",
            "  return 1 - self.ssr/self.centered_tss\n"
          ]
        },
        {
          "output_type": "stream",
          "name": "stdout",
          "text": [
            "Updated VIFs:\n",
            "               Feature        VIF\n",
            "0                  t90  23.451820\n",
            "1            t90_error   3.637347\n",
            "2        fluence_error   8.132218\n",
            "3       flux_1024_time  16.507350\n",
            "4        flux_64_error  16.756847\n",
            "..                 ...        ...\n",
            "84  scat_detector_mask   4.959721\n",
            "85            scatalog   8.212642\n",
            "86                 t50   5.967542\n",
            "87           t50_error   4.001299\n",
            "88           t50_start   7.524928\n",
            "\n",
            "[89 rows x 2 columns]\n",
            "\n",
            "Removing feature: flnc_spectrum_stop with VIF: 28.20776045567984\n"
          ]
        },
        {
          "output_type": "stream",
          "name": "stderr",
          "text": [
            "/usr/local/lib/python3.12/dist-packages/statsmodels/regression/linear_model.py:1782: RuntimeWarning: divide by zero encountered in scalar divide\n",
            "  return 1 - self.ssr/self.centered_tss\n"
          ]
        },
        {
          "output_type": "stream",
          "name": "stdout",
          "text": [
            "Updated VIFs:\n",
            "               Feature        VIF\n",
            "0                  t90  11.902305\n",
            "1            t90_error   3.439338\n",
            "2        fluence_error   6.953606\n",
            "3       flux_1024_time  14.575371\n",
            "4        flux_64_error  16.668639\n",
            "..                 ...        ...\n",
            "83  scat_detector_mask   4.813952\n",
            "84            scatalog   8.193493\n",
            "85                 t50   5.857592\n",
            "86           t50_error   3.922044\n",
            "87           t50_start   7.287648\n",
            "\n",
            "[88 rows x 2 columns]\n",
            "\n",
            "Removing feature: flnc_comp_phtflux_error with VIF: 26.911377249965355\n"
          ]
        },
        {
          "output_type": "stream",
          "name": "stderr",
          "text": [
            "/usr/local/lib/python3.12/dist-packages/statsmodels/regression/linear_model.py:1782: RuntimeWarning: divide by zero encountered in scalar divide\n",
            "  return 1 - self.ssr/self.centered_tss\n"
          ]
        },
        {
          "output_type": "stream",
          "name": "stdout",
          "text": [
            "Updated VIFs:\n",
            "               Feature        VIF\n",
            "0                  t90  11.978765\n",
            "1            t90_error   3.461596\n",
            "2        fluence_error   6.875849\n",
            "3       flux_1024_time  14.594785\n",
            "4        flux_64_error  16.784837\n",
            "..                 ...        ...\n",
            "82  scat_detector_mask   4.832996\n",
            "83            scatalog   7.368409\n",
            "84                 t50   5.842380\n",
            "85           t50_error   3.908201\n",
            "86           t50_start   7.329051\n",
            "\n",
            "[87 rows x 2 columns]\n",
            "\n",
            "Removing feature: flnc_plaw_index with VIF: 25.811177704159\n"
          ]
        },
        {
          "output_type": "stream",
          "name": "stderr",
          "text": [
            "/usr/local/lib/python3.12/dist-packages/statsmodels/regression/linear_model.py:1782: RuntimeWarning: divide by zero encountered in scalar divide\n",
            "  return 1 - self.ssr/self.centered_tss\n"
          ]
        },
        {
          "output_type": "stream",
          "name": "stdout",
          "text": [
            "Updated VIFs:\n",
            "               Feature        VIF\n",
            "0                  t90  11.928530\n",
            "1            t90_error   3.253877\n",
            "2        fluence_error   6.819237\n",
            "3       flux_1024_time  14.339127\n",
            "4        flux_64_error  16.597995\n",
            "..                 ...        ...\n",
            "81  scat_detector_mask   4.790663\n",
            "82            scatalog   6.889912\n",
            "83                 t50   5.820259\n",
            "84           t50_error   3.811537\n",
            "85           t50_start   7.209948\n",
            "\n",
            "[86 rows x 2 columns]\n",
            "\n",
            "Removing feature: pflx_plaw_redchisq with VIF: 22.10994346306254\n"
          ]
        },
        {
          "output_type": "stream",
          "name": "stderr",
          "text": [
            "/usr/local/lib/python3.12/dist-packages/statsmodels/regression/linear_model.py:1782: RuntimeWarning: divide by zero encountered in scalar divide\n",
            "  return 1 - self.ssr/self.centered_tss\n"
          ]
        },
        {
          "output_type": "stream",
          "name": "stdout",
          "text": [
            "Updated VIFs:\n",
            "               Feature        VIF\n",
            "0                  t90  11.924283\n",
            "1            t90_error   3.190705\n",
            "2        fluence_error   6.439156\n",
            "3       flux_1024_time  14.085967\n",
            "4        flux_64_error  11.296628\n",
            "..                 ...        ...\n",
            "80  scat_detector_mask   4.786921\n",
            "81            scatalog   6.835246\n",
            "82                 t50   5.773138\n",
            "83           t50_error   3.791273\n",
            "84           t50_start   7.209312\n",
            "\n",
            "[85 rows x 2 columns]\n",
            "\n",
            "Removing feature: flnc_band_alpha with VIF: 21.074067650010516\n"
          ]
        },
        {
          "output_type": "stream",
          "name": "stderr",
          "text": [
            "/usr/local/lib/python3.12/dist-packages/statsmodels/regression/linear_model.py:1782: RuntimeWarning: divide by zero encountered in scalar divide\n",
            "  return 1 - self.ssr/self.centered_tss\n"
          ]
        },
        {
          "output_type": "stream",
          "name": "stdout",
          "text": [
            "Updated VIFs:\n",
            "               Feature        VIF\n",
            "0                  t90  11.855732\n",
            "1            t90_error   3.118503\n",
            "2        fluence_error   6.423865\n",
            "3       flux_1024_time  13.999677\n",
            "4        flux_64_error  10.792233\n",
            "..                 ...        ...\n",
            "79  scat_detector_mask   4.701546\n",
            "80            scatalog   6.782679\n",
            "81                 t50   5.742412\n",
            "82           t50_error   3.701618\n",
            "83           t50_start   7.028643\n",
            "\n",
            "[84 rows x 2 columns]\n",
            "\n",
            "Removing feature: flnc_band_ergflnc_error with VIF: 19.833488028801114\n"
          ]
        },
        {
          "output_type": "stream",
          "name": "stderr",
          "text": [
            "/usr/local/lib/python3.12/dist-packages/statsmodels/regression/linear_model.py:1782: RuntimeWarning: divide by zero encountered in scalar divide\n",
            "  return 1 - self.ssr/self.centered_tss\n"
          ]
        },
        {
          "output_type": "stream",
          "name": "stdout",
          "text": [
            "Updated VIFs:\n",
            "               Feature        VIF\n",
            "0                  t90  11.855716\n",
            "1            t90_error   3.118507\n",
            "2        fluence_error   6.423821\n",
            "3       flux_1024_time  13.999678\n",
            "4        flux_64_error  10.792249\n",
            "..                 ...        ...\n",
            "78  scat_detector_mask   4.701546\n",
            "79            scatalog   6.783141\n",
            "80                 t50   5.742432\n",
            "81           t50_error   3.701616\n",
            "82           t50_start   7.028637\n",
            "\n",
            "[83 rows x 2 columns]\n",
            "\n",
            "Removing feature: flux_batse_1024_time with VIF: 18.260511214865517\n"
          ]
        },
        {
          "output_type": "stream",
          "name": "stderr",
          "text": [
            "/usr/local/lib/python3.12/dist-packages/statsmodels/regression/linear_model.py:1782: RuntimeWarning: divide by zero encountered in scalar divide\n",
            "  return 1 - self.ssr/self.centered_tss\n"
          ]
        },
        {
          "output_type": "stream",
          "name": "stdout",
          "text": [
            "Updated VIFs:\n",
            "               Feature        VIF\n",
            "0                  t90  11.849069\n",
            "1            t90_error   3.122464\n",
            "2        fluence_error   6.344212\n",
            "3       flux_1024_time   9.788406\n",
            "4        flux_64_error  10.794039\n",
            "..                 ...        ...\n",
            "77  scat_detector_mask   4.699878\n",
            "78            scatalog   6.709152\n",
            "79                 t50   5.728569\n",
            "80           t50_error   3.662067\n",
            "81           t50_start   6.947097\n",
            "\n",
            "[82 rows x 2 columns]\n",
            "\n",
            "Removing feature: pflx_sbpl_ampl_neg_err with VIF: 17.164328781455772\n"
          ]
        },
        {
          "output_type": "stream",
          "name": "stderr",
          "text": [
            "/usr/local/lib/python3.12/dist-packages/statsmodels/regression/linear_model.py:1782: RuntimeWarning: divide by zero encountered in scalar divide\n",
            "  return 1 - self.ssr/self.centered_tss\n"
          ]
        },
        {
          "output_type": "stream",
          "name": "stdout",
          "text": [
            "Updated VIFs:\n",
            "               Feature        VIF\n",
            "0                  t90  11.849071\n",
            "1            t90_error   3.122480\n",
            "2        fluence_error   6.344051\n",
            "3       flux_1024_time   9.788377\n",
            "4        flux_64_error  10.793470\n",
            "..                 ...        ...\n",
            "76  scat_detector_mask   4.699922\n",
            "77            scatalog   6.709029\n",
            "78                 t50   5.728667\n",
            "79           t50_error   3.662083\n",
            "80           t50_start   6.947029\n",
            "\n",
            "[81 rows x 2 columns]\n",
            "\n",
            "Removing feature: pflx_sbpl_ampl_pos_err with VIF: 17.174830340716056\n"
          ]
        },
        {
          "output_type": "stream",
          "name": "stderr",
          "text": [
            "/usr/local/lib/python3.12/dist-packages/statsmodels/regression/linear_model.py:1782: RuntimeWarning: divide by zero encountered in scalar divide\n",
            "  return 1 - self.ssr/self.centered_tss\n"
          ]
        },
        {
          "output_type": "stream",
          "name": "stdout",
          "text": [
            "Updated VIFs:\n",
            "               Feature        VIF\n",
            "0                  t90  11.845762\n",
            "1            t90_error   3.122756\n",
            "2        fluence_error   6.344469\n",
            "3       flux_1024_time   9.788387\n",
            "4        flux_64_error  10.793928\n",
            "..                 ...        ...\n",
            "75  scat_detector_mask   4.681643\n",
            "76            scatalog   6.709332\n",
            "77                 t50   5.729212\n",
            "78           t50_error   3.662061\n",
            "79           t50_start   6.947107\n",
            "\n",
            "[80 rows x 2 columns]\n",
            "\n",
            "Removing feature: flnc_comp_ergflnc_error with VIF: 16.49193994881841\n"
          ]
        },
        {
          "output_type": "stream",
          "name": "stderr",
          "text": [
            "/usr/local/lib/python3.12/dist-packages/statsmodels/regression/linear_model.py:1782: RuntimeWarning: divide by zero encountered in scalar divide\n",
            "  return 1 - self.ssr/self.centered_tss\n"
          ]
        },
        {
          "output_type": "stream",
          "name": "stdout",
          "text": [
            "Updated VIFs:\n",
            "               Feature        VIF\n",
            "0                  t90  11.845782\n",
            "1            t90_error   3.122747\n",
            "2        fluence_error   6.344428\n",
            "3       flux_1024_time   9.788387\n",
            "4        flux_64_error  10.793880\n",
            "..                 ...        ...\n",
            "74  scat_detector_mask   4.681648\n",
            "75            scatalog   6.709074\n",
            "76                 t50   5.729321\n",
            "77           t50_error   3.662079\n",
            "78           t50_start   6.947067\n",
            "\n",
            "[79 rows x 2 columns]\n",
            "\n",
            "Removing feature: pflx_comp_redchisq with VIF: 15.37292426698798\n"
          ]
        },
        {
          "output_type": "stream",
          "name": "stderr",
          "text": [
            "/usr/local/lib/python3.12/dist-packages/statsmodels/regression/linear_model.py:1782: RuntimeWarning: divide by zero encountered in scalar divide\n",
            "  return 1 - self.ssr/self.centered_tss\n"
          ]
        },
        {
          "output_type": "stream",
          "name": "stdout",
          "text": [
            "Updated VIFs:\n",
            "               Feature        VIF\n",
            "0                  t90   7.639568\n",
            "1            t90_error   3.133705\n",
            "2        fluence_error   5.962849\n",
            "3       flux_1024_time   9.556202\n",
            "4        flux_64_error  10.740239\n",
            "..                 ...        ...\n",
            "73  scat_detector_mask   4.324257\n",
            "74            scatalog   6.846819\n",
            "75                 t50   4.415780\n",
            "76           t50_error   3.291388\n",
            "77           t50_start   6.675607\n",
            "\n",
            "[78 rows x 2 columns]\n",
            "\n",
            "Removing feature: back_interval_low_stop with VIF: 14.493522823735244\n"
          ]
        },
        {
          "output_type": "stream",
          "name": "stderr",
          "text": [
            "/usr/local/lib/python3.12/dist-packages/statsmodels/regression/linear_model.py:1782: RuntimeWarning: divide by zero encountered in scalar divide\n",
            "  return 1 - self.ssr/self.centered_tss\n"
          ]
        },
        {
          "output_type": "stream",
          "name": "stdout",
          "text": [
            "Updated VIFs:\n",
            "               Feature        VIF\n",
            "0                  t90   6.058529\n",
            "1            t90_error   3.103661\n",
            "2        fluence_error   5.393679\n",
            "3       flux_1024_time   9.314181\n",
            "4        flux_64_error  10.724285\n",
            "..                 ...        ...\n",
            "72  scat_detector_mask   4.148685\n",
            "73            scatalog   6.730699\n",
            "74                 t50   4.033504\n",
            "75           t50_error   3.200524\n",
            "76           t50_start   5.993854\n",
            "\n",
            "[77 rows x 2 columns]\n",
            "\n",
            "Removing feature: pflx_band_epeak with VIF: 14.350900836451203\n"
          ]
        },
        {
          "output_type": "stream",
          "name": "stderr",
          "text": [
            "/usr/local/lib/python3.12/dist-packages/statsmodels/regression/linear_model.py:1782: RuntimeWarning: divide by zero encountered in scalar divide\n",
            "  return 1 - self.ssr/self.centered_tss\n"
          ]
        },
        {
          "output_type": "stream",
          "name": "stdout",
          "text": [
            "Updated VIFs:\n",
            "               Feature        VIF\n",
            "0                  t90   6.026102\n",
            "1            t90_error   3.065583\n",
            "2        fluence_error   5.392837\n",
            "3       flux_1024_time   9.278814\n",
            "4        flux_64_error  10.630763\n",
            "..                 ...        ...\n",
            "71  scat_detector_mask   4.087828\n",
            "72            scatalog   6.615645\n",
            "73                 t50   3.930860\n",
            "74           t50_error   2.944871\n",
            "75           t50_start   5.938316\n",
            "\n",
            "[76 rows x 2 columns]\n",
            "\n",
            "Removing feature: flux_batse_1024_error with VIF: 12.839555292400387\n"
          ]
        },
        {
          "output_type": "stream",
          "name": "stderr",
          "text": [
            "/usr/local/lib/python3.12/dist-packages/statsmodels/regression/linear_model.py:1782: RuntimeWarning: divide by zero encountered in scalar divide\n",
            "  return 1 - self.ssr/self.centered_tss\n"
          ]
        },
        {
          "output_type": "stream",
          "name": "stdout",
          "text": [
            "Updated VIFs:\n",
            "               Feature       VIF\n",
            "0                  t90  6.024909\n",
            "1            t90_error  3.062919\n",
            "2        fluence_error  5.028957\n",
            "3       flux_1024_time  9.278550\n",
            "4        flux_64_error  6.043183\n",
            "..                 ...       ...\n",
            "70  scat_detector_mask  4.083014\n",
            "71            scatalog  6.539267\n",
            "72                 t50  3.894920\n",
            "73           t50_error  2.910825\n",
            "74           t50_start  5.930693\n",
            "\n",
            "[75 rows x 2 columns]\n",
            "\n",
            "Removing feature: flux_256_time with VIF: 12.542069025515316\n"
          ]
        },
        {
          "output_type": "stream",
          "name": "stderr",
          "text": [
            "/usr/local/lib/python3.12/dist-packages/statsmodels/regression/linear_model.py:1782: RuntimeWarning: divide by zero encountered in scalar divide\n",
            "  return 1 - self.ssr/self.centered_tss\n"
          ]
        },
        {
          "output_type": "stream",
          "name": "stdout",
          "text": [
            "Updated VIFs:\n",
            "               Feature       VIF\n",
            "0                  t90  6.017808\n",
            "1            t90_error  3.030262\n",
            "2        fluence_error  4.899275\n",
            "3       flux_1024_time  5.803302\n",
            "4        flux_64_error  5.889679\n",
            "..                 ...       ...\n",
            "69  scat_detector_mask  3.954322\n",
            "70            scatalog  6.527391\n",
            "71                 t50  3.884772\n",
            "72           t50_error  2.853788\n",
            "73           t50_start  5.931374\n",
            "\n",
            "[74 rows x 2 columns]\n",
            "\n",
            "Removing feature: pflx_sbpl_indx2_pos_err with VIF: 12.320556294805522\n"
          ]
        },
        {
          "output_type": "stream",
          "name": "stderr",
          "text": [
            "/usr/local/lib/python3.12/dist-packages/statsmodels/regression/linear_model.py:1782: RuntimeWarning: divide by zero encountered in scalar divide\n",
            "  return 1 - self.ssr/self.centered_tss\n"
          ]
        },
        {
          "output_type": "stream",
          "name": "stdout",
          "text": [
            "Updated VIFs:\n",
            "               Feature       VIF\n",
            "0                  t90  5.952832\n",
            "1            t90_error  2.881435\n",
            "2        fluence_error  4.964586\n",
            "3       flux_1024_time  5.788353\n",
            "4        flux_64_error  5.653366\n",
            "..                 ...       ...\n",
            "68  scat_detector_mask  3.942084\n",
            "69            scatalog  6.073164\n",
            "70                 t50  3.885080\n",
            "71           t50_error  2.901515\n",
            "72           t50_start  5.923657\n",
            "\n",
            "[73 rows x 2 columns]\n",
            "\n",
            "Removing feature: pflx_comp_index_pos_err with VIF: 9.810697672085745\n"
          ]
        },
        {
          "output_type": "stream",
          "name": "stderr",
          "text": [
            "/usr/local/lib/python3.12/dist-packages/statsmodels/regression/linear_model.py:1782: RuntimeWarning: divide by zero encountered in scalar divide\n",
            "  return 1 - self.ssr/self.centered_tss\n"
          ]
        },
        {
          "output_type": "stream",
          "name": "stdout",
          "text": [
            "Updated VIFs:\n",
            "               Feature       VIF\n",
            "0                  t90  5.891202\n",
            "1            t90_error  2.891437\n",
            "2        fluence_error  4.968623\n",
            "3       flux_1024_time  5.773453\n",
            "4        flux_64_error  5.620116\n",
            "..                 ...       ...\n",
            "67  scat_detector_mask  3.925413\n",
            "68            scatalog  5.950149\n",
            "69                 t50  3.753035\n",
            "70           t50_error  2.809701\n",
            "71           t50_start  5.799271\n",
            "\n",
            "[72 rows x 2 columns]\n",
            "\n",
            "Removing feature: flnc_sbpl_ampl_pos_err with VIF: 9.176252301616493\n"
          ]
        },
        {
          "output_type": "stream",
          "name": "stderr",
          "text": [
            "/usr/local/lib/python3.12/dist-packages/statsmodels/regression/linear_model.py:1782: RuntimeWarning: divide by zero encountered in scalar divide\n",
            "  return 1 - self.ssr/self.centered_tss\n"
          ]
        },
        {
          "output_type": "stream",
          "name": "stdout",
          "text": [
            "Updated VIFs:\n",
            "               Feature       VIF\n",
            "0                  t90  5.891207\n",
            "1            t90_error  2.891436\n",
            "2        fluence_error  4.968618\n",
            "3       flux_1024_time  5.773451\n",
            "4        flux_64_error  5.620113\n",
            "..                 ...       ...\n",
            "66  scat_detector_mask  3.925522\n",
            "67            scatalog  5.950152\n",
            "68                 t50  3.752954\n",
            "69           t50_error  2.809696\n",
            "70           t50_start  5.799271\n",
            "\n",
            "[71 rows x 2 columns]\n",
            "\n",
            "Removing feature: flnc_sbpl_ampl_neg_err with VIF: 9.176004293700668\n"
          ]
        },
        {
          "output_type": "stream",
          "name": "stderr",
          "text": [
            "/usr/local/lib/python3.12/dist-packages/statsmodels/regression/linear_model.py:1782: RuntimeWarning: divide by zero encountered in scalar divide\n",
            "  return 1 - self.ssr/self.centered_tss\n"
          ]
        },
        {
          "output_type": "stream",
          "name": "stdout",
          "text": [
            "Updated VIFs:\n",
            "               Feature       VIF\n",
            "0                  t90  5.891196\n",
            "1            t90_error  2.891430\n",
            "2        fluence_error  4.968628\n",
            "3       flux_1024_time  5.773452\n",
            "4        flux_64_error  5.620110\n",
            "..                 ...       ...\n",
            "65  scat_detector_mask  3.925521\n",
            "66            scatalog  5.950106\n",
            "67                 t50  3.753160\n",
            "68           t50_error  2.809688\n",
            "69           t50_start  5.799192\n",
            "\n",
            "[70 rows x 2 columns]\n",
            "\n",
            "Removing feature: flnc_comp_index with VIF: 8.870627193234727\n"
          ]
        },
        {
          "output_type": "stream",
          "name": "stderr",
          "text": [
            "/usr/local/lib/python3.12/dist-packages/statsmodels/regression/linear_model.py:1782: RuntimeWarning: divide by zero encountered in scalar divide\n",
            "  return 1 - self.ssr/self.centered_tss\n"
          ]
        },
        {
          "output_type": "stream",
          "name": "stdout",
          "text": [
            "Updated VIFs:\n",
            "               Feature       VIF\n",
            "0                  t90  5.890840\n",
            "1            t90_error  2.717586\n",
            "2        fluence_error  4.932299\n",
            "3       flux_1024_time  5.766509\n",
            "4        flux_64_error  5.496078\n",
            "..                 ...       ...\n",
            "64  scat_detector_mask  3.926865\n",
            "65            scatalog  5.905691\n",
            "66                 t50  3.739910\n",
            "67           t50_error  2.716012\n",
            "68           t50_start  5.787345\n",
            "\n",
            "[69 rows x 2 columns]\n",
            "\n",
            "Removing feature: flnc_sbpl_ergflux_error with VIF: 7.353871756424053\n"
          ]
        },
        {
          "output_type": "stream",
          "name": "stderr",
          "text": [
            "/usr/local/lib/python3.12/dist-packages/statsmodels/regression/linear_model.py:1782: RuntimeWarning: divide by zero encountered in scalar divide\n",
            "  return 1 - self.ssr/self.centered_tss\n"
          ]
        },
        {
          "output_type": "stream",
          "name": "stdout",
          "text": [
            "Updated VIFs:\n",
            "               Feature       VIF\n",
            "0                  t90  5.890868\n",
            "1            t90_error  2.717592\n",
            "2        fluence_error  4.932304\n",
            "3       flux_1024_time  5.766507\n",
            "4        flux_64_error  5.496079\n",
            "..                 ...       ...\n",
            "63  scat_detector_mask  3.926855\n",
            "64            scatalog  5.880546\n",
            "65                 t50  3.739955\n",
            "66           t50_error  2.715991\n",
            "67           t50_start  5.787354\n",
            "\n",
            "[68 rows x 2 columns]\n",
            "\n",
            "Removing feature: flnc_sbpl_indx2 with VIF: 7.195088210568151\n"
          ]
        },
        {
          "output_type": "stream",
          "name": "stderr",
          "text": [
            "/usr/local/lib/python3.12/dist-packages/statsmodels/regression/linear_model.py:1782: RuntimeWarning: divide by zero encountered in scalar divide\n",
            "  return 1 - self.ssr/self.centered_tss\n"
          ]
        },
        {
          "output_type": "stream",
          "name": "stdout",
          "text": [
            "Updated VIFs:\n",
            "               Feature       VIF\n",
            "0                  t90  5.889059\n",
            "1            t90_error  2.710660\n",
            "2        fluence_error  4.797734\n",
            "3       flux_1024_time  5.755541\n",
            "4        flux_64_error  5.498852\n",
            "..                 ...       ...\n",
            "62  scat_detector_mask  3.895198\n",
            "63            scatalog  5.880448\n",
            "64                 t50  3.734918\n",
            "65           t50_error  2.777727\n",
            "66           t50_start  5.785665\n",
            "\n",
            "[67 rows x 2 columns]\n",
            "\n",
            "Removing feature: flux_batse_64_time with VIF: 6.681570145258359\n"
          ]
        },
        {
          "output_type": "stream",
          "name": "stderr",
          "text": [
            "/usr/local/lib/python3.12/dist-packages/statsmodels/regression/linear_model.py:1782: RuntimeWarning: divide by zero encountered in scalar divide\n",
            "  return 1 - self.ssr/self.centered_tss\n"
          ]
        },
        {
          "output_type": "stream",
          "name": "stdout",
          "text": [
            "Updated VIFs:\n",
            "               Feature       VIF\n",
            "0                  t90  5.884655\n",
            "1            t90_error  2.691337\n",
            "2        fluence_error  4.800170\n",
            "3       flux_1024_time  2.704250\n",
            "4        flux_64_error  5.405188\n",
            "..                 ...       ...\n",
            "61  scat_detector_mask  3.895148\n",
            "62            scatalog  5.833753\n",
            "63                 t50  3.729007\n",
            "64           t50_error  2.605424\n",
            "65           t50_start  5.082647\n",
            "\n",
            "[66 rows x 2 columns]\n",
            "\n",
            "Removing feature: pflx_sbpl_phtflnc_error with VIF: 6.489895731153195\n"
          ]
        },
        {
          "output_type": "stream",
          "name": "stderr",
          "text": [
            "/usr/local/lib/python3.12/dist-packages/statsmodels/regression/linear_model.py:1782: RuntimeWarning: divide by zero encountered in scalar divide\n",
            "  return 1 - self.ssr/self.centered_tss\n"
          ]
        },
        {
          "output_type": "stream",
          "name": "stdout",
          "text": [
            "Updated VIFs:\n",
            "               Feature       VIF\n",
            "0                  t90  5.891009\n",
            "1            t90_error  2.624482\n",
            "2        fluence_error  4.737267\n",
            "3       flux_1024_time  2.705677\n",
            "4        flux_64_error  4.738214\n",
            "..                 ...       ...\n",
            "60  scat_detector_mask  3.887833\n",
            "61            scatalog  3.076870\n",
            "62                 t50  3.704694\n",
            "63           t50_error  2.601326\n",
            "64           t50_start  5.024408\n",
            "\n",
            "[65 rows x 2 columns]\n",
            "\n",
            "Removing feature: pflx_comp_index with VIF: 6.265591530359553\n"
          ]
        },
        {
          "output_type": "stream",
          "name": "stderr",
          "text": [
            "/usr/local/lib/python3.12/dist-packages/statsmodels/regression/linear_model.py:1782: RuntimeWarning: divide by zero encountered in scalar divide\n",
            "  return 1 - self.ssr/self.centered_tss\n"
          ]
        },
        {
          "output_type": "stream",
          "name": "stdout",
          "text": [
            "Updated VIFs:\n",
            "               Feature       VIF\n",
            "0                  t90  5.885253\n",
            "1            t90_error  2.505890\n",
            "2        fluence_error  4.807108\n",
            "3       flux_1024_time  2.704584\n",
            "4        flux_64_error  4.711180\n",
            "..                 ...       ...\n",
            "59  scat_detector_mask  3.879344\n",
            "60            scatalog  3.071147\n",
            "61                 t50  3.703580\n",
            "62           t50_error  2.540005\n",
            "63           t50_start  5.025155\n",
            "\n",
            "[64 rows x 2 columns]\n",
            "\n",
            "Removing feature: t90 with VIF: 5.88525318683014\n"
          ]
        },
        {
          "output_type": "stream",
          "name": "stderr",
          "text": [
            "/usr/local/lib/python3.12/dist-packages/statsmodels/regression/linear_model.py:1782: RuntimeWarning: divide by zero encountered in scalar divide\n",
            "  return 1 - self.ssr/self.centered_tss\n"
          ]
        },
        {
          "output_type": "stream",
          "name": "stdout",
          "text": [
            "Updated VIFs:\n",
            "                   Feature       VIF\n",
            "0                t90_error  2.597334\n",
            "1            fluence_error  3.817485\n",
            "2           flux_1024_time  2.703399\n",
            "3            flux_64_error  4.678713\n",
            "4   flnc_band_ampl_neg_err  1.372135\n",
            "..                     ...       ...\n",
            "58      scat_detector_mask  3.862460\n",
            "59                scatalog  3.012024\n",
            "60                     t50  2.758967\n",
            "61               t50_error  2.521474\n",
            "62               t50_start  2.993260\n",
            "\n",
            "[63 rows x 2 columns]\n",
            "\n",
            "Removing feature: flnc_comp_ergflux_error with VIF: 5.391652594299454\n"
          ]
        },
        {
          "output_type": "stream",
          "name": "stderr",
          "text": [
            "/usr/local/lib/python3.12/dist-packages/statsmodels/regression/linear_model.py:1782: RuntimeWarning: divide by zero encountered in scalar divide\n",
            "  return 1 - self.ssr/self.centered_tss\n"
          ]
        },
        {
          "output_type": "stream",
          "name": "stdout",
          "text": [
            "Updated VIFs:\n",
            "                   Feature       VIF\n",
            "0                t90_error  2.597423\n",
            "1            fluence_error  3.817458\n",
            "2           flux_1024_time  2.703416\n",
            "3            flux_64_error  4.678714\n",
            "4   flnc_band_ampl_neg_err  1.372134\n",
            "..                     ...       ...\n",
            "57      scat_detector_mask  3.862460\n",
            "58                scatalog  3.012030\n",
            "59                     t50  2.758963\n",
            "60               t50_error  2.521477\n",
            "61               t50_start  2.993256\n",
            "\n",
            "[62 rows x 2 columns]\n",
            "\n",
            "Final set of features after removing high VIFs:\n",
            "     t90_error  fluence_error  flux_1024_time  flux_64_error  \\\n",
            "0        1.460   1.060000e-07           1.024         0.7637   \n",
            "1        3.638   4.900000e-08          23.680         1.1851   \n",
            "2        6.802   3.630000e-08           0.896         1.1021   \n",
            "3        7.281   8.670000e-08          16.448         0.8835   \n",
            "4        0.810   7.000000e-08           2.368         1.6469   \n",
            "..         ...            ...             ...            ...   \n",
            "119      1.448   9.850000e-08           3.712         1.3108   \n",
            "120      0.572   3.580000e-08          15.040         1.7276   \n",
            "121      1.332   9.340000e-08           1.216         2.9152   \n",
            "122      1.557   4.290000e-08           3.712         1.0285   \n",
            "123      0.362   9.030000e-08          15.872         2.6555   \n",
            "\n",
            "     flnc_band_ampl_neg_err  flnc_band_epeak  flnc_band_epeak_neg_err  \\\n",
            "0                  0.001496        221.20210                22.955900   \n",
            "1                  0.000237        589.49790                85.836300   \n",
            "2                  0.001550        182.58050                51.536270   \n",
            "3                  0.005370        101.59230                 6.921906   \n",
            "4                  0.000261        667.66530                41.687500   \n",
            "..                      ...              ...                      ...   \n",
            "119                0.070197         35.19973                17.020470   \n",
            "120                0.009386        102.95790                 4.485496   \n",
            "121                0.001819        175.63010                49.787930   \n",
            "122                0.000725        350.78980                32.248080   \n",
            "123                0.000142        479.18750                 6.942112   \n",
            "\n",
            "     flnc_band_alpha_pos_err  flnc_band_beta  flnc_band_beta_pos_err  ...  \\\n",
            "0                   0.079853       -1.904774                0.085325  ...   \n",
            "1                   0.044530       -5.981619               98.142690  ...   \n",
            "2                   0.173621       -2.316035               16.447250  ...   \n",
            "3                   0.168815      -10.771750             9381.606000  ...   \n",
            "4                   0.014494       -2.152307                0.076486  ...   \n",
            "..                       ...             ...                     ...  ...   \n",
            "119                 0.770546       -2.130016                0.168102  ...   \n",
            "120                 0.077253       -3.355582                1.473141  ...   \n",
            "121                 0.115613       -1.660401                0.034742  ...   \n",
            "122                 0.041221       -1.966854                0.103180  ...   \n",
            "123                 0.004845       -2.000100                0.369481  ...   \n",
            "\n",
            "     pflx_sbpl_brken_pos_err  pflx_sbpl_brksc  pflx_sbpl_indx1  \\\n",
            "0                   66.65121              0.3        -0.622513   \n",
            "1                  104.24430              0.3        -1.147176   \n",
            "2                10311.89000              0.3        -1.032479   \n",
            "3                  737.20370              0.3        -0.663880   \n",
            "4                   48.19643              0.3        -0.847587   \n",
            "..                       ...              ...              ...   \n",
            "119                 18.00777              0.3         7.527460   \n",
            "120                 10.18703              0.3         0.065646   \n",
            "121                 20.60239              0.3        -0.581808   \n",
            "122                 25.80749              0.3        -0.748369   \n",
            "123                  0.17490              0.3        20.000000   \n",
            "\n",
            "     pflx_sbpl_indx2  pflx_sbpl_pivot  scat_detector_mask  scatalog     t50  \\\n",
            "0          -3.890505              100        1.110000e+07         3  10.432   \n",
            "1          -2.166489              100        1.100101e+06         3  32.768   \n",
            "2         -43.392940              100        1.100101e+06         3  78.336   \n",
            "3         -19.887240              100        1.100100e+04         3  10.240   \n",
            "4          -2.348593              100        1.100000e+10         3  32.000   \n",
            "..               ...              ...                 ...       ...     ...   \n",
            "119        -2.127320              100        1.100101e+06         3   6.656   \n",
            "120        -2.903399              100        1.000010e+05         3   9.472   \n",
            "121        -1.893260              100        1.000100e+09         3  18.752   \n",
            "122        -1.917588              100        1.110000e+07         3   6.144   \n",
            "123        -1.500665              100        1.110000e+07         5  16.640   \n",
            "\n",
            "     t50_error  t50_start  \n",
            "0        0.429      3.520  \n",
            "1        1.379     10.048  \n",
            "2        1.056      0.768  \n",
            "3        3.238     10.240  \n",
            "4        0.724      6.656  \n",
            "..         ...        ...  \n",
            "119      1.493     -0.256  \n",
            "120      0.572      6.656  \n",
            "121      1.747      3.008  \n",
            "122      0.362      3.584  \n",
            "123      0.362     11.264  \n",
            "\n",
            "[124 rows x 62 columns]\n"
          ]
        }
      ]
    },
    {
      "cell_type": "code",
      "source": [
        "# Save the cleaned dataset to a CSV file in Google Colab\n",
        "file_path = '/content/cleaned_GBM_data.csv'\n",
        "X_cleaned.to_csv(file_path, index=False)"
      ],
      "metadata": {
        "id": "85SqOxVjrH07"
      },
      "execution_count": 6,
      "outputs": []
    }
  ]
}